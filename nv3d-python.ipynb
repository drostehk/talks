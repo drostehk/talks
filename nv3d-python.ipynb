{
 "cells": [
  {
   "cell_type": "markdown",
   "metadata": {},
   "source": [
    "<H2>nvd3 IPython integration demo</H2>\n",
    "\n",
    "For more information on nvd3, see https://github.com/areski/python-nvd3\n",
    "\n",
    "This notebook demonstrates simple ipython compatibility in the nvd3-python package, without making any\n",
    "major modifications to how the main package is structured.  It utilizes the IPython display-formatter functionality, as described at:\n",
    "\n",
    "http://nbviewer.ipython.org/github/ipython/ipython/blob/master/examples/notebooks/Custom%20Display%20Logic.ipynb\n",
    "\n",
    "For additional examples, see:\n",
    "\n",
    "https://github.com/sympy/sympy/blob/master/sympy/interactive/printing.py\n",
    "\n",
    "Usage of nvd3-python in IPython notebook should be the same as any other IPython-aware display type.  In any IPython interface which supports HTML views, nvd3-python will display nvd3 chart objects inline.\n"
   ]
  },
  {
   "cell_type": "code",
   "execution_count": 1,
   "metadata": {
    "collapsed": false,
    "run_control": {
     "breakpoint": false,
     "read_only": false
    }
   },
   "outputs": [
    {
     "name": "stdout",
     "output_type": "stream",
     "text": [
      "loaded nvd3 IPython extension\n",
      "run nvd3.ipynb.initialize_javascript() to set up the notebook\n",
      "help(nvd3.ipynb.initialize_javascript) for options\n"
     ]
    },
    {
     "data": {
      "text/html": [
       "<link media=\"all\" href=\"https://cdnjs.cloudflare.com/ajax/libs/nvd3/1.7.0/nv.d3.min.css\" type=\"text/css\"\n",
       "                        rel=\"stylesheet\"/>"
      ],
      "text/plain": [
       "<IPython.core.display.HTML object>"
      ]
     },
     "metadata": {},
     "output_type": "display_data"
    },
    {
     "data": {
      "application/javascript": [
       "$.getScript(\"https://cdnjs.cloudflare.com/ajax/libs/nvd3/1.7.0/nv.d3.min.js\")"
      ],
      "text/plain": [
       "<IPython.core.display.Javascript object>"
      ]
     },
     "metadata": {},
     "output_type": "display_data"
    },
    {
     "data": {
      "application/javascript": [
       "$.getScript(\"https://cdnjs.cloudflare.com/ajax/libs/d3/3.5.5/d3.min.js\", function() {\n",
       "                              $.getScript(\"https://cdnjs.cloudflare.com/ajax/libs/nvd3/1.7.0/nv.d3.min.js\", function() {})});"
      ],
      "text/plain": [
       "<IPython.core.display.Javascript object>"
      ]
     },
     "metadata": {},
     "output_type": "display_data"
    },
    {
     "data": {
      "text/html": [
       "<script src=\"https://cdnjs.cloudflare.com/ajax/libs/d3/3.5.5/d3.min.js\"></script>"
      ],
      "text/plain": [
       "<IPython.core.display.HTML object>"
      ]
     },
     "metadata": {},
     "output_type": "display_data"
    },
    {
     "data": {
      "text/html": [
       "<script src=\"https://cdnjs.cloudflare.com/ajax/libs/nvd3/1.7.0/nv.d3.min.js\"></script>"
      ],
      "text/plain": [
       "<IPython.core.display.HTML object>"
      ]
     },
     "metadata": {},
     "output_type": "display_data"
    }
   ],
   "source": [
    "import random\n",
    "from IPython import display as d\n",
    "import nvd3\n",
    "nvd3.ipynb.initialize_javascript(use_remote=True)"
   ]
  },
  {
   "cell_type": "markdown",
   "metadata": {},
   "source": [
    "Note that the javascript packages for display of nvd3 charts must be loaded into the IPython notebook before charts will display.  By default, these are loaded from http://notebook-hostname:port/files/ - this is the default location where IPython 1.x serves files that are in the local working directory.  For normal usage, the preferred approach is to download d3.v3.js, nv.d3.js, and nv.d3.css and place them in your notebook working directory.\n",
    "\n",
    "However, if we want the notebook to display correctly when using http://nbviewer.ipython.org we must point to remotely hosted versions of the nvd3 and d3 javascript and css files.  Use_remote=true does just this, with the additional capability to individually define the URLs for each file (or use the defaults)."
   ]
  },
  {
   "cell_type": "code",
   "execution_count": 2,
   "metadata": {
    "collapsed": false,
    "run_control": {
     "breakpoint": false,
     "read_only": false
    }
   },
   "outputs": [
    {
     "name": "stdout",
     "output_type": "stream",
     "text": [
      "Help on function initialize_javascript in module nvd3.ipynb:\n",
      "\n",
      "initialize_javascript(d3_js_url='https://cdnjs.cloudflare.com/ajax/libs/d3/3.5.5/d3.min.js', nvd3_js_url='https://cdnjs.cloudflare.com/ajax/libs/nvd3/1.7.0/nv.d3.min.js', nvd3_css_url='https://cdnjs.cloudflare.com/ajax/libs/nvd3/1.7.0/nv.d3.min.css', use_remote=False)\n",
      "    Initialize the ipython notebook to be able to display nvd3 results.\n",
      "    by instructing IPython to load the nvd3 JS and css files, and the d3 JS file.\n",
      "    \n",
      "    by default, it looks for the files in your IPython Notebook working directory.\n",
      "    \n",
      "    Takes the following options:\n",
      "    \n",
      "    use_remote: use remote hosts for d3.js, nvd3.js, and nv.d3.css (default False)\n",
      "    * Note:  the following options are ignored if use_remote is False:\n",
      "    nvd3_css_url: location of nvd3 css file (default https://cdnjs.cloudflare.com/ajax/libs/nvd3/1.7.0/nv.d3.min.css)\n",
      "    nvd3_js_url: location of nvd3 javascript file (default  https://cdnjs.cloudflare.com/ajax/libs/nvd3/1.7.0/nv.d3.min.css)\n",
      "    d3_js_url: location of d3 javascript file (default https://cdnjs.cloudflare.com/ajax/libs/d3/3.5.5/d3.min.js)\n",
      "\n"
     ]
    },
    {
     "data": {
      "text/html": [
       "<link media=\"all\" href=\"https://cdnjs.cloudflare.com/ajax/libs/nvd3/1.7.0/nv.d3.min.css\" type=\"text/css\"\n",
       "                        rel=\"stylesheet\"/>"
      ],
      "text/plain": [
       "<IPython.core.display.HTML object>"
      ]
     },
     "metadata": {},
     "output_type": "display_data"
    },
    {
     "data": {
      "application/javascript": [
       "$.getScript(\"https://cdnjs.cloudflare.com/ajax/libs/nvd3/1.7.0/nv.d3.min.js\")"
      ],
      "text/plain": [
       "<IPython.core.display.Javascript object>"
      ]
     },
     "metadata": {},
     "output_type": "display_data"
    },
    {
     "data": {
      "application/javascript": [
       "$.getScript(\"https://cdnjs.cloudflare.com/ajax/libs/d3/3.5.5/d3.min.js\", function() {\n",
       "                              $.getScript(\"https://cdnjs.cloudflare.com/ajax/libs/nvd3/1.7.0/nv.d3.min.js\", function() {})});"
      ],
      "text/plain": [
       "<IPython.core.display.Javascript object>"
      ]
     },
     "metadata": {},
     "output_type": "display_data"
    },
    {
     "data": {
      "text/html": [
       "<script src=\"https://cdnjs.cloudflare.com/ajax/libs/d3/3.5.5/d3.min.js\"></script>"
      ],
      "text/plain": [
       "<IPython.core.display.HTML object>"
      ]
     },
     "metadata": {},
     "output_type": "display_data"
    },
    {
     "data": {
      "text/html": [
       "<script src=\"https://cdnjs.cloudflare.com/ajax/libs/nvd3/1.7.0/nv.d3.min.js\"></script>"
      ],
      "text/plain": [
       "<IPython.core.display.HTML object>"
      ]
     },
     "metadata": {},
     "output_type": "display_data"
    }
   ],
   "source": [
    "help(nvd3.ipynb.initialize_javascript)\n",
    "nvd3.ipynb.initialize_javascript(use_remote=True)"
   ]
  },
  {
   "cell_type": "markdown",
   "metadata": {},
   "source": [
    "** Stacked Area Chart **\n",
    "\n",
    "Here, we create a simple stacked area chart.\n",
    "\n",
    "Note that there is a potential bug with ipython display of the interactive guideline - the amount of space <i>above</i> the chart affects the placement of the tooltip when viewed in IPython notebook.  A simple workaround is to display the chart at the top of the notebook, rather than lower like we see here."
   ]
  },
  {
   "cell_type": "code",
   "execution_count": 6,
   "metadata": {
    "collapsed": false,
    "run_control": {
     "breakpoint": false,
     "read_only": false
    }
   },
   "outputs": [
    {
     "data": {
      "text/html": [
       "<!DOCTYPE html>\n",
       "<html lang=\"en\">\n",
       "    <head>\n",
       "        <meta charset=\"utf-8\" />\n",
       "        <link href=\"https://cdnjs.cloudflare.com/ajax/libs/nvd3/1.7.0/nv.d3.min.css\" rel=\"stylesheet\" />\n",
       "        <script src=\"https://cdnjs.cloudflare.com/ajax/libs/d3/3.5.5/d3.min.js\"></script>\n",
       "        <script src=\"https://cdnjs.cloudflare.com/ajax/libs/nvd3/1.7.0/nv.d3.min.js\"></script>\n",
       "    </head>\n",
       "    <body>\n",
       "        \n",
       "    <div id=\"stackedareachart\"><svg style=\"width:500px;height:450px;\"></svg></div>\n",
       "\n",
       "\n",
       "    <script>\n",
       "\n",
       "\n",
       "            data_stackedareachart=[{\"values\": [{\"y\": 0, \"x\": 0}, {\"y\": 10, \"x\": 1}, {\"y\": 8, \"x\": 2}, {\"y\": 18, \"x\": 3}, {\"y\": 8, \"x\": 4}, {\"y\": 5, \"x\": 5}, {\"y\": 24, \"x\": 6}, {\"y\": 28, \"x\": 7}, {\"y\": 64, \"x\": 8}, {\"y\": 90, \"x\": 9}, {\"y\": 80, \"x\": 10}, {\"y\": 55, \"x\": 11}, {\"y\": 72, \"x\": 12}, {\"y\": 26, \"x\": 13}, {\"y\": 70, \"x\": 14}, {\"y\": 60, \"x\": 15}, {\"y\": 128, \"x\": 16}, {\"y\": 68, \"x\": 17}, {\"y\": 72, \"x\": 18}, {\"y\": 95, \"x\": 19}, {\"y\": 180, \"x\": 20}, {\"y\": 63, \"x\": 21}, {\"y\": 22, \"x\": 22}, {\"y\": 69, \"x\": 23}, {\"y\": 216, \"x\": 24}, {\"y\": 50, \"x\": 25}, {\"y\": 156, \"x\": 26}, {\"y\": 108, \"x\": 27}, {\"y\": 28, \"x\": 28}, {\"y\": 145, \"x\": 29}, {\"y\": 180, \"x\": 30}, {\"y\": 279, \"x\": 31}, {\"y\": 32, \"x\": 32}, {\"y\": 198, \"x\": 33}, {\"y\": 272, \"x\": 34}, {\"y\": 175, \"x\": 35}, {\"y\": 324, \"x\": 36}, {\"y\": 74, \"x\": 37}, {\"y\": 380, \"x\": 38}, {\"y\": 195, \"x\": 39}, {\"y\": 120, \"x\": 40}, {\"y\": 205, \"x\": 41}, {\"y\": 126, \"x\": 42}, {\"y\": 43, \"x\": 43}, {\"y\": 88, \"x\": 44}, {\"y\": 90, \"x\": 45}, {\"y\": 368, \"x\": 46}, {\"y\": 94, \"x\": 47}, {\"y\": 384, \"x\": 48}, {\"y\": 245, \"x\": 49}], \"key\": \"serie 1\", \"yAxis\": \"1\"}, {\"values\": [{\"y\": 0, \"x\": 0}, {\"y\": 20, \"x\": 1}, {\"y\": 16, \"x\": 2}, {\"y\": 36, \"x\": 3}, {\"y\": 16, \"x\": 4}, {\"y\": 10, \"x\": 5}, {\"y\": 48, \"x\": 6}, {\"y\": 56, \"x\": 7}, {\"y\": 128, \"x\": 8}, {\"y\": 180, \"x\": 9}, {\"y\": 160, \"x\": 10}, {\"y\": 110, \"x\": 11}, {\"y\": 144, \"x\": 12}, {\"y\": 52, \"x\": 13}, {\"y\": 140, \"x\": 14}, {\"y\": 120, \"x\": 15}, {\"y\": 256, \"x\": 16}, {\"y\": 136, \"x\": 17}, {\"y\": 144, \"x\": 18}, {\"y\": 190, \"x\": 19}, {\"y\": 360, \"x\": 20}, {\"y\": 126, \"x\": 21}, {\"y\": 44, \"x\": 22}, {\"y\": 138, \"x\": 23}, {\"y\": 432, \"x\": 24}, {\"y\": 100, \"x\": 25}, {\"y\": 312, \"x\": 26}, {\"y\": 216, \"x\": 27}, {\"y\": 56, \"x\": 28}, {\"y\": 290, \"x\": 29}, {\"y\": 360, \"x\": 30}, {\"y\": 558, \"x\": 31}, {\"y\": 64, \"x\": 32}, {\"y\": 396, \"x\": 33}, {\"y\": 544, \"x\": 34}, {\"y\": 350, \"x\": 35}, {\"y\": 648, \"x\": 36}, {\"y\": 148, \"x\": 37}, {\"y\": 760, \"x\": 38}, {\"y\": 390, \"x\": 39}, {\"y\": 240, \"x\": 40}, {\"y\": 410, \"x\": 41}, {\"y\": 252, \"x\": 42}, {\"y\": 86, \"x\": 43}, {\"y\": 176, \"x\": 44}, {\"y\": 180, \"x\": 45}, {\"y\": 736, \"x\": 46}, {\"y\": 188, \"x\": 47}, {\"y\": 768, \"x\": 48}, {\"y\": 490, \"x\": 49}], \"key\": \"serie 2\", \"yAxis\": \"1\"}, {\"values\": [{\"y\": 0, \"x\": 0}, {\"y\": 50, \"x\": 1}, {\"y\": 40, \"x\": 2}, {\"y\": 90, \"x\": 3}, {\"y\": 40, \"x\": 4}, {\"y\": 25, \"x\": 5}, {\"y\": 120, \"x\": 6}, {\"y\": 140, \"x\": 7}, {\"y\": 320, \"x\": 8}, {\"y\": 450, \"x\": 9}, {\"y\": 400, \"x\": 10}, {\"y\": 275, \"x\": 11}, {\"y\": 360, \"x\": 12}, {\"y\": 130, \"x\": 13}, {\"y\": 350, \"x\": 14}, {\"y\": 300, \"x\": 15}, {\"y\": 640, \"x\": 16}, {\"y\": 340, \"x\": 17}, {\"y\": 360, \"x\": 18}, {\"y\": 475, \"x\": 19}, {\"y\": 900, \"x\": 20}, {\"y\": 315, \"x\": 21}, {\"y\": 110, \"x\": 22}, {\"y\": 345, \"x\": 23}, {\"y\": 1080, \"x\": 24}, {\"y\": 250, \"x\": 25}, {\"y\": 780, \"x\": 26}, {\"y\": 540, \"x\": 27}, {\"y\": 140, \"x\": 28}, {\"y\": 725, \"x\": 29}, {\"y\": 900, \"x\": 30}, {\"y\": 1395, \"x\": 31}, {\"y\": 160, \"x\": 32}, {\"y\": 990, \"x\": 33}, {\"y\": 1360, \"x\": 34}, {\"y\": 875, \"x\": 35}, {\"y\": 1620, \"x\": 36}, {\"y\": 370, \"x\": 37}, {\"y\": 1900, \"x\": 38}, {\"y\": 975, \"x\": 39}, {\"y\": 600, \"x\": 40}, {\"y\": 1025, \"x\": 41}, {\"y\": 630, \"x\": 42}, {\"y\": 215, \"x\": 43}, {\"y\": 440, \"x\": 44}, {\"y\": 450, \"x\": 45}, {\"y\": 1840, \"x\": 46}, {\"y\": 470, \"x\": 47}, {\"y\": 1920, \"x\": 48}, {\"y\": 1225, \"x\": 49}], \"key\": \"serie 3\", \"yAxis\": \"1\"}];\n",
       "\n",
       "    nv.addGraph(function() {\n",
       "        var chart = nv.models.stackedAreaChart().useInteractiveGuideline(true);\n",
       "\n",
       "        chart.margin({top: 30, right: 60, bottom: 20, left: 60});\n",
       "\n",
       "        var datum = data_stackedareachart;\n",
       "\n",
       "\n",
       "\n",
       "\n",
       "            chart.xAxis\n",
       "                .tickFormat(d3.format(',.2f'));\n",
       "            chart.yAxis\n",
       "                .tickFormat(d3.format(',.2f'));\n",
       "\n",
       "\n",
       "      chart.showLegend(true);\n",
       "\n",
       "\n",
       "\n",
       "        \n",
       "\n",
       "\n",
       "        d3.select('#stackedareachart svg')\n",
       "            .datum(datum)\n",
       "            .transition().duration(500)\n",
       "            .attr('width', 500)\n",
       "            .attr('height', 450)\n",
       "            .call(chart);\n",
       "\n",
       "\n",
       "    });\n",
       "\n",
       "\n",
       "\n",
       "    </script>\n",
       "\n",
       "    </body>\n",
       "</html>"
      ],
      "text/plain": [
       "<nvd3.stackedAreaChart.stackedAreaChart at 0x7f59201aa110>"
      ]
     },
     "execution_count": 6,
     "metadata": {},
     "output_type": "execute_result"
    }
   ],
   "source": [
    "type = 'stackedAreaChart'\n",
    "chart2 = nvd3.stackedAreaChart(name=type,height=450,width=500, \n",
    "                               use_interactive_guideline=True)\n",
    "nb_element = 50\n",
    "xdata = range(nb_element)\n",
    "ydata = [i * random.randint(1, 10) for i in range(nb_element)]\n",
    "ydata2 = [x * 2 for x in ydata]\n",
    "ydata3 = [x * 5 for x in ydata]\n",
    "chart2.add_serie(name=\"serie 1\", y=ydata, x=xdata)\n",
    "chart2.add_serie(name=\"serie 2\", y=ydata2, x=xdata)\n",
    "chart2.add_serie(name=\"serie 3\", y=ydata3, x=xdata)\n",
    "chart2\n"
   ]
  },
  {
   "cell_type": "code",
   "execution_count": 8,
   "metadata": {
    "collapsed": false,
    "run_control": {
     "breakpoint": false,
     "read_only": false
    }
   },
   "outputs": [
    {
     "data": {
      "text/html": [
       "<!DOCTYPE html>\n",
       "<html lang=\"en\">\n",
       "    <head>\n",
       "        <meta charset=\"utf-8\" />\n",
       "        <link href=\"https://cdnjs.cloudflare.com/ajax/libs/nvd3/1.7.0/nv.d3.min.css\" rel=\"stylesheet\" />\n",
       "        <script src=\"https://cdnjs.cloudflare.com/ajax/libs/d3/3.5.5/d3.min.js\"></script>\n",
       "        <script src=\"https://cdnjs.cloudflare.com/ajax/libs/nvd3/1.7.0/nv.d3.min.js\"></script>\n",
       "    </head>\n",
       "    <body>\n",
       "        \n",
       "    <div id=\"scatterchart_1\"><svg style=\"width:600px;height:300px;\"></svg></div>\n",
       "\n",
       "\n",
       "    <script>\n",
       "\n",
       "\n",
       "\n",
       "            data_scatterchart_1=[{\"values\": [{\"y\": 0, \"x\": 7, \"shape\": \"circle\", \"size\": \"1\"}, {\"y\": 7, \"x\": 2, \"shape\": \"circle\", \"size\": \"1\"}, {\"y\": 18, \"x\": 6, \"shape\": \"circle\", \"size\": \"1\"}, {\"y\": 27, \"x\": 7, \"shape\": \"circle\", \"size\": \"1\"}, {\"y\": 8, \"x\": 7, \"shape\": \"circle\", \"size\": \"1\"}, {\"y\": 50, \"x\": 7, \"shape\": \"circle\", \"size\": \"1\"}, {\"y\": 12, \"x\": 7, \"shape\": \"circle\", \"size\": \"1\"}, {\"y\": 35, \"x\": 13, \"shape\": \"circle\", \"size\": \"1\"}, {\"y\": 72, \"x\": 12, \"shape\": \"circle\", \"size\": \"1\"}, {\"y\": 18, \"x\": 11, \"shape\": \"circle\", \"size\": \"1\"}, {\"y\": 60, \"x\": 20, \"shape\": \"circle\", \"size\": \"1\"}, {\"y\": 66, \"x\": 16, \"shape\": \"circle\", \"size\": \"1\"}, {\"y\": 84, \"x\": 14, \"shape\": \"circle\", \"size\": \"1\"}, {\"y\": 130, \"x\": 20, \"shape\": \"circle\", \"size\": \"1\"}, {\"y\": 14, \"x\": 19, \"shape\": \"circle\", \"size\": \"1\"}, {\"y\": 30, \"x\": 21, \"shape\": \"circle\", \"size\": \"1\"}, {\"y\": 96, \"x\": 18, \"shape\": \"circle\", \"size\": \"1\"}, {\"y\": 68, \"x\": 24, \"shape\": \"circle\", \"size\": \"1\"}, {\"y\": 72, \"x\": 21, \"shape\": \"circle\", \"size\": \"1\"}, {\"y\": 114, \"x\": 27, \"shape\": \"circle\", \"size\": \"1\"}, {\"y\": 80, \"x\": 22, \"shape\": \"circle\", \"size\": \"1\"}, {\"y\": 63, \"x\": 24, \"shape\": \"circle\", \"size\": \"1\"}, {\"y\": 154, \"x\": 27, \"shape\": \"circle\", \"size\": \"1\"}, {\"y\": 207, \"x\": 32, \"shape\": \"circle\", \"size\": \"1\"}, {\"y\": 144, \"x\": 25, \"shape\": \"circle\", \"size\": \"1\"}, {\"y\": 100, \"x\": 35, \"shape\": \"circle\", \"size\": \"1\"}, {\"y\": 104, \"x\": 29, \"shape\": \"circle\", \"size\": \"1\"}, {\"y\": 270, \"x\": 32, \"shape\": \"circle\", \"size\": \"1\"}, {\"y\": 168, \"x\": 34, \"shape\": \"circle\", \"size\": \"1\"}, {\"y\": 87, \"x\": 33, \"shape\": \"circle\", \"size\": \"1\"}, {\"y\": 60, \"x\": 36, \"shape\": \"circle\", \"size\": \"1\"}, {\"y\": 279, \"x\": 38, \"shape\": \"circle\", \"size\": \"1\"}, {\"y\": 256, \"x\": 42, \"shape\": \"circle\", \"size\": \"1\"}, {\"y\": 132, \"x\": 37, \"shape\": \"circle\", \"size\": \"1\"}, {\"y\": 34, \"x\": 42, \"shape\": \"circle\", \"size\": \"1\"}, {\"y\": 280, \"x\": 41, \"shape\": \"circle\", \"size\": \"1\"}, {\"y\": 360, \"x\": 43, \"shape\": \"circle\", \"size\": \"1\"}, {\"y\": 296, \"x\": 46, \"shape\": \"circle\", \"size\": \"1\"}, {\"y\": 114, \"x\": 40, \"shape\": \"circle\", \"size\": \"1\"}, {\"y\": 234, \"x\": 46, \"shape\": \"circle\", \"size\": \"1\"}, {\"y\": 160, \"x\": 50, \"shape\": \"circle\", \"size\": \"1\"}, {\"y\": 410, \"x\": 48, \"shape\": \"circle\", \"size\": \"1\"}, {\"y\": 336, \"x\": 52, \"shape\": \"circle\", \"size\": \"1\"}, {\"y\": 129, \"x\": 53, \"shape\": \"circle\", \"size\": \"1\"}, {\"y\": 220, \"x\": 45, \"shape\": \"circle\", \"size\": \"1\"}, {\"y\": 45, \"x\": 51, \"shape\": \"circle\", \"size\": \"1\"}, {\"y\": 414, \"x\": 49, \"shape\": \"circle\", \"size\": \"1\"}, {\"y\": 470, \"x\": 51, \"shape\": \"circle\", \"size\": \"1\"}, {\"y\": 480, \"x\": 51, \"shape\": \"circle\", \"size\": \"1\"}, {\"y\": 490, \"x\": 55, \"shape\": \"circle\", \"size\": \"1\"}], \"key\": \"serie 1\", \"yAxis\": \"1\"}, {\"values\": [{\"y\": 0, \"x\": 7, \"shape\": \"cross\", \"size\": \"10\"}, {\"y\": 14, \"x\": 2, \"shape\": \"cross\", \"size\": \"10\"}, {\"y\": 36, \"x\": 6, \"shape\": \"cross\", \"size\": \"10\"}, {\"y\": 54, \"x\": 7, \"shape\": \"cross\", \"size\": \"10\"}, {\"y\": 16, \"x\": 7, \"shape\": \"cross\", \"size\": \"10\"}, {\"y\": 100, \"x\": 7, \"shape\": \"cross\", \"size\": \"10\"}, {\"y\": 24, \"x\": 7, \"shape\": \"cross\", \"size\": \"10\"}, {\"y\": 70, \"x\": 13, \"shape\": \"cross\", \"size\": \"10\"}, {\"y\": 144, \"x\": 12, \"shape\": \"cross\", \"size\": \"10\"}, {\"y\": 36, \"x\": 11, \"shape\": \"cross\", \"size\": \"10\"}, {\"y\": 120, \"x\": 20, \"shape\": \"cross\", \"size\": \"10\"}, {\"y\": 132, \"x\": 16, \"shape\": \"cross\", \"size\": \"10\"}, {\"y\": 168, \"x\": 14, \"shape\": \"cross\", \"size\": \"10\"}, {\"y\": 260, \"x\": 20, \"shape\": \"cross\", \"size\": \"10\"}, {\"y\": 28, \"x\": 19, \"shape\": \"cross\", \"size\": \"10\"}, {\"y\": 60, \"x\": 21, \"shape\": \"cross\", \"size\": \"10\"}, {\"y\": 192, \"x\": 18, \"shape\": \"cross\", \"size\": \"10\"}, {\"y\": 136, \"x\": 24, \"shape\": \"cross\", \"size\": \"10\"}, {\"y\": 144, \"x\": 21, \"shape\": \"cross\", \"size\": \"10\"}, {\"y\": 228, \"x\": 27, \"shape\": \"cross\", \"size\": \"10\"}, {\"y\": 160, \"x\": 22, \"shape\": \"cross\", \"size\": \"10\"}, {\"y\": 126, \"x\": 24, \"shape\": \"cross\", \"size\": \"10\"}, {\"y\": 308, \"x\": 27, \"shape\": \"cross\", \"size\": \"10\"}, {\"y\": 414, \"x\": 32, \"shape\": \"cross\", \"size\": \"10\"}, {\"y\": 288, \"x\": 25, \"shape\": \"cross\", \"size\": \"10\"}, {\"y\": 200, \"x\": 35, \"shape\": \"cross\", \"size\": \"10\"}, {\"y\": 208, \"x\": 29, \"shape\": \"cross\", \"size\": \"10\"}, {\"y\": 540, \"x\": 32, \"shape\": \"cross\", \"size\": \"10\"}, {\"y\": 336, \"x\": 34, \"shape\": \"cross\", \"size\": \"10\"}, {\"y\": 174, \"x\": 33, \"shape\": \"cross\", \"size\": \"10\"}, {\"y\": 120, \"x\": 36, \"shape\": \"cross\", \"size\": \"10\"}, {\"y\": 558, \"x\": 38, \"shape\": \"cross\", \"size\": \"10\"}, {\"y\": 512, \"x\": 42, \"shape\": \"cross\", \"size\": \"10\"}, {\"y\": 264, \"x\": 37, \"shape\": \"cross\", \"size\": \"10\"}, {\"y\": 68, \"x\": 42, \"shape\": \"cross\", \"size\": \"10\"}, {\"y\": 560, \"x\": 41, \"shape\": \"cross\", \"size\": \"10\"}, {\"y\": 720, \"x\": 43, \"shape\": \"cross\", \"size\": \"10\"}, {\"y\": 592, \"x\": 46, \"shape\": \"cross\", \"size\": \"10\"}, {\"y\": 228, \"x\": 40, \"shape\": \"cross\", \"size\": \"10\"}, {\"y\": 468, \"x\": 46, \"shape\": \"cross\", \"size\": \"10\"}, {\"y\": 320, \"x\": 50, \"shape\": \"cross\", \"size\": \"10\"}, {\"y\": 820, \"x\": 48, \"shape\": \"cross\", \"size\": \"10\"}, {\"y\": 672, \"x\": 52, \"shape\": \"cross\", \"size\": \"10\"}, {\"y\": 258, \"x\": 53, \"shape\": \"cross\", \"size\": \"10\"}, {\"y\": 440, \"x\": 45, \"shape\": \"cross\", \"size\": \"10\"}, {\"y\": 90, \"x\": 51, \"shape\": \"cross\", \"size\": \"10\"}, {\"y\": 828, \"x\": 49, \"shape\": \"cross\", \"size\": \"10\"}, {\"y\": 940, \"x\": 51, \"shape\": \"cross\", \"size\": \"10\"}, {\"y\": 960, \"x\": 51, \"shape\": \"cross\", \"size\": \"10\"}, {\"y\": 980, \"x\": 55, \"shape\": \"cross\", \"size\": \"10\"}], \"key\": \"serie 2\", \"yAxis\": \"1\"}, {\"values\": [{\"y\": 0, \"x\": 7, \"shape\": \"triangle-up\", \"size\": \"100\"}, {\"y\": 35, \"x\": 2, \"shape\": \"triangle-up\", \"size\": \"100\"}, {\"y\": 90, \"x\": 6, \"shape\": \"triangle-up\", \"size\": \"100\"}, {\"y\": 135, \"x\": 7, \"shape\": \"triangle-up\", \"size\": \"100\"}, {\"y\": 40, \"x\": 7, \"shape\": \"triangle-up\", \"size\": \"100\"}, {\"y\": 250, \"x\": 7, \"shape\": \"triangle-up\", \"size\": \"100\"}, {\"y\": 60, \"x\": 7, \"shape\": \"triangle-up\", \"size\": \"100\"}, {\"y\": 175, \"x\": 13, \"shape\": \"triangle-up\", \"size\": \"100\"}, {\"y\": 360, \"x\": 12, \"shape\": \"triangle-up\", \"size\": \"100\"}, {\"y\": 90, \"x\": 11, \"shape\": \"triangle-up\", \"size\": \"100\"}, {\"y\": 300, \"x\": 20, \"shape\": \"triangle-up\", \"size\": \"100\"}, {\"y\": 330, \"x\": 16, \"shape\": \"triangle-up\", \"size\": \"100\"}, {\"y\": 420, \"x\": 14, \"shape\": \"triangle-up\", \"size\": \"100\"}, {\"y\": 650, \"x\": 20, \"shape\": \"triangle-up\", \"size\": \"100\"}, {\"y\": 70, \"x\": 19, \"shape\": \"triangle-up\", \"size\": \"100\"}, {\"y\": 150, \"x\": 21, \"shape\": \"triangle-up\", \"size\": \"100\"}, {\"y\": 480, \"x\": 18, \"shape\": \"triangle-up\", \"size\": \"100\"}, {\"y\": 340, \"x\": 24, \"shape\": \"triangle-up\", \"size\": \"100\"}, {\"y\": 360, \"x\": 21, \"shape\": \"triangle-up\", \"size\": \"100\"}, {\"y\": 570, \"x\": 27, \"shape\": \"triangle-up\", \"size\": \"100\"}, {\"y\": 400, \"x\": 22, \"shape\": \"triangle-up\", \"size\": \"100\"}, {\"y\": 315, \"x\": 24, \"shape\": \"triangle-up\", \"size\": \"100\"}, {\"y\": 770, \"x\": 27, \"shape\": \"triangle-up\", \"size\": \"100\"}, {\"y\": 1035, \"x\": 32, \"shape\": \"triangle-up\", \"size\": \"100\"}, {\"y\": 720, \"x\": 25, \"shape\": \"triangle-up\", \"size\": \"100\"}, {\"y\": 500, \"x\": 35, \"shape\": \"triangle-up\", \"size\": \"100\"}, {\"y\": 520, \"x\": 29, \"shape\": \"triangle-up\", \"size\": \"100\"}, {\"y\": 1350, \"x\": 32, \"shape\": \"triangle-up\", \"size\": \"100\"}, {\"y\": 840, \"x\": 34, \"shape\": \"triangle-up\", \"size\": \"100\"}, {\"y\": 435, \"x\": 33, \"shape\": \"triangle-up\", \"size\": \"100\"}, {\"y\": 300, \"x\": 36, \"shape\": \"triangle-up\", \"size\": \"100\"}, {\"y\": 1395, \"x\": 38, \"shape\": \"triangle-up\", \"size\": \"100\"}, {\"y\": 1280, \"x\": 42, \"shape\": \"triangle-up\", \"size\": \"100\"}, {\"y\": 660, \"x\": 37, \"shape\": \"triangle-up\", \"size\": \"100\"}, {\"y\": 170, \"x\": 42, \"shape\": \"triangle-up\", \"size\": \"100\"}, {\"y\": 1400, \"x\": 41, \"shape\": \"triangle-up\", \"size\": \"100\"}, {\"y\": 1800, \"x\": 43, \"shape\": \"triangle-up\", \"size\": \"100\"}, {\"y\": 1480, \"x\": 46, \"shape\": \"triangle-up\", \"size\": \"100\"}, {\"y\": 570, \"x\": 40, \"shape\": \"triangle-up\", \"size\": \"100\"}, {\"y\": 1170, \"x\": 46, \"shape\": \"triangle-up\", \"size\": \"100\"}, {\"y\": 800, \"x\": 50, \"shape\": \"triangle-up\", \"size\": \"100\"}, {\"y\": 2050, \"x\": 48, \"shape\": \"triangle-up\", \"size\": \"100\"}, {\"y\": 1680, \"x\": 52, \"shape\": \"triangle-up\", \"size\": \"100\"}, {\"y\": 645, \"x\": 53, \"shape\": \"triangle-up\", \"size\": \"100\"}, {\"y\": 1100, \"x\": 45, \"shape\": \"triangle-up\", \"size\": \"100\"}, {\"y\": 225, \"x\": 51, \"shape\": \"triangle-up\", \"size\": \"100\"}, {\"y\": 2070, \"x\": 49, \"shape\": \"triangle-up\", \"size\": \"100\"}, {\"y\": 2350, \"x\": 51, \"shape\": \"triangle-up\", \"size\": \"100\"}, {\"y\": 2400, \"x\": 51, \"shape\": \"triangle-up\", \"size\": \"100\"}, {\"y\": 2450, \"x\": 55, \"shape\": \"triangle-up\", \"size\": \"100\"}], \"key\": \"serie 3\", \"yAxis\": \"1\"}];\n",
       "\n",
       "\n",
       "        nv.addGraph(function() {\n",
       "        var chart = nv.models.scatterChart();\n",
       "\n",
       "        chart.margin({top: 30, right: 60, bottom: 20, left: 60});\n",
       "\n",
       "        var datum = data_scatterchart_1;\n",
       "\n",
       "\n",
       "\n",
       "                chart.xAxis\n",
       "                .tickFormat(d3.format(',.02f'));\n",
       "            chart.yAxis\n",
       "                .tickFormat(d3.format(',.02f'));\n",
       "\n",
       "\n",
       "\n",
       "          chart.showLegend(true);\n",
       "\n",
       "\n",
       "    \n",
       "\n",
       "        \n",
       "\n",
       "\n",
       "\n",
       "\n",
       "    chart\n",
       "        .showDistX(true)\n",
       "        .showDistY(true)\n",
       "        .color(d3.scale.category10().range());\n",
       "\n",
       "            d3.select('#scatterchart_1 svg')\n",
       "            .datum(datum)\n",
       "            .transition().duration(500)\n",
       "            .attr('width', 600)\n",
       "            .attr('height', 300)\n",
       "            .call(chart);\n",
       "\n",
       "\n",
       "        });\n",
       "\n",
       "\n",
       "\n",
       "    </script>\n",
       "\n",
       "    </body>\n",
       "</html>"
      ],
      "text/plain": [
       "<nvd3.scatterChart.scatterChart at 0x7f59201aa210>"
      ]
     },
     "execution_count": 8,
     "metadata": {},
     "output_type": "execute_result"
    }
   ],
   "source": [
    "chart = nvd3.scatterChart(name='scatterChart_1', width=600, height=300, x_is_date=False)\n",
    "nb_element = 50\n",
    "xdata = [i + random.randint(1, 10) for i in range(nb_element)]\n",
    "ydata = [i * random.randint(1, 10) for i in range(nb_element)]\n",
    "ydata2 = [x * 2 for x in ydata]\n",
    "ydata3 = [x * 5 for x in ydata]\n",
    "\n",
    "kwargs1 = {'shape': 'circle', 'size': '1'}\n",
    "kwargs2 = {'shape': 'cross', 'size': '10'}\n",
    "kwargs3 = {'shape': 'triangle-up', 'size': '100'}\n",
    "\n",
    "extra_serie = {\"tooltip\": {\"y_start\": \"\", \"y_end\": \" calls\"}}\n",
    "chart.add_serie(name=\"serie 1\", y=ydata, x=xdata, extra=extra_serie, **kwargs1)\n",
    "chart.add_serie(name=\"serie 2\", y=ydata2, x=xdata, extra=extra_serie, **kwargs2)\n",
    "chart.add_serie(name=\"serie 3\", y=ydata3, x=xdata, extra=extra_serie, **kwargs3)\n",
    "chart"
   ]
  },
  {
   "cell_type": "code",
   "execution_count": 9,
   "metadata": {
    "collapsed": false,
    "run_control": {
     "breakpoint": false,
     "read_only": false
    }
   },
   "outputs": [
    {
     "data": {
      "text/html": [
       "<!DOCTYPE html>\n",
       "<html lang=\"en\">\n",
       "    <head>\n",
       "        <meta charset=\"utf-8\" />\n",
       "        <link href=\"https://cdnjs.cloudflare.com/ajax/libs/nvd3/1.7.0/nv.d3.min.css\" rel=\"stylesheet\" />\n",
       "        <script src=\"https://cdnjs.cloudflare.com/ajax/libs/d3/3.5.5/d3.min.js\"></script>\n",
       "        <script src=\"https://cdnjs.cloudflare.com/ajax/libs/nvd3/1.7.0/nv.d3.min.js\"></script>\n",
       "    </head>\n",
       "    <body>\n",
       "        \n",
       "    \n",
       "\n",
       "<h2>pieChart</h2>\n",
       "\n",
       "<div id=\"piechart\"><svg style=\"width:450px;height:450px;\"></svg></div>\n",
       "\n",
       "\n",
       "    <script>\n",
       "\n",
       "\n",
       "\n",
       "    data_piechart=[{\"values\": [{\"value\": 3, \"label\": \"Orange\"}, {\"value\": 4, \"label\": \"Banana\"}, {\"value\": 0, \"label\": \"Pear\"}, {\"value\": 1, \"label\": \"Kiwi\"}, {\"value\": 5, \"label\": \"Apple\"}, {\"value\": 7, \"label\": \"Strawberry\"}, {\"value\": 3, \"label\": \"Pineapple\"}], \"key\": \"Serie 1\"}];\n",
       "\n",
       "    nv.addGraph(function() {\n",
       "        var chart = nv.models.pieChart();\n",
       "        chart.margin({top: 30, right: 60, bottom: 20, left: 60});\n",
       "        var datum = data_piechart[0].values;\n",
       "\n",
       "    chart.tooltipContent(function(key, y, e, graph) {\n",
       "          var x = String(key);\n",
       "              var y =  String(y)  + ' cal';\n",
       "\n",
       "              tooltip_str = '<center><b>'+x+'</b></center>' + y;\n",
       "              return tooltip_str;\n",
       "              });\n",
       "        chart.showLabels(true);\n",
       "\n",
       "            chart.donut(false);\n",
       "\n",
       "    chart.showLegend(true);\n",
       "\n",
       "\n",
       "\n",
       "\n",
       "        chart\n",
       "            .x(function(d) { return d.label })\n",
       "            .y(function(d) { return d.value });\n",
       "\n",
       "        chart.width(450);\n",
       "\n",
       "        chart.height(450);\n",
       "\n",
       "\n",
       "            d3.select('#piechart svg')\n",
       "            .datum(datum)\n",
       "            .transition().duration(500)\n",
       "            .attr('width', 450)\n",
       "            .attr('height', 450)\n",
       "            .call(chart);\n",
       "\n",
       "\n",
       "        });\n",
       "\n",
       "\n",
       "\n",
       "    </script>\n",
       "\n",
       "    </body>\n",
       "</html>"
      ],
      "text/plain": [
       "<nvd3.pieChart.pieChart at 0x7f591369fcd0>"
      ]
     },
     "execution_count": 9,
     "metadata": {},
     "output_type": "execute_result"
    }
   ],
   "source": [
    "type = 'pieChart'\n",
    "chart1 = nvd3.pieChart(name=type, color_category='category20c', height=450, width=450)\n",
    "chart1.set_containerheader(\"\\n\\n<h2>\" + type + \"</h2>\\n\\n\")\n",
    "\n",
    "#Create the keys\n",
    "xdata = [\"Orange\", \"Banana\", \"Pear\", \"Kiwi\", \"Apple\", \"Strawberry\", \"Pineapple\"]\n",
    "ydata = [3, 4, 0, 1, 5, 7, 3]\n",
    "\n",
    "#Add the serie\n",
    "extra_serie = {\"tooltip\": {\"y_start\": \"\", \"y_end\": \" cal\"}}\n",
    "chart1.add_serie(y=ydata, x=xdata, extra=extra_serie)\n",
    "chart1"
   ]
  },
  {
   "cell_type": "code",
   "execution_count": 10,
   "metadata": {
    "collapsed": true
   },
   "outputs": [],
   "source": [
    "#!/usr/bin/python\n",
    "# -*- coding: utf-8 -*-\n",
    "\n",
    "\"\"\"\n",
    "Examples for Python-nvd3 is a Python wrapper for NVD3 graph library.\n",
    "NVD3 is an attempt to build re-usable charts and chart components\n",
    "for d3.js without taking away the power that d3.js gives you.\n",
    "\n",
    "Project location : https://github.com/areski/python-nvd3\n",
    "\"\"\"\n",
    "\n",
    "from nvd3 import cumulativeLineChart\n",
    "from nvd3 import discreteBarChart\n",
    "from nvd3 import lineChart\n",
    "from nvd3 import linePlusBarChart\n",
    "from nvd3 import lineWithFocusChart\n",
    "from nvd3 import multiBarChart\n",
    "from nvd3 import multiBarHorizontalChart\n",
    "from nvd3 import stackedAreaChart\n",
    "from nvd3 import scatterChart\n",
    "from nvd3 import pieChart\n",
    "import random\n",
    "import datetime\n",
    "import time\n",
    "\n",
    "\n",
    "start_time = int(time.mktime(datetime.datetime(2012, 6, 1).timetuple()) * 1000)\n",
    "nb_element = 100\n",
    "\n",
    "# Open File for test\n",
    "output_file = open('test_demo_all.html', 'w')\n",
    "# ---------------------------------------\n",
    "\n",
    "html_open = \"\"\"\n",
    "<!DOCTYPE html>\n",
    "<html lang=\"en\">\n",
    "<head>\n",
    "    <script src=\"https://ajax.googleapis.com/ajax/libs/jquery/1.10.2/jquery.min.js\"></script>\n",
    "    <link href=\"https://cdnjs.cloudflare.com/ajax/libs/nvd3/1.7.0/nv.d3.min.css\" rel=\"stylesheet\" />\n",
    "    <script src=\"https://cdnjs.cloudflare.com/ajax/libs/d3/3.5.5/d3.min.js\"></script>\n",
    "    <script src=\"https://cdnjs.cloudflare.com/ajax/libs/nvd3/1.7.0/nv.d3.min.js\"></script>\n",
    "</head>\n",
    "\"\"\"\n",
    "\n",
    "\n",
    "output_file.write(html_open)\n",
    "\n",
    "type = \"discreteBarChart\"\n",
    "chart = discreteBarChart(name='my graphname', height=400, width=800, jquery_on_ready=True)\n",
    "chart.set_containerheader(\"\\n\\n<h2>\" + type + \"</h2>\\n\\n\")\n",
    "xdata = [\"A\", \"B\", \"C\", \"D\", \"E\", \"F\", \"G\"]\n",
    "ydata = [3, 12, -10, 5, 25, -7, 2]\n",
    "\n",
    "extra_serie = {\"tooltip\": {\"y_start\": \"\", \"y_end\": \" cal\"}}\n",
    "chart.add_serie(y=ydata, x=xdata, extra=extra_serie)\n",
    "\n",
    "chart.buildcontent()\n",
    "output_file.write(chart.htmlcontent)\n",
    "# ---------------------------------------\n",
    "\n",
    "type = \"pie Chart\"\n",
    "chart = pieChart(name=type, color_category='category20c', height=400,\n",
    "                 width=400, jquery_on_ready=True)\n",
    "chart.set_containerheader(\"\\n\\n<h2>\" + type + \"</h2>\\n\\n\")\n",
    "\n",
    "color_list = ['orange', 'yellow', '#C5E946', '#95b43f', 'red', '#FF2259', '#F6A641']\n",
    "extra_serie = {\"tooltip\": {\"y_start\": \"\", \"y_end\": \" cal\"}, \"color_list\": color_list}\n",
    "xdata = [\"Orange\", \"Banana\", \"Pear\", \"Kiwi\", \"Apple\", \"Strawberry\", \"Pineapple\"]\n",
    "ydata = [3, 4, 2, 1, 5, 7, 3]\n",
    "\n",
    "chart.add_serie(y=ydata, x=xdata, extra=extra_serie)\n",
    "chart.buildcontent()\n",
    "output_file.write(chart.htmlcontent)\n",
    "# ---------------------------------------\n",
    "\n",
    "name = \"lineChart-different-x-axis\"\n",
    "type = \"lineChart\"\n",
    "chart = lineChart(name=name, height=400, width=800, x_is_date=False,\n",
    "                  jquery_on_ready=True)\n",
    "\n",
    "chart.set_containerheader(\"\\n\\n<h2>\" + name + \"</h2>\\n\\n\")\n",
    "xdata = [1 + x * 2 for x in list(range(nb_element))]\n",
    "xdata10 = [0 + x * 2 for x in list(range(nb_element))]\n",
    "ydata = [i + random.randint(1, 10) for i in range(nb_element)]\n",
    "ydata2 = [x * 2 for x in ydata]\n",
    "\n",
    "#Configure a color for a specific serie\n",
    "kwargs1 = {'color': 'green'}\n",
    "kwargs2 = {'color': 'red'}\n",
    "\n",
    "extra_serie = {\"tooltip\": {\"y_start\": \"There is \", \"y_end\": \" odd\"}}\n",
    "chart.add_serie(name=\"Odd X-Axis\", y=ydata, x=xdata, extra=extra_serie, **kwargs1)\n",
    "extra_serie = {\"tooltip\": {\"y_start\": \"\", \"y_end\": \" even\"}}\n",
    "chart.add_serie(name=\"Even X-Axis\", y=ydata2, x=xdata10, extra=extra_serie, **kwargs2)\n",
    "\n",
    "chart.buildcontent()\n",
    "\n",
    "output_file.write(chart.htmlcontent)\n",
    "# ---------------------------------------\n",
    "\n",
    "type = \"lineChart\"\n",
    "chart = lineChart(height=400, width=800, x_is_date=True, x_axis_format=\"%d %b %Y %H\",\n",
    "                  jquery_on_ready=True)\n",
    "\n",
    "chart.set_containerheader(\"\\n\\n<h2>\" + type + \"</h2>\\n\\n\")\n",
    "xdata = list(range(nb_element))\n",
    "xdata = [start_time + x * 1000000000 for x in xdata]\n",
    "ydata = [i + random.randint(1, 10) for i in range(nb_element)]\n",
    "ydata2 = [x * 2 for x in ydata]\n",
    "\n",
    "# Configure a color for a specific serie\n",
    "kwargs1 = {'color': 'green'}\n",
    "kwargs2 = {'color': 'red'}\n",
    "\n",
    "extra_serie = {\"tooltip\": {\"y_start\": \"There is \", \"y_end\": \" calls\"},\n",
    "               \"date_format\": \"%d %b %Y %I:%M:%S %p\"}\n",
    "chart.add_serie(name=\"Count\", y=ydata, x=xdata, extra=extra_serie, **kwargs1)\n",
    "extra_serie = {\"tooltip\": {\"y_start\": \"\", \"y_end\": \" min\"}}\n",
    "chart.add_serie(name=\"Duration\", y=ydata2, x=xdata, extra=extra_serie, **kwargs2)\n",
    "\n",
    "chart.buildcontent()\n",
    "\n",
    "output_file.write(chart.htmlcontent)\n",
    "# ---------------------------------------\n",
    "\n",
    "type = \"lineChartWithInteractiveGuideline\"\n",
    "chart = lineChart(name=\"lineChart-With-Interactive-Guideline\",\n",
    "                  height=400, width=800, x_is_date=True, x_axis_format=\"%d %b %Y %H\",\n",
    "                  jquery_on_ready=True, use_interactive_guideline=True)\n",
    "\n",
    "chart.set_containerheader(\"\\n\\n<h2>\" + type + \"</h2>\\n\\n\")\n",
    "xdata = list(range(nb_element))\n",
    "xdata = [start_time + x * 1000000000 for x in xdata]\n",
    "ydata = [i + random.randint(1, 10) for i in range(nb_element)]\n",
    "ydata2 = [x * 2 for x in ydata]\n",
    "\n",
    "# Configure a color for a specific serie\n",
    "kwargs1 = {'color': 'green'}\n",
    "kwargs2 = {'color': 'red'}\n",
    "\n",
    "extra_serie = {\"tooltip\": {\"y_start\": \"There is \", \"y_end\": \" calls\"},\n",
    "               \"date_format\": \"%d %b %Y %I:%M:%S %p\"}\n",
    "chart.add_serie(name=\"Count\", y=ydata, x=xdata, extra=extra_serie, **kwargs1)\n",
    "extra_serie = {\"tooltip\": {\"y_start\": \"\", \"y_end\": \" min\"}}\n",
    "chart.add_serie(name=\"Duration\", y=ydata2, x=xdata, extra=extra_serie, **kwargs2)\n",
    "\n",
    "chart.buildcontent()\n",
    "\n",
    "output_file.write(chart.htmlcontent)\n",
    "# ---------------------------------------\n",
    "\n",
    "type = \"lineWithFocusChart\"\n",
    "chart = lineWithFocusChart(color_category='category20b', x_is_date=True,\n",
    "                           height=400, width=800,\n",
    "                           x_axis_format=\"%d %b %Y\", jquery_on_ready=True)\n",
    "chart.set_containerheader(\"\\n\\n<h2>\" + type + \"</h2>\\n\\n\")\n",
    "\n",
    "xdata = list(range(nb_element))\n",
    "xdata = [start_time + x * 1000000000 for x in xdata]\n",
    "ydata = [i + random.randint(-10, 10) for i in list(range(nb_element))]\n",
    "\n",
    "ydata2 = [x * 2 for x in ydata]\n",
    "ydata3 = [x * 3 for x in ydata]\n",
    "ydata4 = [x * 4 for x in ydata]\n",
    "\n",
    "extra_serie = {\"tooltip\": {\"y_start\": \"There is \", \"y_end\": \" calls\"},\n",
    "               \"date_format\": \"%d %b %Y %I:%M:%S\"}\n",
    "# extra_serie = None\n",
    "chart.add_serie(name=\"serie 1\", y=ydata, x=xdata, extra=extra_serie)\n",
    "chart.add_serie(name=\"serie 2\", y=ydata2, x=xdata, extra=extra_serie)\n",
    "chart.add_serie(name=\"serie 3\", y=ydata3, x=xdata, extra=extra_serie)\n",
    "chart.add_serie(name=\"serie 4\", y=ydata4, x=xdata, extra=extra_serie)\n",
    "\n",
    "chart.buildcontent()\n",
    "\n",
    "output_file.write(chart.htmlcontent)\n",
    "\n",
    "# ---------------------------------------\n",
    "\n",
    "type = \"stackedAreaChart\"\n",
    "chart = stackedAreaChart(height=400, width=800, x_is_date=True,\n",
    "                         x_axis_format=\"%d %b %Y %I\", jquery_on_ready=True)\n",
    "chart.set_containerheader(\"\\n\\n<h2>\" + type + \"</h2>\\n\\n\")\n",
    "\n",
    "xdata = list(range(nb_element))\n",
    "xdata = [start_time + x * 1000000000 for x in xdata]\n",
    "ydata = [i + random.randint(1, 10) for i in list(range(nb_element))]\n",
    "ydata2 = [x * 2 for x in ydata]\n",
    "\n",
    "extra_serie = {\"tooltip\": {\"y_start\": \"There is \", \"y_end\": \" calls\"},\n",
    "               \"date_format\": \"%d %b %Y %I:%M:%S %p\"}\n",
    "chart.add_serie(name=\"serie 1\", y=ydata, x=xdata, extra=extra_serie)\n",
    "chart.add_serie(name=\"serie 2\", y=ydata2, x=xdata, extra=extra_serie)\n",
    "\n",
    "chart.buildcontent()\n",
    "\n",
    "output_file.write(chart.htmlcontent)\n",
    "# ---------------------------------------\n",
    "\n",
    "type = \"linePlusBarChart\"\n",
    "chart = linePlusBarChart(height=400, width=800, x_is_date=True,\n",
    "                         x_axis_format=\"%d %b %Y\", jquery_on_ready=True,\n",
    "                         focus_enable=True)\n",
    "chart.set_containerheader(\"\\n\\n<h2>\" + type + \"</h2>\\n\\n\")\n",
    "\n",
    "xdata = list(range(nb_element))\n",
    "xdata = [start_time + x * 1000000000 for x in xdata]\n",
    "ydata = [i + random.randint(1, 10) for i in range(nb_element)]\n",
    "ydata2 = [i + random.randint(1, 10) for i in reversed(list(range(nb_element)))]\n",
    "kwargs = {}\n",
    "kwargs['bar'] = True\n",
    "extra_serie = {\"tooltip\": {\"y_start\": \"$ \", \"y_end\": \"\"}}\n",
    "chart.add_serie(name=\"Count\", y=ydata, x=xdata, extra=extra_serie, **kwargs)\n",
    "extra_serie = {\"tooltip\": {\"y_start\": \"\", \"y_end\": \" min\"}}\n",
    "chart.add_serie(name=\"Duration\", y=ydata2, x=xdata, extra=extra_serie)\n",
    "\n",
    "chart.buildcontent()\n",
    "\n",
    "output_file.write(chart.htmlcontent)\n",
    "# ---------------------------------------\n",
    "\n",
    "type = \"cumulativeLineChart\"\n",
    "chart = cumulativeLineChart(height=400, width=800,\n",
    "                            x_is_date=True, x_axis_format=\"%d %b %Y\",\n",
    "                            jquery_on_ready=True)\n",
    "chart.set_containerheader(\"\\n\\n<h2>\" + type + \"</h2>\\n\\n\")\n",
    "\n",
    "xdata = list(range(nb_element))\n",
    "xdata = [start_time + x * 1000000000 for x in xdata]\n",
    "ydata = [i + random.randint(1, 10) for i in range(nb_element)]\n",
    "ydata2 = [x * 2 for x in ydata]\n",
    "\n",
    "extra_serie = {\"tooltip\": {\"y_start\": \"\", \"y_end\": \" Calls\"}}\n",
    "chart.add_serie(name=\"Count\", y=ydata, x=xdata, extra=extra_serie)\n",
    "extra_serie = {\"tooltip\": {\"y_start\": \"\", \"y_end\": \" Min\"}}\n",
    "chart.add_serie(name=\"Duration\", y=ydata2, x=xdata, extra=extra_serie)\n",
    "\n",
    "chart.buildcontent()\n",
    "\n",
    "output_file.write(chart.htmlcontent)\n",
    "# ---------------------------------------\n",
    "\n",
    "type = \"multiBarHorizontalChart\"\n",
    "chart = multiBarHorizontalChart(height=400, width=800, jquery_on_ready=True)\n",
    "chart.set_containerheader(\"\\n\\n<h2>\" + type + \"</h2>\\n\\n\")\n",
    "\n",
    "nb_element = 10\n",
    "xdata = list(range(nb_element))\n",
    "ydata = [random.randint(-10, 10) for i in range(nb_element)]\n",
    "ydata2 = [x * 2 for x in ydata]\n",
    "extra_serie = {\"tooltip\": {\"y_start\": \"\", \"y_end\": \" Calls\"}}\n",
    "chart.add_serie(name=\"Count\", y=ydata, x=xdata, extra=extra_serie)\n",
    "extra_serie = {\"tooltip\": {\"y_start\": \"\", \"y_end\": \" Min\"}}\n",
    "chart.add_serie(name=\"Duration\", y=ydata2, x=xdata, extra=extra_serie)\n",
    "\n",
    "chart.buildcontent()\n",
    "\n",
    "output_file.write(chart.htmlcontent)\n",
    "# ---------------------------------------\n",
    "\n",
    "type = \"multiBarChart\"\n",
    "chart = multiBarChart(height=400, width=800, jquery_on_ready=True)\n",
    "chart.set_containerheader(\"\\n\\n<h2>\" + type + \"</h2>\\n\\n\")\n",
    "nb_element = 10\n",
    "xdata = list(range(nb_element))\n",
    "ydata = [random.randint(1, 10) for i in range(nb_element)]\n",
    "ydata2 = [x * 2 for x in ydata]\n",
    "\n",
    "extra_serie = {\"tooltip\": {\"y_start\": \"\", \"y_end\": \" call\"}}\n",
    "chart.add_serie(name=\"Count\", y=ydata, x=xdata, extra=extra_serie)\n",
    "extra_serie = {\"tooltip\": {\"y_start\": \"\", \"y_end\": \" min\"}}\n",
    "chart.add_serie(name=\"Duration\", y=ydata2, x=xdata, extra=extra_serie)\n",
    "chart.buildcontent()\n",
    "\n",
    "output_file.write(chart.htmlcontent)\n",
    "# ---------------------------------------\n",
    "\n",
    "type = \"multiBarChartDate\"\n",
    "chart = multiBarChart(name=type, height=400, width=800, x_is_date=True, jquery_on_ready=True)\n",
    "chart.set_containerheader(\"\\n\\n<h2>\" + type + \"</h2>\\n\\n\")\n",
    "nb_element = 100\n",
    "start_time = int(time.mktime(datetime.datetime(2012, 6, 1).timetuple()) * 1000)\n",
    "xdata = range(nb_element)\n",
    "xdata = map(lambda x: start_time + x * 1000000000, xdata)\n",
    "ydata = [i + random.randint(1, 10) for i in range(nb_element)]\n",
    "ydata2 = map(lambda x: x * 2, ydata)\n",
    "\n",
    "tooltip_date = \"%d %b %Y %H:%M:%S %p\"\n",
    "extra_serie = {\"tooltip\": {\"y_start\": \"There are \", \"y_end\": \" calls\"},\n",
    "               \"date_format\": tooltip_date}\n",
    "chart.add_serie(name=\"Count\", y=ydata, x=xdata, extra=extra_serie)\n",
    "extra_serie = {\"tooltip\": {\"y_start\": \"There are \", \"y_end\": \" duration\"},\n",
    "               \"date_format\": tooltip_date}\n",
    "chart.add_serie(name=\"Duration\", y=ydata2, x=xdata, extra=extra_serie)\n",
    "chart.buildcontent()\n",
    "\n",
    "output_file.write(chart.htmlcontent)\n",
    "# ---------------------------------------\n",
    "\n",
    "type = \"scatterChart\"\n",
    "chart = scatterChart(name=type, height=350, width=800, x_is_date=False)\n",
    "chart.set_containerheader(\"\\n\\n<h2>\" + type + \"</h2>\\n\\n\")\n",
    "nb_element = 50\n",
    "xdata = [i + random.randint(1, 10) for i in range(nb_element)]\n",
    "ydata = [i * random.randint(1, 10) for i in range(nb_element)]\n",
    "ydata2 = [x * 2 for x in ydata]\n",
    "ydata3 = [x * 5 for x in ydata]\n",
    "\n",
    "kwargs1 = {'shape': 'circle', 'size': '1'}\n",
    "kwargs2 = {'shape': 'cross', 'size': '10'}\n",
    "kwargs3 = {'shape': 'triangle-up', 'size': '100'}\n",
    "\n",
    "extra_serie = {\"tooltip\": {\"y_start\": \"\", \"y_end\": \" calls\"}}\n",
    "chart.add_serie(name=\"serie 1\", y=ydata, x=xdata, extra=extra_serie, **kwargs1)\n",
    "chart.add_serie(name=\"serie 2\", y=ydata2, x=xdata, extra=extra_serie, **kwargs2)\n",
    "chart.add_serie(name=\"serie 3\", y=ydata3, x=xdata, extra=extra_serie, **kwargs3)\n",
    "\n",
    "chart.buildcontent()\n",
    "\n",
    "output_file.write(chart.htmlcontent)\n",
    "\n",
    "# ---------------------------------------\n",
    "\n",
    "html_close = \"\"\"</body></html>\"\"\"\n",
    "output_file.write(html_close)\n",
    "\n",
    "# close Html file\n",
    "output_file.close()\n"
   ]
  },
  {
   "cell_type": "code",
   "execution_count": null,
   "metadata": {
    "collapsed": true
   },
   "outputs": [],
   "source": [
    "type = 'pieChart'\n",
    "chart1 = nvd3.pieChart(name=type, color_category='category20c', height=450, width=450)\n",
    "chart1.set_containerheader(\"\\n\\n<h2>\" + type + \"</h2>\\n\\n\")\n",
    "\n",
    "#Create the keys\n",
    "xdata = [\"Orange\", \"Banana\", \"Pear\", \"Kiwi\", \"Apple\", \"Strawberry\", \"Pineapple\"]\n",
    "ydata = [3, 4, 0, 1, 5, 7, 3]\n",
    "\n",
    "#Add the serie\n",
    "extra_serie = {\"tooltip\": {\"y_start\": \"\", \"y_end\": \" cal\"}}\n",
    "chart1.add_serie(y=ydata, x=xdata, extra=extra_serie)\n",
    "chart1"
   ]
  },
  {
   "cell_type": "code",
   "execution_count": 11,
   "metadata": {
    "collapsed": true
   },
   "outputs": [],
   "source": [
    "type = \"multiBarChartDate\"\n",
    "chart = multiBarChart(name=type, height=400, width=800, x_is_date=True, jquery_on_ready=True)\n",
    "chart.set_containerheader(\"\\n\\n<h2>\" + type + \"</h2>\\n\\n\")\n",
    "nb_element = 100\n",
    "start_time = int(time.mktime(datetime.datetime(2012, 6, 1).timetuple()) * 1000)\n",
    "xdata = range(nb_element)\n",
    "xdata = map(lambda x: start_time + x * 1000000000, xdata)\n",
    "ydata = [i + random.randint(1, 10) for i in range(nb_element)]\n",
    "ydata2 = map(lambda x: x * 2, ydata)\n",
    "\n",
    "tooltip_date = \"%d %b %Y %H:%M:%S %p\"\n",
    "extra_serie = {\"tooltip\": {\"y_start\": \"There are \", \"y_end\": \" calls\"},\n",
    "               \"date_format\": tooltip_date}\n",
    "chart.add_serie(name=\"Count\", y=ydata, x=xdata, extra=extra_serie)\n",
    "extra_serie = {\"tooltip\": {\"y_start\": \"There are \", \"y_end\": \" duration\"},\n",
    "               \"date_format\": tooltip_date}\n",
    "chart.add_serie(name=\"Duration\", y=ydata2, x=xdata, extra=extra_serie)\n",
    "chart.buildcontent()"
   ]
  }
 ],
 "metadata": {
  "kernelspec": {
   "display_name": "Python 2",
   "language": "python",
   "name": "python2"
  },
  "language_info": {
   "codemirror_mode": {
    "name": "ipython",
    "version": 2
   },
   "file_extension": ".py",
   "mimetype": "text/x-python",
   "name": "python",
   "nbconvert_exporter": "python",
   "pygments_lexer": "ipython2",
   "version": "2.7.9"
  }
 },
 "nbformat": 4,
 "nbformat_minor": 0
}
