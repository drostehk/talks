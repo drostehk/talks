{
 "cells": [
  {
   "cell_type": "markdown",
   "metadata": {},
   "source": [
    "# Developing a Colour Palette"
   ]
  },
  {
   "cell_type": "code",
   "execution_count": 3,
   "metadata": {
    "collapsed": true
   },
   "outputs": [],
   "source": [
    "%matplotlib inline"
   ]
  },
  {
   "cell_type": "code",
   "execution_count": 2,
   "metadata": {
    "collapsed": true
   },
   "outputs": [],
   "source": [
    "import seaborn as sns"
   ]
  },
  {
   "cell_type": "markdown",
   "metadata": {},
   "source": [
    "## Colorbrewer"
   ]
  },
  {
   "cell_type": "markdown",
   "metadata": {},
   "source": [
    "These palettes are built into matplotlib and can be used by name."
   ]
  },
  {
   "cell_type": "code",
   "execution_count": 19,
   "metadata": {
    "collapsed": false
   },
   "outputs": [
    {
     "data": {
      "text/plain": [
       "[(0.95755478915046244, 0.95755478915046244, 0.95755478915046244),\n",
       " (0.90120723387774304, 0.90120723387774304, 0.90120723387774304),\n",
       " (0.83289505032932054, 0.83289505032932054, 0.83289505032932054),\n",
       " (0.75021916137022127, 0.75021916137022127, 0.75021916137022127),\n",
       " (0.64341409276513495, 0.64341409276513495, 0.64341409276513495),\n",
       " (0.53871589525073182, 0.53871589525073182, 0.53871589525073182),\n",
       " (0.44032295626752516, 0.44032295626752516, 0.44032295626752516),\n",
       " (0.34288351570858677, 0.34288351570858677, 0.34288351570858677),\n",
       " (0.22329873945198808, 0.22329873945198808, 0.22329873945198808),\n",
       " (0.1046981975144031, 0.1046981975144031, 0.1046981975144031)]"
      ]
     },
     "execution_count": 19,
     "metadata": {},
     "output_type": "execute_result"
    },
    {
     "data": {
      "image/png": "[encoded data removed]",
      "text/plain": [
       "<matplotlib.figure.Figure at 0x7f987396d350>"
      ]
     },
     "metadata": {},
     "output_type": "display_data"
    }
   ],
   "source": [
    "sns.choose_colorbrewer_palette('sequential')"
   ]
  },
  {
   "cell_type": "code",
   "execution_count": 20,
   "metadata": {
    "collapsed": false
   },
   "outputs": [
    {
     "data": {
      "text/plain": [
       "[(0.69227222075649331, 0.092272204803485525, 0.16770473370949396),\n",
       " (0.83921569585800171, 0.37647059559822083, 0.30196079611778259),\n",
       " (0.95455594273174504, 0.64175319262579378, 0.5057285948126925),\n",
       " (0.99215686321258534, 0.85882353782653809, 0.78039216995239269),\n",
       " (0.96570549992954036, 0.96724336988785686, 0.96808919836493101),\n",
       " (0.81960785388946544, 0.89803922176361084, 0.94117647409439076),\n",
       " (0.56647445816619735, 0.76870435826918648, 0.8685121185639324),\n",
       " (0.26274511218070995, 0.57647061347961415, 0.76470589637756337),\n",
       " (0.12725875369620088, 0.3958477567808299, 0.66874281039424976)]"
      ]
     },
     "execution_count": 20,
     "metadata": {},
     "output_type": "execute_result"
    },
    {
     "data": {
      "image/png": "[encoded data removed]",
      "text/plain": [
       "<matplotlib.figure.Figure at 0x7f987e136d10>"
      ]
     },
     "metadata": {},
     "output_type": "display_data"
    }
   ],
   "source": [
    "sns.choose_colorbrewer_palette('diverging')"
   ]
  },
  {
   "cell_type": "code",
   "execution_count": 4,
   "metadata": {
    "collapsed": false
   },
   "outputs": [
    {
     "data": {
      "text/plain": [
       "[(0.89411765336990356, 0.10196078568696976, 0.1098039224743836),\n",
       " (0.21602460800432688, 0.49487120380588578, 0.71987698697576341),\n",
       " (0.30426760128900115, 0.68329106055054012, 0.29293349969620797),\n",
       " (0.60083047361934894, 0.30814303335021531, 0.63169552298153153),\n",
       " (1.0, 0.50591311045721454, 0.0031372549487094226),\n",
       " (0.99315647868549106, 0.98700499826786559, 0.19915417450315831),\n",
       " (0.65845446095747096, 0.34122261685483596, 0.17079585352364723),\n",
       " (0.95850826852461857, 0.50846600392285535, 0.7449288887136124),\n",
       " (0.60000002384185791, 0.60000002384185791, 0.60000002384185791)]"
      ]
     },
     "execution_count": 4,
     "metadata": {},
     "output_type": "execute_result"
    },
    {
     "data": {
      "image/png": "[encoded data removed]",
      "text/plain": [
       "<matplotlib.figure.Figure at 0x7f5ab75e3810>"
      ]
     },
     "metadata": {},
     "output_type": "display_data"
    }
   ],
   "source": [
    "sns.choose_colorbrewer_palette('qualitative')"
   ]
  },
  {
   "cell_type": "markdown",
   "metadata": {},
   "source": [
    "## Divergent"
   ]
  },
  {
   "cell_type": "markdown",
   "metadata": {},
   "source": [
    "This kind of palette is good for data that range between interesting low values and interesting high values with a meaningful midpoint. (For example, change scores relative to some baseline value)."
   ]
  },
  {
   "cell_type": "code",
   "execution_count": 5,
   "metadata": {
    "collapsed": false
   },
   "outputs": [
    {
     "data": {
      "image/png": "[encoded data removed]",
      "text/plain": [
       "<matplotlib.figure.Figure at 0x7f5ab73a6ad0>"
      ]
     },
     "metadata": {},
     "output_type": "display_data"
    }
   ],
   "source": [
    "sns.choose_diverging_palette()"
   ]
  },
  {
   "cell_type": "markdown",
   "metadata": {},
   "source": [
    "## CubeHelix"
   ]
  },
  {
   "cell_type": "markdown",
   "metadata": {},
   "source": [
    " This kind of palette is good for data that range between relatively uninteresting low values and interesting high values. The cubehelix system allows the palette to have more hue variance across the range, which can be helpful for distinguishing a wider range of values."
   ]
  },
  {
   "cell_type": "code",
   "execution_count": 6,
   "metadata": {
    "collapsed": false
   },
   "outputs": [
    {
     "data": {
      "text/plain": [
       "[[0.9312692223325372, 0.8201921796082118, 0.7971480974663592],\n",
       " [0.8888663743660877, 0.7106793139856472, 0.7158661451411206],\n",
       " [0.8314793143949643, 0.5987041921652179, 0.6530062709235388],\n",
       " [0.7588951019517731, 0.49817117746394224, 0.6058723814510268],\n",
       " [0.6672565752652589, 0.40671838146419587, 0.5620016466433286],\n",
       " [0.5529215689527474, 0.3217924564263954, 0.5093718054521851],\n",
       " [0.43082755198027817, 0.24984535814964698, 0.44393960899639856],\n",
       " [0.29794615023641036, 0.18145907625614888, 0.35317781405034754],\n",
       " [0.1750865648952205, 0.11840023306916837, 0.24215989137836502]]"
      ]
     },
     "execution_count": 6,
     "metadata": {},
     "output_type": "execute_result"
    },
    {
     "data": {
      "image/png": "[encoded data removed]",
      "text/plain": [
       "<matplotlib.figure.Figure at 0x7f5ab6d6a810>"
      ]
     },
     "metadata": {},
     "output_type": "display_data"
    }
   ],
   "source": [
    "sns.choose_cubehelix_palette()"
   ]
  }
 ],
 "metadata": {
  "kernelspec": {
   "display_name": "Python 2",
   "language": "python",
   "name": "python2"
  },
  "language_info": {
   "codemirror_mode": {
    "name": "ipython",
    "version": 2
   },
   "file_extension": ".py",
   "mimetype": "text/x-python",
   "name": "python",
   "nbconvert_exporter": "python",
   "pygments_lexer": "ipython2",
   "version": "2.7.9"
  }
 },
 "nbformat": 4,
 "nbformat_minor": 0
}
