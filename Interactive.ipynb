{
 "cells": [
  {
   "cell_type": "code",
   "execution_count": 1,
   "metadata": {
    "collapsed": false,
    "run_control": {
     "breakpoint": false,
     "read_only": false
    }
   },
   "outputs": [
    {
     "name": "stdout",
     "output_type": "stream",
     "text": [
      "loaded nvd3 IPython extension\n",
      "run nvd3.ipynb.initialize_javascript() to set up the notebook\n",
      "help(nvd3.ipynb.initialize_javascript) for options\n"
     ]
    },
    {
     "data": {
      "text/html": [
       "<link media=\"all\" href=\"https://cdnjs.cloudflare.com/ajax/libs/nvd3/1.7.0/nv.d3.min.css\" type=\"text/css\"\n",
       "                        rel=\"stylesheet\"/>"
      ],
      "text/plain": [
       "<IPython.core.display.HTML object>"
      ]
     },
     "metadata": {},
     "output_type": "display_data"
    },
    {
     "data": {
      "application/javascript": [
       "$.getScript(\"https://cdnjs.cloudflare.com/ajax/libs/nvd3/1.7.0/nv.d3.min.js\")"
      ],
      "text/plain": [
       "<IPython.core.display.Javascript object>"
      ]
     },
     "metadata": {},
     "output_type": "display_data"
    },
    {
     "data": {
      "application/javascript": [
       "$.getScript(\"https://cdnjs.cloudflare.com/ajax/libs/d3/3.5.5/d3.min.js\", function() {\n",
       "                              $.getScript(\"https://cdnjs.cloudflare.com/ajax/libs/nvd3/1.7.0/nv.d3.min.js\", function() {})});"
      ],
      "text/plain": [
       "<IPython.core.display.Javascript object>"
      ]
     },
     "metadata": {},
     "output_type": "display_data"
    },
    {
     "data": {
      "text/html": [
       "<script src=\"https://cdnjs.cloudflare.com/ajax/libs/d3/3.5.5/d3.min.js\"></script>"
      ],
      "text/plain": [
       "<IPython.core.display.HTML object>"
      ]
     },
     "metadata": {},
     "output_type": "display_data"
    },
    {
     "data": {
      "text/html": [
       "<script src=\"https://cdnjs.cloudflare.com/ajax/libs/nvd3/1.7.0/nv.d3.min.js\"></script>"
      ],
      "text/plain": [
       "<IPython.core.display.HTML object>"
      ]
     },
     "metadata": {},
     "output_type": "display_data"
    }
   ],
   "source": [
    "import random\n",
    "from IPython import display as d\n",
    "import nvd3\n",
    "nvd3.ipynb.initialize_javascript(use_remote=True)"
   ]
  },
  {
   "cell_type": "code",
   "execution_count": 5,
   "metadata": {
    "collapsed": false
   },
   "outputs": [
    {
     "data": {
      "text/html": [
       "<!DOCTYPE html>\n",
       "<html lang=\"en\">\n",
       "    <head>\n",
       "        <meta charset=\"utf-8\" />\n",
       "        <link href=\"https://cdnjs.cloudflare.com/ajax/libs/nvd3/1.7.0/nv.d3.min.css\" rel=\"stylesheet\" />\n",
       "        <script src=\"https://cdnjs.cloudflare.com/ajax/libs/d3/3.5.5/d3.min.js\"></script>\n",
       "        <script src=\"https://cdnjs.cloudflare.com/ajax/libs/nvd3/1.7.0/nv.d3.min.js\"></script>\n",
       "    </head>\n",
       "    <body>\n",
       "        \n",
       "    \n",
       "\n",
       "<h2>pieChart</h2>\n",
       "\n",
       "<div id=\"piechart\"><svg style=\"width:450px;height:450px;\"></svg></div>\n",
       "\n",
       "\n",
       "    <script>\n",
       "\n",
       "\n",
       "\n",
       "    data_piechart=[{\"values\": [{\"value\": 3, \"label\": \"Orange\"}, {\"value\": 4, \"label\": \"Banana\"}, {\"value\": 0, \"label\": \"Pear\"}, {\"value\": 1, \"label\": \"Kiwi\"}, {\"value\": 5, \"label\": \"Apple\"}, {\"value\": 7, \"label\": \"Strawberry\"}, {\"value\": 3, \"label\": \"Pineapple\"}], \"key\": \"Serie 1\"}];\n",
       "\n",
       "    nv.addGraph(function() {\n",
       "        var chart = nv.models.pieChart();\n",
       "        chart.margin({top: 30, right: 60, bottom: 20, left: 60});\n",
       "        var datum = data_piechart[0].values;\n",
       "\n",
       "    chart.tooltipContent(function(key, y, e, graph) {\n",
       "          var x = String(key);\n",
       "              var y =  String(y)  + ' cal';\n",
       "\n",
       "              tooltip_str = '<center><b>'+x+'</b></center>' + y;\n",
       "              return tooltip_str;\n",
       "              });\n",
       "        chart.showLabels(true);\n",
       "\n",
       "            chart.donut(false);\n",
       "\n",
       "    chart.showLegend(true);\n",
       "\n",
       "\n",
       "\n",
       "\n",
       "        chart\n",
       "            .x(function(d) { return d.label })\n",
       "            .y(function(d) { return d.value });\n",
       "\n",
       "        chart.width(450);\n",
       "\n",
       "        chart.height(450);\n",
       "\n",
       "\n",
       "            d3.select('#piechart svg')\n",
       "            .datum(datum)\n",
       "            .transition().duration(500)\n",
       "            .attr('width', 450)\n",
       "            .attr('height', 450)\n",
       "            .call(chart);\n",
       "\n",
       "\n",
       "        });\n",
       "\n",
       "\n",
       "\n",
       "    </script>\n",
       "\n",
       "    </body>\n",
       "</html>"
      ],
      "text/plain": [
       "<nvd3.pieChart.pieChart at 0x7f218b052cd0>"
      ]
     },
     "execution_count": 5,
     "metadata": {},
     "output_type": "execute_result"
    }
   ],
   "source": [
    "type = 'pieChart'\n",
    "chart1 = nvd3.pieChart(name=type, color_category='category20c', height=450, width=450)\n",
    "chart1.set_containerheader(\"\\n\\n<h2>\" + type + \"</h2>\\n\\n\")\n",
    "\n",
    "#Create the keys\n",
    "xdata = [\"Orange\", \"Banana\", \"Pear\", \"Kiwi\", \"Apple\", \"Strawberry\", \"Pineapple\"]\n",
    "ydata = [3, 4, 0, 1, 5, 7, 3]\n",
    "\n",
    "#Add the serie\n",
    "extra_serie = {\"tooltip\": {\"y_start\": \"\", \"y_end\": \" cal\"}}\n",
    "chart1.add_serie(y=ydata, x=xdata, extra=extra_serie)\n",
    "chart1"
   ]
  },
  {
   "cell_type": "code",
   "execution_count": 6,
   "metadata": {
    "collapsed": false
   },
   "outputs": [
    {
     "data": {
      "text/html": [
       "<!DOCTYPE html>\n",
       "<html lang=\"en\">\n",
       "    <head>\n",
       "        <meta charset=\"utf-8\" />\n",
       "        <link href=\"https://cdnjs.cloudflare.com/ajax/libs/nvd3/1.7.0/nv.d3.min.css\" rel=\"stylesheet\" />\n",
       "        <script src=\"https://cdnjs.cloudflare.com/ajax/libs/d3/3.5.5/d3.min.js\"></script>\n",
       "        <script src=\"https://cdnjs.cloudflare.com/ajax/libs/nvd3/1.7.0/nv.d3.min.js\"></script>\n",
       "    </head>\n",
       "    <body>\n",
       "        \n",
       "    <div id=\"scatterchart_1\"><svg style=\"width:600px;height:300px;\"></svg></div>\n",
       "\n",
       "\n",
       "    <script>\n",
       "\n",
       "\n",
       "\n",
       "            data_scatterchart_1=[{\"values\": [{\"y\": 0, \"x\": 3, \"shape\": \"circle\", \"size\": \"1\"}, {\"y\": 6, \"x\": 9, \"shape\": \"circle\", \"size\": \"1\"}, {\"y\": 12, \"x\": 4, \"shape\": \"circle\", \"size\": \"1\"}, {\"y\": 27, \"x\": 12, \"shape\": \"circle\", \"size\": \"1\"}, {\"y\": 8, \"x\": 11, \"shape\": \"circle\", \"size\": \"1\"}, {\"y\": 30, \"x\": 10, \"shape\": \"circle\", \"size\": \"1\"}, {\"y\": 12, \"x\": 11, \"shape\": \"circle\", \"size\": \"1\"}, {\"y\": 70, \"x\": 12, \"shape\": \"circle\", \"size\": \"1\"}, {\"y\": 16, \"x\": 9, \"shape\": \"circle\", \"size\": \"1\"}, {\"y\": 36, \"x\": 12, \"shape\": \"circle\", \"size\": \"1\"}, {\"y\": 70, \"x\": 11, \"shape\": \"circle\", \"size\": \"1\"}, {\"y\": 110, \"x\": 19, \"shape\": \"circle\", \"size\": \"1\"}, {\"y\": 24, \"x\": 16, \"shape\": \"circle\", \"size\": \"1\"}, {\"y\": 117, \"x\": 22, \"shape\": \"circle\", \"size\": \"1\"}, {\"y\": 126, \"x\": 18, \"shape\": \"circle\", \"size\": \"1\"}, {\"y\": 90, \"x\": 24, \"shape\": \"circle\", \"size\": \"1\"}, {\"y\": 16, \"x\": 23, \"shape\": \"circle\", \"size\": \"1\"}, {\"y\": 102, \"x\": 22, \"shape\": \"circle\", \"size\": \"1\"}, {\"y\": 90, \"x\": 28, \"shape\": \"circle\", \"size\": \"1\"}, {\"y\": 19, \"x\": 26, \"shape\": \"circle\", \"size\": \"1\"}, {\"y\": 180, \"x\": 27, \"shape\": \"circle\", \"size\": \"1\"}, {\"y\": 189, \"x\": 24, \"shape\": \"circle\", \"size\": \"1\"}, {\"y\": 132, \"x\": 24, \"shape\": \"circle\", \"size\": \"1\"}, {\"y\": 92, \"x\": 33, \"shape\": \"circle\", \"size\": \"1\"}, {\"y\": 144, \"x\": 30, \"shape\": \"circle\", \"size\": \"1\"}, {\"y\": 25, \"x\": 26, \"shape\": \"circle\", \"size\": \"1\"}, {\"y\": 156, \"x\": 27, \"shape\": \"circle\", \"size\": \"1\"}, {\"y\": 189, \"x\": 34, \"shape\": \"circle\", \"size\": \"1\"}, {\"y\": 28, \"x\": 37, \"shape\": \"circle\", \"size\": \"1\"}, {\"y\": 116, \"x\": 33, \"shape\": \"circle\", \"size\": \"1\"}, {\"y\": 150, \"x\": 39, \"shape\": \"circle\", \"size\": \"1\"}, {\"y\": 93, \"x\": 32, \"shape\": \"circle\", \"size\": \"1\"}, {\"y\": 160, \"x\": 34, \"shape\": \"circle\", \"size\": \"1\"}, {\"y\": 330, \"x\": 42, \"shape\": \"circle\", \"size\": \"1\"}, {\"y\": 306, \"x\": 40, \"shape\": \"circle\", \"size\": \"1\"}, {\"y\": 175, \"x\": 38, \"shape\": \"circle\", \"size\": \"1\"}, {\"y\": 288, \"x\": 46, \"shape\": \"circle\", \"size\": \"1\"}, {\"y\": 74, \"x\": 45, \"shape\": \"circle\", \"size\": \"1\"}, {\"y\": 152, \"x\": 39, \"shape\": \"circle\", \"size\": \"1\"}, {\"y\": 273, \"x\": 45, \"shape\": \"circle\", \"size\": \"1\"}, {\"y\": 120, \"x\": 44, \"shape\": \"circle\", \"size\": \"1\"}, {\"y\": 41, \"x\": 51, \"shape\": \"circle\", \"size\": \"1\"}, {\"y\": 126, \"x\": 52, \"shape\": \"circle\", \"size\": \"1\"}, {\"y\": 387, \"x\": 50, \"shape\": \"circle\", \"size\": \"1\"}, {\"y\": 308, \"x\": 49, \"shape\": \"circle\", \"size\": \"1\"}, {\"y\": 450, \"x\": 50, \"shape\": \"circle\", \"size\": \"1\"}, {\"y\": 322, \"x\": 47, \"shape\": \"circle\", \"size\": \"1\"}, {\"y\": 423, \"x\": 48, \"shape\": \"circle\", \"size\": \"1\"}, {\"y\": 48, \"x\": 53, \"shape\": \"circle\", \"size\": \"1\"}, {\"y\": 147, \"x\": 59, \"shape\": \"circle\", \"size\": \"1\"}], \"key\": \"serie 1\", \"yAxis\": \"1\"}, {\"values\": [{\"y\": 0, \"x\": 3, \"shape\": \"cross\", \"size\": \"10\"}, {\"y\": 12, \"x\": 9, \"shape\": \"cross\", \"size\": \"10\"}, {\"y\": 24, \"x\": 4, \"shape\": \"cross\", \"size\": \"10\"}, {\"y\": 54, \"x\": 12, \"shape\": \"cross\", \"size\": \"10\"}, {\"y\": 16, \"x\": 11, \"shape\": \"cross\", \"size\": \"10\"}, {\"y\": 60, \"x\": 10, \"shape\": \"cross\", \"size\": \"10\"}, {\"y\": 24, \"x\": 11, \"shape\": \"cross\", \"size\": \"10\"}, {\"y\": 140, \"x\": 12, \"shape\": \"cross\", \"size\": \"10\"}, {\"y\": 32, \"x\": 9, \"shape\": \"cross\", \"size\": \"10\"}, {\"y\": 72, \"x\": 12, \"shape\": \"cross\", \"size\": \"10\"}, {\"y\": 140, \"x\": 11, \"shape\": \"cross\", \"size\": \"10\"}, {\"y\": 220, \"x\": 19, \"shape\": \"cross\", \"size\": \"10\"}, {\"y\": 48, \"x\": 16, \"shape\": \"cross\", \"size\": \"10\"}, {\"y\": 234, \"x\": 22, \"shape\": \"cross\", \"size\": \"10\"}, {\"y\": 252, \"x\": 18, \"shape\": \"cross\", \"size\": \"10\"}, {\"y\": 180, \"x\": 24, \"shape\": \"cross\", \"size\": \"10\"}, {\"y\": 32, \"x\": 23, \"shape\": \"cross\", \"size\": \"10\"}, {\"y\": 204, \"x\": 22, \"shape\": \"cross\", \"size\": \"10\"}, {\"y\": 180, \"x\": 28, \"shape\": \"cross\", \"size\": \"10\"}, {\"y\": 38, \"x\": 26, \"shape\": \"cross\", \"size\": \"10\"}, {\"y\": 360, \"x\": 27, \"shape\": \"cross\", \"size\": \"10\"}, {\"y\": 378, \"x\": 24, \"shape\": \"cross\", \"size\": \"10\"}, {\"y\": 264, \"x\": 24, \"shape\": \"cross\", \"size\": \"10\"}, {\"y\": 184, \"x\": 33, \"shape\": \"cross\", \"size\": \"10\"}, {\"y\": 288, \"x\": 30, \"shape\": \"cross\", \"size\": \"10\"}, {\"y\": 50, \"x\": 26, \"shape\": \"cross\", \"size\": \"10\"}, {\"y\": 312, \"x\": 27, \"shape\": \"cross\", \"size\": \"10\"}, {\"y\": 378, \"x\": 34, \"shape\": \"cross\", \"size\": \"10\"}, {\"y\": 56, \"x\": 37, \"shape\": \"cross\", \"size\": \"10\"}, {\"y\": 232, \"x\": 33, \"shape\": \"cross\", \"size\": \"10\"}, {\"y\": 300, \"x\": 39, \"shape\": \"cross\", \"size\": \"10\"}, {\"y\": 186, \"x\": 32, \"shape\": \"cross\", \"size\": \"10\"}, {\"y\": 320, \"x\": 34, \"shape\": \"cross\", \"size\": \"10\"}, {\"y\": 660, \"x\": 42, \"shape\": \"cross\", \"size\": \"10\"}, {\"y\": 612, \"x\": 40, \"shape\": \"cross\", \"size\": \"10\"}, {\"y\": 350, \"x\": 38, \"shape\": \"cross\", \"size\": \"10\"}, {\"y\": 576, \"x\": 46, \"shape\": \"cross\", \"size\": \"10\"}, {\"y\": 148, \"x\": 45, \"shape\": \"cross\", \"size\": \"10\"}, {\"y\": 304, \"x\": 39, \"shape\": \"cross\", \"size\": \"10\"}, {\"y\": 546, \"x\": 45, \"shape\": \"cross\", \"size\": \"10\"}, {\"y\": 240, \"x\": 44, \"shape\": \"cross\", \"size\": \"10\"}, {\"y\": 82, \"x\": 51, \"shape\": \"cross\", \"size\": \"10\"}, {\"y\": 252, \"x\": 52, \"shape\": \"cross\", \"size\": \"10\"}, {\"y\": 774, \"x\": 50, \"shape\": \"cross\", \"size\": \"10\"}, {\"y\": 616, \"x\": 49, \"shape\": \"cross\", \"size\": \"10\"}, {\"y\": 900, \"x\": 50, \"shape\": \"cross\", \"size\": \"10\"}, {\"y\": 644, \"x\": 47, \"shape\": \"cross\", \"size\": \"10\"}, {\"y\": 846, \"x\": 48, \"shape\": \"cross\", \"size\": \"10\"}, {\"y\": 96, \"x\": 53, \"shape\": \"cross\", \"size\": \"10\"}, {\"y\": 294, \"x\": 59, \"shape\": \"cross\", \"size\": \"10\"}], \"key\": \"serie 2\", \"yAxis\": \"1\"}, {\"values\": [{\"y\": 0, \"x\": 3, \"shape\": \"triangle-up\", \"size\": \"100\"}, {\"y\": 30, \"x\": 9, \"shape\": \"triangle-up\", \"size\": \"100\"}, {\"y\": 60, \"x\": 4, \"shape\": \"triangle-up\", \"size\": \"100\"}, {\"y\": 135, \"x\": 12, \"shape\": \"triangle-up\", \"size\": \"100\"}, {\"y\": 40, \"x\": 11, \"shape\": \"triangle-up\", \"size\": \"100\"}, {\"y\": 150, \"x\": 10, \"shape\": \"triangle-up\", \"size\": \"100\"}, {\"y\": 60, \"x\": 11, \"shape\": \"triangle-up\", \"size\": \"100\"}, {\"y\": 350, \"x\": 12, \"shape\": \"triangle-up\", \"size\": \"100\"}, {\"y\": 80, \"x\": 9, \"shape\": \"triangle-up\", \"size\": \"100\"}, {\"y\": 180, \"x\": 12, \"shape\": \"triangle-up\", \"size\": \"100\"}, {\"y\": 350, \"x\": 11, \"shape\": \"triangle-up\", \"size\": \"100\"}, {\"y\": 550, \"x\": 19, \"shape\": \"triangle-up\", \"size\": \"100\"}, {\"y\": 120, \"x\": 16, \"shape\": \"triangle-up\", \"size\": \"100\"}, {\"y\": 585, \"x\": 22, \"shape\": \"triangle-up\", \"size\": \"100\"}, {\"y\": 630, \"x\": 18, \"shape\": \"triangle-up\", \"size\": \"100\"}, {\"y\": 450, \"x\": 24, \"shape\": \"triangle-up\", \"size\": \"100\"}, {\"y\": 80, \"x\": 23, \"shape\": \"triangle-up\", \"size\": \"100\"}, {\"y\": 510, \"x\": 22, \"shape\": \"triangle-up\", \"size\": \"100\"}, {\"y\": 450, \"x\": 28, \"shape\": \"triangle-up\", \"size\": \"100\"}, {\"y\": 95, \"x\": 26, \"shape\": \"triangle-up\", \"size\": \"100\"}, {\"y\": 900, \"x\": 27, \"shape\": \"triangle-up\", \"size\": \"100\"}, {\"y\": 945, \"x\": 24, \"shape\": \"triangle-up\", \"size\": \"100\"}, {\"y\": 660, \"x\": 24, \"shape\": \"triangle-up\", \"size\": \"100\"}, {\"y\": 460, \"x\": 33, \"shape\": \"triangle-up\", \"size\": \"100\"}, {\"y\": 720, \"x\": 30, \"shape\": \"triangle-up\", \"size\": \"100\"}, {\"y\": 125, \"x\": 26, \"shape\": \"triangle-up\", \"size\": \"100\"}, {\"y\": 780, \"x\": 27, \"shape\": \"triangle-up\", \"size\": \"100\"}, {\"y\": 945, \"x\": 34, \"shape\": \"triangle-up\", \"size\": \"100\"}, {\"y\": 140, \"x\": 37, \"shape\": \"triangle-up\", \"size\": \"100\"}, {\"y\": 580, \"x\": 33, \"shape\": \"triangle-up\", \"size\": \"100\"}, {\"y\": 750, \"x\": 39, \"shape\": \"triangle-up\", \"size\": \"100\"}, {\"y\": 465, \"x\": 32, \"shape\": \"triangle-up\", \"size\": \"100\"}, {\"y\": 800, \"x\": 34, \"shape\": \"triangle-up\", \"size\": \"100\"}, {\"y\": 1650, \"x\": 42, \"shape\": \"triangle-up\", \"size\": \"100\"}, {\"y\": 1530, \"x\": 40, \"shape\": \"triangle-up\", \"size\": \"100\"}, {\"y\": 875, \"x\": 38, \"shape\": \"triangle-up\", \"size\": \"100\"}, {\"y\": 1440, \"x\": 46, \"shape\": \"triangle-up\", \"size\": \"100\"}, {\"y\": 370, \"x\": 45, \"shape\": \"triangle-up\", \"size\": \"100\"}, {\"y\": 760, \"x\": 39, \"shape\": \"triangle-up\", \"size\": \"100\"}, {\"y\": 1365, \"x\": 45, \"shape\": \"triangle-up\", \"size\": \"100\"}, {\"y\": 600, \"x\": 44, \"shape\": \"triangle-up\", \"size\": \"100\"}, {\"y\": 205, \"x\": 51, \"shape\": \"triangle-up\", \"size\": \"100\"}, {\"y\": 630, \"x\": 52, \"shape\": \"triangle-up\", \"size\": \"100\"}, {\"y\": 1935, \"x\": 50, \"shape\": \"triangle-up\", \"size\": \"100\"}, {\"y\": 1540, \"x\": 49, \"shape\": \"triangle-up\", \"size\": \"100\"}, {\"y\": 2250, \"x\": 50, \"shape\": \"triangle-up\", \"size\": \"100\"}, {\"y\": 1610, \"x\": 47, \"shape\": \"triangle-up\", \"size\": \"100\"}, {\"y\": 2115, \"x\": 48, \"shape\": \"triangle-up\", \"size\": \"100\"}, {\"y\": 240, \"x\": 53, \"shape\": \"triangle-up\", \"size\": \"100\"}, {\"y\": 735, \"x\": 59, \"shape\": \"triangle-up\", \"size\": \"100\"}], \"key\": \"serie 3\", \"yAxis\": \"1\"}];\n",
       "\n",
       "\n",
       "        nv.addGraph(function() {\n",
       "        var chart = nv.models.scatterChart();\n",
       "\n",
       "        chart.margin({top: 30, right: 60, bottom: 20, left: 60});\n",
       "\n",
       "        var datum = data_scatterchart_1;\n",
       "\n",
       "\n",
       "\n",
       "                chart.xAxis\n",
       "                .tickFormat(d3.format(',.02f'));\n",
       "            chart.yAxis\n",
       "                .tickFormat(d3.format(',.02f'));\n",
       "\n",
       "\n",
       "\n",
       "          chart.showLegend(true);\n",
       "\n",
       "\n",
       "    \n",
       "\n",
       "        \n",
       "\n",
       "\n",
       "\n",
       "\n",
       "    chart\n",
       "        .showDistX(true)\n",
       "        .showDistY(true)\n",
       "        .color(d3.scale.category10().range());\n",
       "\n",
       "            d3.select('#scatterchart_1 svg')\n",
       "            .datum(datum)\n",
       "            .transition().duration(500)\n",
       "            .attr('width', 600)\n",
       "            .attr('height', 300)\n",
       "            .call(chart);\n",
       "\n",
       "\n",
       "        });\n",
       "\n",
       "\n",
       "\n",
       "    </script>\n",
       "\n",
       "    </body>\n",
       "</html>"
      ],
      "text/plain": [
       "<nvd3.scatterChart.scatterChart at 0x7f218b027490>"
      ]
     },
     "execution_count": 6,
     "metadata": {},
     "output_type": "execute_result"
    }
   ],
   "source": [
    "chart = nvd3.scatterChart(name='scatterChart_1', width=600, height=300, x_is_date=False)\n",
    "nb_element = 50\n",
    "xdata = [i + random.randint(1, 10) for i in range(nb_element)]\n",
    "ydata = [i * random.randint(1, 10) for i in range(nb_element)]\n",
    "ydata2 = [x * 2 for x in ydata]\n",
    "ydata3 = [x * 5 for x in ydata]\n",
    "\n",
    "kwargs1 = {'shape': 'circle', 'size': '1'}\n",
    "kwargs2 = {'shape': 'cross', 'size': '10'}\n",
    "kwargs3 = {'shape': 'triangle-up', 'size': '100'}\n",
    "\n",
    "extra_serie = {\"tooltip\": {\"y_start\": \"\", \"y_end\": \" calls\"}}\n",
    "chart.add_serie(name=\"serie 1\", y=ydata, x=xdata, extra=extra_serie, **kwargs1)\n",
    "chart.add_serie(name=\"serie 2\", y=ydata2, x=xdata, extra=extra_serie, **kwargs2)\n",
    "chart.add_serie(name=\"serie 3\", y=ydata3, x=xdata, extra=extra_serie, **kwargs3)\n",
    "chart"
   ]
  },
  {
   "cell_type": "markdown",
   "metadata": {},
   "source": [
    "### Stacked Area Chart"
   ]
  },
  {
   "cell_type": "code",
   "execution_count": 8,
   "metadata": {
    "collapsed": false,
    "run_control": {
     "breakpoint": false,
     "read_only": false
    }
   },
   "outputs": [
    {
     "data": {
      "text/html": [
       "<!DOCTYPE html>\n",
       "<html lang=\"en\">\n",
       "    <head>\n",
       "        <meta charset=\"utf-8\" />\n",
       "        <link href=\"https://cdnjs.cloudflare.com/ajax/libs/nvd3/1.7.0/nv.d3.min.css\" rel=\"stylesheet\" />\n",
       "        <script src=\"https://cdnjs.cloudflare.com/ajax/libs/d3/3.5.5/d3.min.js\"></script>\n",
       "        <script src=\"https://cdnjs.cloudflare.com/ajax/libs/nvd3/1.7.0/nv.d3.min.js\"></script>\n",
       "    </head>\n",
       "    <body>\n",
       "        \n",
       "    <div id=\"piechart\"><svg style=\"width:500px;height:450px;\"></svg></div>\n",
       "\n",
       "\n",
       "    <script>\n",
       "\n",
       "\n",
       "            data_piechart=[{\"values\": [{\"y\": 0, \"x\": 0}, {\"y\": 7, \"x\": 1}, {\"y\": 4, \"x\": 2}, {\"y\": 27, \"x\": 3}, {\"y\": 36, \"x\": 4}, {\"y\": 15, \"x\": 5}, {\"y\": 18, \"x\": 6}, {\"y\": 35, \"x\": 7}, {\"y\": 80, \"x\": 8}, {\"y\": 63, \"x\": 9}, {\"y\": 80, \"x\": 10}, {\"y\": 66, \"x\": 11}, {\"y\": 108, \"x\": 12}, {\"y\": 91, \"x\": 13}, {\"y\": 84, \"x\": 14}, {\"y\": 105, \"x\": 15}, {\"y\": 144, \"x\": 16}, {\"y\": 153, \"x\": 17}, {\"y\": 162, \"x\": 18}, {\"y\": 76, \"x\": 19}, {\"y\": 40, \"x\": 20}, {\"y\": 147, \"x\": 21}, {\"y\": 88, \"x\": 22}, {\"y\": 46, \"x\": 23}, {\"y\": 120, \"x\": 24}, {\"y\": 50, \"x\": 25}, {\"y\": 234, \"x\": 26}, {\"y\": 54, \"x\": 27}, {\"y\": 196, \"x\": 28}, {\"y\": 58, \"x\": 29}, {\"y\": 90, \"x\": 30}, {\"y\": 93, \"x\": 31}, {\"y\": 32, \"x\": 32}, {\"y\": 264, \"x\": 33}, {\"y\": 306, \"x\": 34}, {\"y\": 35, \"x\": 35}, {\"y\": 108, \"x\": 36}, {\"y\": 370, \"x\": 37}, {\"y\": 342, \"x\": 38}, {\"y\": 156, \"x\": 39}, {\"y\": 40, \"x\": 40}, {\"y\": 287, \"x\": 41}, {\"y\": 378, \"x\": 42}, {\"y\": 387, \"x\": 43}, {\"y\": 352, \"x\": 44}, {\"y\": 180, \"x\": 45}, {\"y\": 368, \"x\": 46}, {\"y\": 94, \"x\": 47}, {\"y\": 192, \"x\": 48}, {\"y\": 392, \"x\": 49}], \"key\": \"serie 1\", \"yAxis\": \"1\"}, {\"values\": [{\"y\": 0, \"x\": 0}, {\"y\": 14, \"x\": 1}, {\"y\": 8, \"x\": 2}, {\"y\": 54, \"x\": 3}, {\"y\": 72, \"x\": 4}, {\"y\": 30, \"x\": 5}, {\"y\": 36, \"x\": 6}, {\"y\": 70, \"x\": 7}, {\"y\": 160, \"x\": 8}, {\"y\": 126, \"x\": 9}, {\"y\": 160, \"x\": 10}, {\"y\": 132, \"x\": 11}, {\"y\": 216, \"x\": 12}, {\"y\": 182, \"x\": 13}, {\"y\": 168, \"x\": 14}, {\"y\": 210, \"x\": 15}, {\"y\": 288, \"x\": 16}, {\"y\": 306, \"x\": 17}, {\"y\": 324, \"x\": 18}, {\"y\": 152, \"x\": 19}, {\"y\": 80, \"x\": 20}, {\"y\": 294, \"x\": 21}, {\"y\": 176, \"x\": 22}, {\"y\": 92, \"x\": 23}, {\"y\": 240, \"x\": 24}, {\"y\": 100, \"x\": 25}, {\"y\": 468, \"x\": 26}, {\"y\": 108, \"x\": 27}, {\"y\": 392, \"x\": 28}, {\"y\": 116, \"x\": 29}, {\"y\": 180, \"x\": 30}, {\"y\": 186, \"x\": 31}, {\"y\": 64, \"x\": 32}, {\"y\": 528, \"x\": 33}, {\"y\": 612, \"x\": 34}, {\"y\": 70, \"x\": 35}, {\"y\": 216, \"x\": 36}, {\"y\": 740, \"x\": 37}, {\"y\": 684, \"x\": 38}, {\"y\": 312, \"x\": 39}, {\"y\": 80, \"x\": 40}, {\"y\": 574, \"x\": 41}, {\"y\": 756, \"x\": 42}, {\"y\": 774, \"x\": 43}, {\"y\": 704, \"x\": 44}, {\"y\": 360, \"x\": 45}, {\"y\": 736, \"x\": 46}, {\"y\": 188, \"x\": 47}, {\"y\": 384, \"x\": 48}, {\"y\": 784, \"x\": 49}], \"key\": \"serie 2\", \"yAxis\": \"1\"}, {\"values\": [{\"y\": 0, \"x\": 0}, {\"y\": 35, \"x\": 1}, {\"y\": 20, \"x\": 2}, {\"y\": 135, \"x\": 3}, {\"y\": 180, \"x\": 4}, {\"y\": 75, \"x\": 5}, {\"y\": 90, \"x\": 6}, {\"y\": 175, \"x\": 7}, {\"y\": 400, \"x\": 8}, {\"y\": 315, \"x\": 9}, {\"y\": 400, \"x\": 10}, {\"y\": 330, \"x\": 11}, {\"y\": 540, \"x\": 12}, {\"y\": 455, \"x\": 13}, {\"y\": 420, \"x\": 14}, {\"y\": 525, \"x\": 15}, {\"y\": 720, \"x\": 16}, {\"y\": 765, \"x\": 17}, {\"y\": 810, \"x\": 18}, {\"y\": 380, \"x\": 19}, {\"y\": 200, \"x\": 20}, {\"y\": 735, \"x\": 21}, {\"y\": 440, \"x\": 22}, {\"y\": 230, \"x\": 23}, {\"y\": 600, \"x\": 24}, {\"y\": 250, \"x\": 25}, {\"y\": 1170, \"x\": 26}, {\"y\": 270, \"x\": 27}, {\"y\": 980, \"x\": 28}, {\"y\": 290, \"x\": 29}, {\"y\": 450, \"x\": 30}, {\"y\": 465, \"x\": 31}, {\"y\": 160, \"x\": 32}, {\"y\": 1320, \"x\": 33}, {\"y\": 1530, \"x\": 34}, {\"y\": 175, \"x\": 35}, {\"y\": 540, \"x\": 36}, {\"y\": 1850, \"x\": 37}, {\"y\": 1710, \"x\": 38}, {\"y\": 780, \"x\": 39}, {\"y\": 200, \"x\": 40}, {\"y\": 1435, \"x\": 41}, {\"y\": 1890, \"x\": 42}, {\"y\": 1935, \"x\": 43}, {\"y\": 1760, \"x\": 44}, {\"y\": 900, \"x\": 45}, {\"y\": 1840, \"x\": 46}, {\"y\": 470, \"x\": 47}, {\"y\": 960, \"x\": 48}, {\"y\": 1960, \"x\": 49}], \"key\": \"serie 3\", \"yAxis\": \"1\"}];\n",
       "\n",
       "    nv.addGraph(function() {\n",
       "        var chart = nv.models.stackedAreaChart().useInteractiveGuideline(true);\n",
       "\n",
       "        chart.margin({top: 30, right: 60, bottom: 20, left: 60});\n",
       "\n",
       "        var datum = data_piechart;\n",
       "\n",
       "\n",
       "\n",
       "\n",
       "            chart.xAxis\n",
       "                .tickFormat(d3.format(',.2f'));\n",
       "            chart.yAxis\n",
       "                .tickFormat(d3.format(',.2f'));\n",
       "\n",
       "\n",
       "      chart.showLegend(true);\n",
       "\n",
       "\n",
       "\n",
       "        \n",
       "\n",
       "\n",
       "        d3.select('#piechart svg')\n",
       "            .datum(datum)\n",
       "            .transition().duration(500)\n",
       "            .attr('width', 500)\n",
       "            .attr('height', 450)\n",
       "            .call(chart);\n",
       "\n",
       "\n",
       "    });\n",
       "\n",
       "\n",
       "\n",
       "    </script>\n",
       "\n",
       "    </body>\n",
       "</html>"
      ],
      "text/plain": [
       "<nvd3.stackedAreaChart.stackedAreaChart at 0x7f218b052210>"
      ]
     },
     "execution_count": 8,
     "metadata": {},
     "output_type": "execute_result"
    }
   ],
   "source": [
    "chart2 = nvd3.stackedAreaChart(name=type,height=450,width=500, \n",
    "                               use_interactive_guideline=True)\n",
    "nb_element = 50\n",
    "xdata = range(nb_element)\n",
    "ydata = [i * random.randint(1, 10) for i in range(nb_element)]\n",
    "ydata2 = [x * 2 for x in ydata]\n",
    "ydata3 = [x * 5 for x in ydata]\n",
    "chart2.add_serie(name=\"serie 1\", y=ydata, x=xdata)\n",
    "chart2.add_serie(name=\"serie 2\", y=ydata2, x=xdata)\n",
    "chart2.add_serie(name=\"serie 3\", y=ydata3, x=xdata)\n",
    "chart2"
   ]
  }
 ],
 "metadata": {
  "kernelspec": {
   "display_name": "Python 2",
   "language": "python",
   "name": "python2"
  },
  "language_info": {
   "codemirror_mode": {
    "name": "ipython",
    "version": 2
   },
   "file_extension": ".py",
   "mimetype": "text/x-python",
   "name": "python",
   "nbconvert_exporter": "python",
   "pygments_lexer": "ipython2",
   "version": "2.7.9"
  }
 },
 "nbformat": 4,
 "nbformat_minor": 0
}
