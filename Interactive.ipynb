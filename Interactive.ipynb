{
 "cells": [
  {
   "cell_type": "code",
   "execution_count": 18,
   "metadata": {
    "collapsed": false,
    "run_control": {
     "breakpoint": false,
     "read_only": false
    }
   },
   "outputs": [
    {
     "data": {
      "text/html": [
       "<link media=\"all\" href=\"https://cdnjs.cloudflare.com/ajax/libs/nvd3/1.7.0/nv.d3.min.css\" type=\"text/css\"\n",
       "                        rel=\"stylesheet\"/>"
      ],
      "text/plain": [
       "<IPython.core.display.HTML object>"
      ]
     },
     "metadata": {},
     "output_type": "display_data"
    },
    {
     "data": {
      "application/javascript": [
       "$.getScript(\"https://cdnjs.cloudflare.com/ajax/libs/nvd3/1.7.0/nv.d3.min.js\")"
      ],
      "text/plain": [
       "<IPython.core.display.Javascript object>"
      ]
     },
     "metadata": {},
     "output_type": "display_data"
    },
    {
     "data": {
      "application/javascript": [
       "$.getScript(\"https://cdnjs.cloudflare.com/ajax/libs/d3/3.5.5/d3.min.js\", function() {\n",
       "                              $.getScript(\"https://cdnjs.cloudflare.com/ajax/libs/nvd3/1.7.0/nv.d3.min.js\", function() {})});"
      ],
      "text/plain": [
       "<IPython.core.display.Javascript object>"
      ]
     },
     "metadata": {},
     "output_type": "display_data"
    },
    {
     "data": {
      "text/html": [
       "<script src=\"https://cdnjs.cloudflare.com/ajax/libs/d3/3.5.5/d3.min.js\"></script>"
      ],
      "text/plain": [
       "<IPython.core.display.HTML object>"
      ]
     },
     "metadata": {},
     "output_type": "display_data"
    },
    {
     "data": {
      "text/html": [
       "<script src=\"https://cdnjs.cloudflare.com/ajax/libs/nvd3/1.7.0/nv.d3.min.js\"></script>"
      ],
      "text/plain": [
       "<IPython.core.display.HTML object>"
      ]
     },
     "metadata": {},
     "output_type": "display_data"
    },
    {
     "data": {
      "text/html": [
       "<link media=\"all\" href=\"https://cdnjs.cloudflare.com/ajax/libs/nvd3/1.7.0/nv.d3.min.css\" type=\"text/css\"\n",
       "                        rel=\"stylesheet\"/>"
      ],
      "text/plain": [
       "<IPython.core.display.HTML object>"
      ]
     },
     "metadata": {},
     "output_type": "display_data"
    },
    {
     "data": {
      "application/javascript": [
       "$.getScript(\"https://cdnjs.cloudflare.com/ajax/libs/nvd3/1.7.0/nv.d3.min.js\")"
      ],
      "text/plain": [
       "<IPython.core.display.Javascript object>"
      ]
     },
     "metadata": {},
     "output_type": "display_data"
    },
    {
     "data": {
      "application/javascript": [
       "$.getScript(\"https://cdnjs.cloudflare.com/ajax/libs/d3/3.5.5/d3.min.js\", function() {\n",
       "                              $.getScript(\"https://cdnjs.cloudflare.com/ajax/libs/nvd3/1.7.0/nv.d3.min.js\", function() {})});"
      ],
      "text/plain": [
       "<IPython.core.display.Javascript object>"
      ]
     },
     "metadata": {},
     "output_type": "display_data"
    },
    {
     "data": {
      "text/html": [
       "<script src=\"https://cdnjs.cloudflare.com/ajax/libs/d3/3.5.5/d3.min.js\"></script>"
      ],
      "text/plain": [
       "<IPython.core.display.HTML object>"
      ]
     },
     "metadata": {},
     "output_type": "display_data"
    },
    {
     "data": {
      "text/html": [
       "<script src=\"https://cdnjs.cloudflare.com/ajax/libs/nvd3/1.7.0/nv.d3.min.js\"></script>"
      ],
      "text/plain": [
       "<IPython.core.display.HTML object>"
      ]
     },
     "metadata": {},
     "output_type": "display_data"
    }
   ],
   "source": [
    "import random\n",
    "from IPython import display as d\n",
    "import nvd3\n",
    "nvd3.ipynb.initialize_javascript(use_remote=True)\n",
    "nvd3.ipynb.initialize_javascript(use_remote=True)"
   ]
  },
  {
   "cell_type": "markdown",
   "metadata": {},
   "source": [
    "### Pie Chart"
   ]
  },
  {
   "cell_type": "code",
   "execution_count": 30,
   "metadata": {
    "collapsed": false
   },
   "outputs": [
    {
     "data": {
      "text/html": [
       "<!DOCTYPE html>\n",
       "<html lang=\"en\">\n",
       "    <head>\n",
       "        <meta charset=\"utf-8\" />\n",
       "        <link href=\"https://cdnjs.cloudflare.com/ajax/libs/nvd3/1.7.0/nv.d3.min.css\" rel=\"stylesheet\" />\n",
       "        <script src=\"https://cdnjs.cloudflare.com/ajax/libs/d3/3.5.5/d3.min.js\"></script>\n",
       "        <script src=\"https://cdnjs.cloudflare.com/ajax/libs/nvd3/1.7.0/nv.d3.min.js\"></script>\n",
       "    </head>\n",
       "    <body>\n",
       "        \n",
       "    <div id=\"discretebarchart\"><svg style=\"width:450px;height:450px;\"></svg></div>\n",
       "\n",
       "\n",
       "    <script>\n",
       "\n",
       "\n",
       "\n",
       "    data_discretebarchart=[{\"values\": [{\"value\": 3, \"label\": \"Orange\"}, {\"value\": 4, \"label\": \"Banana\"}, {\"value\": 0, \"label\": \"Pear\"}, {\"value\": 1, \"label\": \"Kiwi\"}, {\"value\": 5, \"label\": \"Apple\"}, {\"value\": 7, \"label\": \"Strawberry\"}, {\"value\": 3, \"label\": \"Pineapple\"}], \"key\": \"Serie 1\"}];\n",
       "\n",
       "    nv.addGraph(function() {\n",
       "        var chart = nv.models.pieChart();\n",
       "        chart.margin({top: 30, right: 60, bottom: 20, left: 60});\n",
       "        var datum = data_discretebarchart[0].values;\n",
       "\n",
       "    chart.tooltipContent(function(key, y, e, graph) {\n",
       "          var x = String(key);\n",
       "              var y =  String(y)  + ' cal';\n",
       "\n",
       "              tooltip_str = '<center><b>'+x+'</b></center>' + y;\n",
       "              return tooltip_str;\n",
       "              });\n",
       "        chart.showLabels(true);\n",
       "\n",
       "            chart.donut(false);\n",
       "\n",
       "    chart.showLegend(true);\n",
       "\n",
       "\n",
       "\n",
       "\n",
       "        chart\n",
       "            .x(function(d) { return d.label })\n",
       "            .y(function(d) { return d.value });\n",
       "\n",
       "        chart.width(450);\n",
       "\n",
       "        chart.height(450);\n",
       "\n",
       "\n",
       "            d3.select('#discretebarchart svg')\n",
       "            .datum(datum)\n",
       "            .transition().duration(500)\n",
       "            .attr('width', 450)\n",
       "            .attr('height', 450)\n",
       "            .call(chart);\n",
       "\n",
       "\n",
       "        });\n",
       "\n",
       "\n",
       "\n",
       "    </script>\n",
       "\n",
       "    </body>\n",
       "</html>"
      ],
      "text/plain": [
       "<nvd3.pieChart.pieChart at 0x7f59136afa50>"
      ]
     },
     "execution_count": 30,
     "metadata": {},
     "output_type": "execute_result"
    }
   ],
   "source": [
    "chart1 = nvd3.pieChart(name=type, color_category='category20c', height=450, width=450)\n",
    "\n",
    "#Create the keys\n",
    "xdata = [\"Orange\", \"Banana\", \"Pear\", \"Kiwi\", \"Apple\", \"Strawberry\", \"Pineapple\"]\n",
    "ydata = [3, 4, 0, 1, 5, 7, 3]\n",
    "\n",
    "#Add the serie\n",
    "extra_serie = {\"tooltip\": {\"y_start\": \"\", \"y_end\": \" cal\"}}\n",
    "chart1.add_serie(y=ydata, x=xdata, extra=extra_serie)\n",
    "chart1"
   ]
  },
  {
   "cell_type": "markdown",
   "metadata": {},
   "source": [
    "### Stacked Area Chart"
   ]
  },
  {
   "cell_type": "code",
   "execution_count": 29,
   "metadata": {
    "collapsed": false,
    "run_control": {
     "breakpoint": false,
     "read_only": false
    }
   },
   "outputs": [
    {
     "data": {
      "text/html": [
       "<!DOCTYPE html>\n",
       "<html lang=\"en\">\n",
       "    <head>\n",
       "        <meta charset=\"utf-8\" />\n",
       "        <link href=\"https://cdnjs.cloudflare.com/ajax/libs/nvd3/1.7.0/nv.d3.min.css\" rel=\"stylesheet\" />\n",
       "        <script src=\"https://cdnjs.cloudflare.com/ajax/libs/d3/3.5.5/d3.min.js\"></script>\n",
       "        <script src=\"https://cdnjs.cloudflare.com/ajax/libs/nvd3/1.7.0/nv.d3.min.js\"></script>\n",
       "    </head>\n",
       "    <body>\n",
       "        \n",
       "    <div id=\"discretebarchart\"><svg style=\"width:500px;height:450px;\"></svg></div>\n",
       "\n",
       "\n",
       "    <script>\n",
       "\n",
       "\n",
       "            data_discretebarchart=[{\"values\": [{\"y\": 0, \"x\": 0}, {\"y\": 1, \"x\": 1}, {\"y\": 6, \"x\": 2}, {\"y\": 21, \"x\": 3}, {\"y\": 24, \"x\": 4}, {\"y\": 45, \"x\": 5}, {\"y\": 6, \"x\": 6}, {\"y\": 42, \"x\": 7}, {\"y\": 64, \"x\": 8}, {\"y\": 36, \"x\": 9}, {\"y\": 10, \"x\": 10}, {\"y\": 66, \"x\": 11}, {\"y\": 120, \"x\": 12}, {\"y\": 26, \"x\": 13}, {\"y\": 140, \"x\": 14}, {\"y\": 150, \"x\": 15}, {\"y\": 112, \"x\": 16}, {\"y\": 85, \"x\": 17}, {\"y\": 180, \"x\": 18}, {\"y\": 133, \"x\": 19}, {\"y\": 60, \"x\": 20}, {\"y\": 210, \"x\": 21}, {\"y\": 110, \"x\": 22}, {\"y\": 230, \"x\": 23}, {\"y\": 24, \"x\": 24}, {\"y\": 175, \"x\": 25}, {\"y\": 78, \"x\": 26}, {\"y\": 27, \"x\": 27}, {\"y\": 84, \"x\": 28}, {\"y\": 58, \"x\": 29}, {\"y\": 210, \"x\": 30}, {\"y\": 93, \"x\": 31}, {\"y\": 256, \"x\": 32}, {\"y\": 264, \"x\": 33}, {\"y\": 170, \"x\": 34}, {\"y\": 350, \"x\": 35}, {\"y\": 108, \"x\": 36}, {\"y\": 296, \"x\": 37}, {\"y\": 114, \"x\": 38}, {\"y\": 312, \"x\": 39}, {\"y\": 360, \"x\": 40}, {\"y\": 328, \"x\": 41}, {\"y\": 252, \"x\": 42}, {\"y\": 129, \"x\": 43}, {\"y\": 264, \"x\": 44}, {\"y\": 315, \"x\": 45}, {\"y\": 230, \"x\": 46}, {\"y\": 47, \"x\": 47}, {\"y\": 96, \"x\": 48}, {\"y\": 294, \"x\": 49}], \"key\": \"serie 1\", \"yAxis\": \"1\"}, {\"values\": [{\"y\": 0, \"x\": 0}, {\"y\": 2, \"x\": 1}, {\"y\": 12, \"x\": 2}, {\"y\": 42, \"x\": 3}, {\"y\": 48, \"x\": 4}, {\"y\": 90, \"x\": 5}, {\"y\": 12, \"x\": 6}, {\"y\": 84, \"x\": 7}, {\"y\": 128, \"x\": 8}, {\"y\": 72, \"x\": 9}, {\"y\": 20, \"x\": 10}, {\"y\": 132, \"x\": 11}, {\"y\": 240, \"x\": 12}, {\"y\": 52, \"x\": 13}, {\"y\": 280, \"x\": 14}, {\"y\": 300, \"x\": 15}, {\"y\": 224, \"x\": 16}, {\"y\": 170, \"x\": 17}, {\"y\": 360, \"x\": 18}, {\"y\": 266, \"x\": 19}, {\"y\": 120, \"x\": 20}, {\"y\": 420, \"x\": 21}, {\"y\": 220, \"x\": 22}, {\"y\": 460, \"x\": 23}, {\"y\": 48, \"x\": 24}, {\"y\": 350, \"x\": 25}, {\"y\": 156, \"x\": 26}, {\"y\": 54, \"x\": 27}, {\"y\": 168, \"x\": 28}, {\"y\": 116, \"x\": 29}, {\"y\": 420, \"x\": 30}, {\"y\": 186, \"x\": 31}, {\"y\": 512, \"x\": 32}, {\"y\": 528, \"x\": 33}, {\"y\": 340, \"x\": 34}, {\"y\": 700, \"x\": 35}, {\"y\": 216, \"x\": 36}, {\"y\": 592, \"x\": 37}, {\"y\": 228, \"x\": 38}, {\"y\": 624, \"x\": 39}, {\"y\": 720, \"x\": 40}, {\"y\": 656, \"x\": 41}, {\"y\": 504, \"x\": 42}, {\"y\": 258, \"x\": 43}, {\"y\": 528, \"x\": 44}, {\"y\": 630, \"x\": 45}, {\"y\": 460, \"x\": 46}, {\"y\": 94, \"x\": 47}, {\"y\": 192, \"x\": 48}, {\"y\": 588, \"x\": 49}], \"key\": \"serie 2\", \"yAxis\": \"1\"}, {\"values\": [{\"y\": 0, \"x\": 0}, {\"y\": 5, \"x\": 1}, {\"y\": 30, \"x\": 2}, {\"y\": 105, \"x\": 3}, {\"y\": 120, \"x\": 4}, {\"y\": 225, \"x\": 5}, {\"y\": 30, \"x\": 6}, {\"y\": 210, \"x\": 7}, {\"y\": 320, \"x\": 8}, {\"y\": 180, \"x\": 9}, {\"y\": 50, \"x\": 10}, {\"y\": 330, \"x\": 11}, {\"y\": 600, \"x\": 12}, {\"y\": 130, \"x\": 13}, {\"y\": 700, \"x\": 14}, {\"y\": 750, \"x\": 15}, {\"y\": 560, \"x\": 16}, {\"y\": 425, \"x\": 17}, {\"y\": 900, \"x\": 18}, {\"y\": 665, \"x\": 19}, {\"y\": 300, \"x\": 20}, {\"y\": 1050, \"x\": 21}, {\"y\": 550, \"x\": 22}, {\"y\": 1150, \"x\": 23}, {\"y\": 120, \"x\": 24}, {\"y\": 875, \"x\": 25}, {\"y\": 390, \"x\": 26}, {\"y\": 135, \"x\": 27}, {\"y\": 420, \"x\": 28}, {\"y\": 290, \"x\": 29}, {\"y\": 1050, \"x\": 30}, {\"y\": 465, \"x\": 31}, {\"y\": 1280, \"x\": 32}, {\"y\": 1320, \"x\": 33}, {\"y\": 850, \"x\": 34}, {\"y\": 1750, \"x\": 35}, {\"y\": 540, \"x\": 36}, {\"y\": 1480, \"x\": 37}, {\"y\": 570, \"x\": 38}, {\"y\": 1560, \"x\": 39}, {\"y\": 1800, \"x\": 40}, {\"y\": 1640, \"x\": 41}, {\"y\": 1260, \"x\": 42}, {\"y\": 645, \"x\": 43}, {\"y\": 1320, \"x\": 44}, {\"y\": 1575, \"x\": 45}, {\"y\": 1150, \"x\": 46}, {\"y\": 235, \"x\": 47}, {\"y\": 480, \"x\": 48}, {\"y\": 1470, \"x\": 49}], \"key\": \"serie 3\", \"yAxis\": \"1\"}];\n",
       "\n",
       "    nv.addGraph(function() {\n",
       "        var chart = nv.models.stackedAreaChart().useInteractiveGuideline(true);\n",
       "\n",
       "        chart.margin({top: 30, right: 60, bottom: 20, left: 60});\n",
       "\n",
       "        var datum = data_discretebarchart;\n",
       "\n",
       "\n",
       "\n",
       "\n",
       "            chart.xAxis\n",
       "                .tickFormat(d3.format(',.2f'));\n",
       "            chart.yAxis\n",
       "                .tickFormat(d3.format(',.2f'));\n",
       "\n",
       "\n",
       "      chart.showLegend(true);\n",
       "\n",
       "\n",
       "\n",
       "        \n",
       "\n",
       "\n",
       "        d3.select('#discretebarchart svg')\n",
       "            .datum(datum)\n",
       "            .transition().duration(500)\n",
       "            .attr('width', 500)\n",
       "            .attr('height', 450)\n",
       "            .call(chart);\n",
       "\n",
       "\n",
       "    });\n",
       "\n",
       "\n",
       "\n",
       "    </script>\n",
       "\n",
       "    </body>\n",
       "</html>"
      ],
      "text/plain": [
       "<nvd3.stackedAreaChart.stackedAreaChart at 0x7f591367fd50>"
      ]
     },
     "execution_count": 29,
     "metadata": {},
     "output_type": "execute_result"
    }
   ],
   "source": [
    "chart2 = nvd3.stackedAreaChart(name=type,height=450,width=500, \n",
    "                               use_interactive_guideline=True)\n",
    "nb_element = 50\n",
    "xdata = range(nb_element)\n",
    "ydata = [i * random.randint(1, 10) for i in range(nb_element)]\n",
    "ydata2 = [x * 2 for x in ydata]\n",
    "ydata3 = [x * 5 for x in ydata]\n",
    "chart2.add_serie(name=\"serie 1\", y=ydata, x=xdata)\n",
    "chart2.add_serie(name=\"serie 2\", y=ydata2, x=xdata)\n",
    "chart2.add_serie(name=\"serie 3\", y=ydata3, x=xdata)\n",
    "chart2"
   ]
  },
  {
   "cell_type": "markdown",
   "metadata": {},
   "source": [
    "### Scatter Plot"
   ]
  },
  {
   "cell_type": "code",
   "execution_count": 21,
   "metadata": {
    "collapsed": false,
    "run_control": {
     "breakpoint": false,
     "read_only": false
    }
   },
   "outputs": [
    {
     "data": {
      "text/html": [
       "<!DOCTYPE html>\n",
       "<html lang=\"en\">\n",
       "    <head>\n",
       "        <meta charset=\"utf-8\" />\n",
       "        <link href=\"https://cdnjs.cloudflare.com/ajax/libs/nvd3/1.7.0/nv.d3.min.css\" rel=\"stylesheet\" />\n",
       "        <script src=\"https://cdnjs.cloudflare.com/ajax/libs/d3/3.5.5/d3.min.js\"></script>\n",
       "        <script src=\"https://cdnjs.cloudflare.com/ajax/libs/nvd3/1.7.0/nv.d3.min.js\"></script>\n",
       "    </head>\n",
       "    <body>\n",
       "        \n",
       "    <div id=\"scatterchart_1\"><svg style=\"width:600px;height:300px;\"></svg></div>\n",
       "\n",
       "\n",
       "    <script>\n",
       "\n",
       "\n",
       "\n",
       "            data_scatterchart_1=[{\"values\": [{\"y\": 0, \"x\": 10, \"shape\": \"circle\", \"size\": \"1\"}, {\"y\": 9, \"x\": 8, \"shape\": \"circle\", \"size\": \"1\"}, {\"y\": 20, \"x\": 6, \"shape\": \"circle\", \"size\": \"1\"}, {\"y\": 27, \"x\": 6, \"shape\": \"circle\", \"size\": \"1\"}, {\"y\": 8, \"x\": 14, \"shape\": \"circle\", \"size\": \"1\"}, {\"y\": 5, \"x\": 14, \"shape\": \"circle\", \"size\": \"1\"}, {\"y\": 6, \"x\": 8, \"shape\": \"circle\", \"size\": \"1\"}, {\"y\": 7, \"x\": 12, \"shape\": \"circle\", \"size\": \"1\"}, {\"y\": 48, \"x\": 15, \"shape\": \"circle\", \"size\": \"1\"}, {\"y\": 36, \"x\": 18, \"shape\": \"circle\", \"size\": \"1\"}, {\"y\": 20, \"x\": 20, \"shape\": \"circle\", \"size\": \"1\"}, {\"y\": 77, \"x\": 13, \"shape\": \"circle\", \"size\": \"1\"}, {\"y\": 12, \"x\": 20, \"shape\": \"circle\", \"size\": \"1\"}, {\"y\": 91, \"x\": 17, \"shape\": \"circle\", \"size\": \"1\"}, {\"y\": 112, \"x\": 20, \"shape\": \"circle\", \"size\": \"1\"}, {\"y\": 105, \"x\": 17, \"shape\": \"circle\", \"size\": \"1\"}, {\"y\": 128, \"x\": 20, \"shape\": \"circle\", \"size\": \"1\"}, {\"y\": 119, \"x\": 18, \"shape\": \"circle\", \"size\": \"1\"}, {\"y\": 162, \"x\": 27, \"shape\": \"circle\", \"size\": \"1\"}, {\"y\": 57, \"x\": 21, \"shape\": \"circle\", \"size\": \"1\"}, {\"y\": 80, \"x\": 21, \"shape\": \"circle\", \"size\": \"1\"}, {\"y\": 168, \"x\": 28, \"shape\": \"circle\", \"size\": \"1\"}, {\"y\": 154, \"x\": 27, \"shape\": \"circle\", \"size\": \"1\"}, {\"y\": 207, \"x\": 25, \"shape\": \"circle\", \"size\": \"1\"}, {\"y\": 144, \"x\": 27, \"shape\": \"circle\", \"size\": \"1\"}, {\"y\": 100, \"x\": 26, \"shape\": \"circle\", \"size\": \"1\"}, {\"y\": 208, \"x\": 31, \"shape\": \"circle\", \"size\": \"1\"}, {\"y\": 216, \"x\": 34, \"shape\": \"circle\", \"size\": \"1\"}, {\"y\": 84, \"x\": 36, \"shape\": \"circle\", \"size\": \"1\"}, {\"y\": 29, \"x\": 31, \"shape\": \"circle\", \"size\": \"1\"}, {\"y\": 150, \"x\": 33, \"shape\": \"circle\", \"size\": \"1\"}, {\"y\": 279, \"x\": 37, \"shape\": \"circle\", \"size\": \"1\"}, {\"y\": 192, \"x\": 42, \"shape\": \"circle\", \"size\": \"1\"}, {\"y\": 198, \"x\": 34, \"shape\": \"circle\", \"size\": \"1\"}, {\"y\": 306, \"x\": 36, \"shape\": \"circle\", \"size\": \"1\"}, {\"y\": 280, \"x\": 38, \"shape\": \"circle\", \"size\": \"1\"}, {\"y\": 72, \"x\": 38, \"shape\": \"circle\", \"size\": \"1\"}, {\"y\": 74, \"x\": 39, \"shape\": \"circle\", \"size\": \"1\"}, {\"y\": 304, \"x\": 48, \"shape\": \"circle\", \"size\": \"1\"}, {\"y\": 195, \"x\": 45, \"shape\": \"circle\", \"size\": \"1\"}, {\"y\": 280, \"x\": 48, \"shape\": \"circle\", \"size\": \"1\"}, {\"y\": 246, \"x\": 49, \"shape\": \"circle\", \"size\": \"1\"}, {\"y\": 42, \"x\": 51, \"shape\": \"circle\", \"size\": \"1\"}, {\"y\": 430, \"x\": 52, \"shape\": \"circle\", \"size\": \"1\"}, {\"y\": 176, \"x\": 46, \"shape\": \"circle\", \"size\": \"1\"}, {\"y\": 405, \"x\": 51, \"shape\": \"circle\", \"size\": \"1\"}, {\"y\": 322, \"x\": 55, \"shape\": \"circle\", \"size\": \"1\"}, {\"y\": 376, \"x\": 56, \"shape\": \"circle\", \"size\": \"1\"}, {\"y\": 144, \"x\": 52, \"shape\": \"circle\", \"size\": \"1\"}, {\"y\": 441, \"x\": 52, \"shape\": \"circle\", \"size\": \"1\"}], \"key\": \"serie 1\", \"yAxis\": \"1\"}, {\"values\": [{\"y\": 0, \"x\": 10, \"shape\": \"cross\", \"size\": \"10\"}, {\"y\": 18, \"x\": 8, \"shape\": \"cross\", \"size\": \"10\"}, {\"y\": 40, \"x\": 6, \"shape\": \"cross\", \"size\": \"10\"}, {\"y\": 54, \"x\": 6, \"shape\": \"cross\", \"size\": \"10\"}, {\"y\": 16, \"x\": 14, \"shape\": \"cross\", \"size\": \"10\"}, {\"y\": 10, \"x\": 14, \"shape\": \"cross\", \"size\": \"10\"}, {\"y\": 12, \"x\": 8, \"shape\": \"cross\", \"size\": \"10\"}, {\"y\": 14, \"x\": 12, \"shape\": \"cross\", \"size\": \"10\"}, {\"y\": 96, \"x\": 15, \"shape\": \"cross\", \"size\": \"10\"}, {\"y\": 72, \"x\": 18, \"shape\": \"cross\", \"size\": \"10\"}, {\"y\": 40, \"x\": 20, \"shape\": \"cross\", \"size\": \"10\"}, {\"y\": 154, \"x\": 13, \"shape\": \"cross\", \"size\": \"10\"}, {\"y\": 24, \"x\": 20, \"shape\": \"cross\", \"size\": \"10\"}, {\"y\": 182, \"x\": 17, \"shape\": \"cross\", \"size\": \"10\"}, {\"y\": 224, \"x\": 20, \"shape\": \"cross\", \"size\": \"10\"}, {\"y\": 210, \"x\": 17, \"shape\": \"cross\", \"size\": \"10\"}, {\"y\": 256, \"x\": 20, \"shape\": \"cross\", \"size\": \"10\"}, {\"y\": 238, \"x\": 18, \"shape\": \"cross\", \"size\": \"10\"}, {\"y\": 324, \"x\": 27, \"shape\": \"cross\", \"size\": \"10\"}, {\"y\": 114, \"x\": 21, \"shape\": \"cross\", \"size\": \"10\"}, {\"y\": 160, \"x\": 21, \"shape\": \"cross\", \"size\": \"10\"}, {\"y\": 336, \"x\": 28, \"shape\": \"cross\", \"size\": \"10\"}, {\"y\": 308, \"x\": 27, \"shape\": \"cross\", \"size\": \"10\"}, {\"y\": 414, \"x\": 25, \"shape\": \"cross\", \"size\": \"10\"}, {\"y\": 288, \"x\": 27, \"shape\": \"cross\", \"size\": \"10\"}, {\"y\": 200, \"x\": 26, \"shape\": \"cross\", \"size\": \"10\"}, {\"y\": 416, \"x\": 31, \"shape\": \"cross\", \"size\": \"10\"}, {\"y\": 432, \"x\": 34, \"shape\": \"cross\", \"size\": \"10\"}, {\"y\": 168, \"x\": 36, \"shape\": \"cross\", \"size\": \"10\"}, {\"y\": 58, \"x\": 31, \"shape\": \"cross\", \"size\": \"10\"}, {\"y\": 300, \"x\": 33, \"shape\": \"cross\", \"size\": \"10\"}, {\"y\": 558, \"x\": 37, \"shape\": \"cross\", \"size\": \"10\"}, {\"y\": 384, \"x\": 42, \"shape\": \"cross\", \"size\": \"10\"}, {\"y\": 396, \"x\": 34, \"shape\": \"cross\", \"size\": \"10\"}, {\"y\": 612, \"x\": 36, \"shape\": \"cross\", \"size\": \"10\"}, {\"y\": 560, \"x\": 38, \"shape\": \"cross\", \"size\": \"10\"}, {\"y\": 144, \"x\": 38, \"shape\": \"cross\", \"size\": \"10\"}, {\"y\": 148, \"x\": 39, \"shape\": \"cross\", \"size\": \"10\"}, {\"y\": 608, \"x\": 48, \"shape\": \"cross\", \"size\": \"10\"}, {\"y\": 390, \"x\": 45, \"shape\": \"cross\", \"size\": \"10\"}, {\"y\": 560, \"x\": 48, \"shape\": \"cross\", \"size\": \"10\"}, {\"y\": 492, \"x\": 49, \"shape\": \"cross\", \"size\": \"10\"}, {\"y\": 84, \"x\": 51, \"shape\": \"cross\", \"size\": \"10\"}, {\"y\": 860, \"x\": 52, \"shape\": \"cross\", \"size\": \"10\"}, {\"y\": 352, \"x\": 46, \"shape\": \"cross\", \"size\": \"10\"}, {\"y\": 810, \"x\": 51, \"shape\": \"cross\", \"size\": \"10\"}, {\"y\": 644, \"x\": 55, \"shape\": \"cross\", \"size\": \"10\"}, {\"y\": 752, \"x\": 56, \"shape\": \"cross\", \"size\": \"10\"}, {\"y\": 288, \"x\": 52, \"shape\": \"cross\", \"size\": \"10\"}, {\"y\": 882, \"x\": 52, \"shape\": \"cross\", \"size\": \"10\"}], \"key\": \"serie 2\", \"yAxis\": \"1\"}, {\"values\": [{\"y\": 0, \"x\": 10, \"shape\": \"triangle-up\", \"size\": \"100\"}, {\"y\": 45, \"x\": 8, \"shape\": \"triangle-up\", \"size\": \"100\"}, {\"y\": 100, \"x\": 6, \"shape\": \"triangle-up\", \"size\": \"100\"}, {\"y\": 135, \"x\": 6, \"shape\": \"triangle-up\", \"size\": \"100\"}, {\"y\": 40, \"x\": 14, \"shape\": \"triangle-up\", \"size\": \"100\"}, {\"y\": 25, \"x\": 14, \"shape\": \"triangle-up\", \"size\": \"100\"}, {\"y\": 30, \"x\": 8, \"shape\": \"triangle-up\", \"size\": \"100\"}, {\"y\": 35, \"x\": 12, \"shape\": \"triangle-up\", \"size\": \"100\"}, {\"y\": 240, \"x\": 15, \"shape\": \"triangle-up\", \"size\": \"100\"}, {\"y\": 180, \"x\": 18, \"shape\": \"triangle-up\", \"size\": \"100\"}, {\"y\": 100, \"x\": 20, \"shape\": \"triangle-up\", \"size\": \"100\"}, {\"y\": 385, \"x\": 13, \"shape\": \"triangle-up\", \"size\": \"100\"}, {\"y\": 60, \"x\": 20, \"shape\": \"triangle-up\", \"size\": \"100\"}, {\"y\": 455, \"x\": 17, \"shape\": \"triangle-up\", \"size\": \"100\"}, {\"y\": 560, \"x\": 20, \"shape\": \"triangle-up\", \"size\": \"100\"}, {\"y\": 525, \"x\": 17, \"shape\": \"triangle-up\", \"size\": \"100\"}, {\"y\": 640, \"x\": 20, \"shape\": \"triangle-up\", \"size\": \"100\"}, {\"y\": 595, \"x\": 18, \"shape\": \"triangle-up\", \"size\": \"100\"}, {\"y\": 810, \"x\": 27, \"shape\": \"triangle-up\", \"size\": \"100\"}, {\"y\": 285, \"x\": 21, \"shape\": \"triangle-up\", \"size\": \"100\"}, {\"y\": 400, \"x\": 21, \"shape\": \"triangle-up\", \"size\": \"100\"}, {\"y\": 840, \"x\": 28, \"shape\": \"triangle-up\", \"size\": \"100\"}, {\"y\": 770, \"x\": 27, \"shape\": \"triangle-up\", \"size\": \"100\"}, {\"y\": 1035, \"x\": 25, \"shape\": \"triangle-up\", \"size\": \"100\"}, {\"y\": 720, \"x\": 27, \"shape\": \"triangle-up\", \"size\": \"100\"}, {\"y\": 500, \"x\": 26, \"shape\": \"triangle-up\", \"size\": \"100\"}, {\"y\": 1040, \"x\": 31, \"shape\": \"triangle-up\", \"size\": \"100\"}, {\"y\": 1080, \"x\": 34, \"shape\": \"triangle-up\", \"size\": \"100\"}, {\"y\": 420, \"x\": 36, \"shape\": \"triangle-up\", \"size\": \"100\"}, {\"y\": 145, \"x\": 31, \"shape\": \"triangle-up\", \"size\": \"100\"}, {\"y\": 750, \"x\": 33, \"shape\": \"triangle-up\", \"size\": \"100\"}, {\"y\": 1395, \"x\": 37, \"shape\": \"triangle-up\", \"size\": \"100\"}, {\"y\": 960, \"x\": 42, \"shape\": \"triangle-up\", \"size\": \"100\"}, {\"y\": 990, \"x\": 34, \"shape\": \"triangle-up\", \"size\": \"100\"}, {\"y\": 1530, \"x\": 36, \"shape\": \"triangle-up\", \"size\": \"100\"}, {\"y\": 1400, \"x\": 38, \"shape\": \"triangle-up\", \"size\": \"100\"}, {\"y\": 360, \"x\": 38, \"shape\": \"triangle-up\", \"size\": \"100\"}, {\"y\": 370, \"x\": 39, \"shape\": \"triangle-up\", \"size\": \"100\"}, {\"y\": 1520, \"x\": 48, \"shape\": \"triangle-up\", \"size\": \"100\"}, {\"y\": 975, \"x\": 45, \"shape\": \"triangle-up\", \"size\": \"100\"}, {\"y\": 1400, \"x\": 48, \"shape\": \"triangle-up\", \"size\": \"100\"}, {\"y\": 1230, \"x\": 49, \"shape\": \"triangle-up\", \"size\": \"100\"}, {\"y\": 210, \"x\": 51, \"shape\": \"triangle-up\", \"size\": \"100\"}, {\"y\": 2150, \"x\": 52, \"shape\": \"triangle-up\", \"size\": \"100\"}, {\"y\": 880, \"x\": 46, \"shape\": \"triangle-up\", \"size\": \"100\"}, {\"y\": 2025, \"x\": 51, \"shape\": \"triangle-up\", \"size\": \"100\"}, {\"y\": 1610, \"x\": 55, \"shape\": \"triangle-up\", \"size\": \"100\"}, {\"y\": 1880, \"x\": 56, \"shape\": \"triangle-up\", \"size\": \"100\"}, {\"y\": 720, \"x\": 52, \"shape\": \"triangle-up\", \"size\": \"100\"}, {\"y\": 2205, \"x\": 52, \"shape\": \"triangle-up\", \"size\": \"100\"}], \"key\": \"serie 3\", \"yAxis\": \"1\"}];\n",
       "\n",
       "\n",
       "        nv.addGraph(function() {\n",
       "        var chart = nv.models.scatterChart();\n",
       "\n",
       "        chart.margin({top: 30, right: 60, bottom: 20, left: 60});\n",
       "\n",
       "        var datum = data_scatterchart_1;\n",
       "\n",
       "\n",
       "\n",
       "                chart.xAxis\n",
       "                .tickFormat(d3.format(',.02f'));\n",
       "            chart.yAxis\n",
       "                .tickFormat(d3.format(',.02f'));\n",
       "\n",
       "\n",
       "\n",
       "          chart.showLegend(true);\n",
       "\n",
       "\n",
       "    \n",
       "\n",
       "        \n",
       "\n",
       "\n",
       "\n",
       "\n",
       "    chart\n",
       "        .showDistX(true)\n",
       "        .showDistY(true)\n",
       "        .color(d3.scale.category10().range());\n",
       "\n",
       "            d3.select('#scatterchart_1 svg')\n",
       "            .datum(datum)\n",
       "            .transition().duration(500)\n",
       "            .attr('width', 600)\n",
       "            .attr('height', 300)\n",
       "            .call(chart);\n",
       "\n",
       "\n",
       "        });\n",
       "\n",
       "\n",
       "\n",
       "    </script>\n",
       "\n",
       "    </body>\n",
       "</html>"
      ],
      "text/plain": [
       "<nvd3.scatterChart.scatterChart at 0x7f59136af510>"
      ]
     },
     "execution_count": 21,
     "metadata": {},
     "output_type": "execute_result"
    }
   ],
   "source": [
    "chart = nvd3.scatterChart(name='scatterChart_1', width=600, height=300, x_is_date=False)\n",
    "nb_element = 50\n",
    "xdata = [i + random.randint(1, 10) for i in range(nb_element)]\n",
    "ydata = [i * random.randint(1, 10) for i in range(nb_element)]\n",
    "ydata2 = [x * 2 for x in ydata]\n",
    "ydata3 = [x * 5 for x in ydata]\n",
    "\n",
    "kwargs1 = {'shape': 'circle', 'size': '1'}\n",
    "kwargs2 = {'shape': 'cross', 'size': '10'}\n",
    "kwargs3 = {'shape': 'triangle-up', 'size': '100'}\n",
    "\n",
    "extra_serie = {\"tooltip\": {\"y_start\": \"\", \"y_end\": \" calls\"}}\n",
    "chart.add_serie(name=\"serie 1\", y=ydata, x=xdata, extra=extra_serie, **kwargs1)\n",
    "chart.add_serie(name=\"serie 2\", y=ydata2, x=xdata, extra=extra_serie, **kwargs2)\n",
    "chart.add_serie(name=\"serie 3\", y=ydata3, x=xdata, extra=extra_serie, **kwargs3)\n",
    "chart"
   ]
  },
  {
   "cell_type": "markdown",
   "metadata": {},
   "source": [
    "### Bar Chart"
   ]
  },
  {
   "cell_type": "code",
   "execution_count": 28,
   "metadata": {
    "collapsed": false
   },
   "outputs": [
    {
     "data": {
      "text/html": [
       "<!DOCTYPE html>\n",
       "<html lang=\"en\">\n",
       "    <head>\n",
       "        <meta charset=\"utf-8\" />\n",
       "        <link href=\"https://cdnjs.cloudflare.com/ajax/libs/nvd3/1.7.0/nv.d3.min.css\" rel=\"stylesheet\" />\n",
       "        <script src=\"https://cdnjs.cloudflare.com/ajax/libs/d3/3.5.5/d3.min.js\"></script>\n",
       "        <script src=\"https://cdnjs.cloudflare.com/ajax/libs/nvd3/1.7.0/nv.d3.min.js\"></script>\n",
       "    </head>\n",
       "    <body>\n",
       "        \n",
       "    <div id=\"my_graphname\"><svg style=\"width:800px;height:400px;\"></svg></div>\n",
       "\n",
       "\n",
       "    <script>\n",
       "\n",
       "    $(function(){\n",
       "\n",
       "\n",
       "                data_my_graphname=[{\"values\": [{\"y\": 3, \"x\": \"A\"}, {\"y\": 12, \"x\": \"B\"}, {\"y\": -10, \"x\": \"C\"}, {\"y\": 5, \"x\": \"D\"}, {\"y\": 25, \"x\": \"E\"}, {\"y\": -7, \"x\": \"F\"}, {\"y\": 2, \"x\": \"G\"}], \"key\": \"Serie 1\", \"yAxis\": \"1\"}];\n",
       "\n",
       "\n",
       "            nv.addGraph(function() {\n",
       "        var chart = nv.models.discreteBarChart();\n",
       "\n",
       "        chart.margin({top: 30, right: 60, bottom: 20, left: 60});\n",
       "\n",
       "        var datum = data_my_graphname;\n",
       "\n",
       "\n",
       "\n",
       "                    chart.yAxis\n",
       "                .tickFormat(d3.format(',.0f'));\n",
       "\n",
       "    \n",
       "    \n",
       "\n",
       "        \n",
       "\n",
       "\n",
       "\n",
       "            d3.select('#my_graphname svg')\n",
       "            .datum(datum)\n",
       "            .transition().duration(500)\n",
       "            .attr('width', 800)\n",
       "            .attr('height', 400)\n",
       "            .call(chart);\n",
       "\n",
       "    \n",
       "        });\n",
       "\n",
       "\n",
       "\n",
       "        });\n",
       "    </script>\n",
       "\n",
       "    </body>\n",
       "</html>"
      ],
      "text/plain": [
       "<nvd3.discreteBarChart.discreteBarChart at 0x7f59136afa10>"
      ]
     },
     "execution_count": 28,
     "metadata": {},
     "output_type": "execute_result"
    }
   ],
   "source": [
    "type = \"discreteBarChart\"\n",
    "chart = nvd3.discreteBarChart(name='my graphname', height=400, width=800, jquery_on_ready=True)\n",
    "xdata = [\"A\", \"B\", \"C\", \"D\", \"E\", \"F\", \"G\"]\n",
    "ydata = [3, 12, -10, 5, 25, -7, 2]\n",
    "\n",
    "extra_serie = {\"tooltip\": {\"y_start\": \"\", \"y_end\": \" cal\"}}\n",
    "chart.add_serie(y=ydata, x=xdata, extra=extra_serie)\n",
    "chart\n"
   ]
  }
 ],
 "metadata": {
  "kernelspec": {
   "display_name": "Python 2",
   "language": "python",
   "name": "python2"
  },
  "language_info": {
   "codemirror_mode": {
    "name": "ipython",
    "version": 2
   },
   "file_extension": ".py",
   "mimetype": "text/x-python",
   "name": "python",
   "nbconvert_exporter": "python",
   "pygments_lexer": "ipython2",
   "version": "2.7.9"
  }
 },
 "nbformat": 4,
 "nbformat_minor": 0
}
