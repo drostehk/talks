{
 "cells": [
  {
   "cell_type": "code",
   "execution_count": 1,
   "metadata": {
    "collapsed": false
   },
   "outputs": [],
   "source": [
    "from vincent import *"
   ]
  },
  {
   "cell_type": "markdown",
   "metadata": {},
   "source": [
    "## Visualization"
   ]
  },
  {
   "cell_type": "markdown",
   "metadata": {},
   "source": [
    "The top-most element of Vega JSON documents is implemented by the `Visualization` class. Visualizations contain all information for rendering a complete document. \n",
    "\n",
    "We'll start by creating a new `Visualization`."
   ]
  },
  {
   "cell_type": "code",
   "execution_count": 2,
   "metadata": {
    "collapsed": false
   },
   "outputs": [],
   "source": [
    "vis = Visualization(width=400, height=200)"
   ]
  },
  {
   "cell_type": "markdown",
   "metadata": {},
   "source": [
    "The keywords `width` and `height` are Vega document keys. All valid Vega keys can be specified as keywords in the class constructors. The keys are implemented as class properties - complete with doc strings - and can be explored via help (and tab-completion in ipython)."
   ]
  },
  {
   "cell_type": "code",
   "execution_count": 3,
   "metadata": {
    "collapsed": false
   },
   "outputs": [
    {
     "name": "stdout",
     "output_type": "stream",
     "text": [
      "Help on class Visualization in module vincent.visualization:\n",
      "\n",
      "class Visualization(vincent.core.GrammarClass)\n",
      " |  Visualization container class.\n",
      " |  \n",
      " |  This class defines the full visualization. Calling its ``to_json``\n",
      " |  method should return a complete Vega definition.\n",
      " |  \n",
      " |  The sub-elements of the visualization are stored in the ``data``,\n",
      " |  ``axes``, ``marks``, and ``scales`` attributes. See the docs for each\n",
      " |  attribute for details.\n",
      " |  \n",
      " |  Method resolution order:\n",
      " |      Visualization\n",
      " |      vincent.core.GrammarClass\n",
      " |      __builtin__.object\n",
      " |  \n",
      " |  Methods defined here:\n",
      " |  \n",
      " |  __init__(self, *args, **kwargs)\n",
      " |      Initialize a Visualization\n",
      " |      \n",
      " |      In addition to setting any attributes, this sets the data, marks,\n",
      " |      scales, and axes properties to empty KeyedLists if they aren't\n",
      " |      defined by the arguments.\n",
      " |  \n",
      " |  axis_titles(self, x=None, y=None)\n",
      " |      Apply axis titles to the figure.\n",
      " |      \n",
      " |      This is a convenience method for manually modifying the \"Axes\" mark.\n",
      " |      \n",
      " |      Parameters\n",
      " |      ----------\n",
      " |      x: string, default 'null'\n",
      " |          X-axis title\n",
      " |      y: string, default 'null'\n",
      " |          Y-axis title\n",
      " |      \n",
      " |      Example\n",
      " |      -------\n",
      " |      >>>vis.axis_titles(y=\"Data 1\", x=\"Data 2\")\n",
      " |  \n",
      " |  colors(self, brew=None, range_=None)\n",
      " |      Convenience method for adding color brewer scales to charts with a\n",
      " |      color scale, such as stacked or grouped bars.\n",
      " |      \n",
      " |      See the colors here: http://colorbrewer2.org/\n",
      " |      \n",
      " |      Or here: http://bl.ocks.org/mbostock/5577023\n",
      " |      \n",
      " |      This assumes that a 'color' scale exists on your chart.\n",
      " |      \n",
      " |      Parameters\n",
      " |      ----------\n",
      " |      brew: string, default None\n",
      " |          Color brewer scheme (BuGn, YlOrRd, etc)\n",
      " |      range: list, default None\n",
      " |          List of colors. Ex: ['#ac4142', '#d28445', '#f4bf75']\n",
      " |  \n",
      " |  common_axis_properties(self, color=None, title_size=None)\n",
      " |      Set common axis properties such as color\n",
      " |      \n",
      " |      Parameters\n",
      " |      ----------\n",
      " |      color: str, default None\n",
      " |          Hex color str, etc\n",
      " |  \n",
      " |  display(self)\n",
      " |      Display the visualization inline in the IPython notebook.\n",
      " |      \n",
      " |      This is deprecated, use the following instead::\n",
      " |      \n",
      " |          from IPython.display import display\n",
      " |          display(viz)\n",
      " |  \n",
      " |  legend(self, title=None, scale='color', text_color=None)\n",
      " |      Convience method for adding a legend to the figure.\n",
      " |      \n",
      " |      Important: This defaults to the color scale that is generated with\n",
      " |      Line, Area, Stacked Line, etc charts. For bar charts, the scale ref is\n",
      " |      usually 'y'.\n",
      " |      \n",
      " |      Parameters\n",
      " |      ----------\n",
      " |      title: string, default None\n",
      " |          Legend Title\n",
      " |      scale: string, default 'color'\n",
      " |          Scale reference for legend\n",
      " |      text_color: str, default None\n",
      " |          Title and label color\n",
      " |  \n",
      " |  validate(self, require_all=True, scale='colors')\n",
      " |      Validate the visualization contents.\n",
      " |      \n",
      " |      Parameters\n",
      " |      ----------\n",
      " |      require_all : boolean, default True\n",
      " |          If True (default), then all fields ``data``, ``scales``,\n",
      " |          ``axes``, and ``marks`` must be defined. The user is allowed to\n",
      " |          disable this if the intent is to define the elements\n",
      " |          client-side.\n",
      " |      \n",
      " |      If the contents of the visualization are not valid Vega, then a\n",
      " |      :class:`ValidationError` is raised.\n",
      " |  \n",
      " |  x_axis_properties(self, title_size=None, title_offset=None, label_angle=None, label_align=None, color=None)\n",
      " |      Change x-axis title font size and label angle\n",
      " |      \n",
      " |      Parameters\n",
      " |      ----------\n",
      " |      title_size: int, default None\n",
      " |          Title size, in px\n",
      " |      title_offset: int, default None\n",
      " |          Pixel offset from given axis\n",
      " |      label_angle: int, default None\n",
      " |          label angle in degrees\n",
      " |      label_align: str, default None\n",
      " |          Label alignment\n",
      " |      color: str, default None\n",
      " |          Hex color\n",
      " |  \n",
      " |  y_axis_properties(self, title_size=None, title_offset=None, label_angle=None, label_align=None, color=None)\n",
      " |      Change y-axis title font size and label angle\n",
      " |      \n",
      " |      Parameters\n",
      " |      ----------\n",
      " |      title_size: int, default None\n",
      " |          Title size, in px\n",
      " |      title_offset: int, default None\n",
      " |          Pixel offset from given axis\n",
      " |      label_angle: int, default None\n",
      " |          label angle in degrees\n",
      " |      label_align: str, default None\n",
      " |          Label alignment\n",
      " |      color: str, default None\n",
      " |          Hex color\n",
      " |  \n",
      " |  ----------------------------------------------------------------------\n",
      " |  Data descriptors defined here:\n",
      " |  \n",
      " |  axes\n",
      " |      list or KeyedList of ``Axis`` : Axis definitions\n",
      " |      \n",
      " |      Axes define the locations of the data being mapped by the scales.\n",
      " |      See the :class:`Axis` class for details.\n",
      " |  \n",
      " |  data\n",
      " |      list or KeyedList of ``Data`` : Data definitions\n",
      " |      \n",
      " |      This defines the data being visualized. See the :class:`Data` class\n",
      " |      for details.\n",
      " |  \n",
      " |  height\n",
      " |      int : Height of the visualization in pixels\n",
      " |      \n",
      " |      Default is 500 if undefined.\n",
      " |  \n",
      " |  legends\n",
      " |      list or KeyedList of ``Legends`` : Legend definitions\n",
      " |      \n",
      " |      Legends visualize scales, and take one or more scales as their input.\n",
      " |      They can be customized via a LegendProperty object.\n",
      " |  \n",
      " |  marks\n",
      " |      list or KeyedList of ``Mark`` : Mark definitions\n",
      " |      \n",
      " |      Marks are the visual objects (such as lines, bars, etc.) that\n",
      " |      represent the data in the visualization space. See the :class:`Mark`\n",
      " |      class for details.\n",
      " |  \n",
      " |  name\n",
      " |      string : Name of the visualization (optional)\n",
      " |  \n",
      " |  padding\n",
      " |      int or dict : Padding around visualization\n",
      " |      \n",
      " |      The padding defines the distance between the edge of the\n",
      " |      visualization canvas to the visualization box. It does not count as\n",
      " |      part of the visualization width/height. Values cannot be negative.\n",
      " |      \n",
      " |      If a dict, padding must have all keys ``''top'``, ``'left'``,\n",
      " |      ``'right'``, and ``'bottom'`` with int values.\n",
      " |  \n",
      " |  scales\n",
      " |      list or KeyedList of ``Scale`` : Scale definitions\n",
      " |      \n",
      " |      Scales map the data from the domain of the data to some\n",
      " |      visualization space (such as an x-axis). See the :class:`Scale`\n",
      " |      class for details.\n",
      " |  \n",
      " |  viewport\n",
      " |      2-element list of ints : Dimensions of the viewport\n",
      " |      \n",
      " |      The viewport is a bounding box containing the visualization. If the\n",
      " |      dimensions of the visualization are larger than the viewport, then\n",
      " |      the visualization will be scrollable.\n",
      " |      \n",
      " |      If undefined, then the full visualization is shown.\n",
      " |  \n",
      " |  width\n",
      " |      int : Width of the visualization in pixels\n",
      " |      \n",
      " |      Default is 500 if undefined.\n",
      " |  \n",
      " |  ----------------------------------------------------------------------\n",
      " |  Methods inherited from vincent.core.GrammarClass:\n",
      " |  \n",
      " |  from_json(self)\n",
      " |      Load object from JSON\n",
      " |      \n",
      " |      Not yet implemented.\n",
      " |  \n",
      " |  to_json(self, path=None, html_out=False, html_path='vega_template.html', validate=False, pretty_print=True)\n",
      " |      Convert object to JSON\n",
      " |      \n",
      " |      Parameters\n",
      " |      ----------\n",
      " |      path: string, default None\n",
      " |          Path to write JSON out. If there is no path provided, JSON\n",
      " |          will be returned as a string to the console.\n",
      " |      html_out: boolean, default False\n",
      " |          If True, vincent will output an simple HTML scaffold to\n",
      " |          visualize the vega json output.\n",
      " |      html_path: string, default 'vega_template.html'\n",
      " |          Path for the html file (if html_out=True)\n",
      " |      validate : boolean\n",
      " |          If True, call the object's `validate` method before\n",
      " |          serializing. Default is False.\n",
      " |      pretty_print : boolean\n",
      " |          If True (default), JSON is printed in more-readable form with\n",
      " |          indentation and spaces.\n",
      " |      \n",
      " |      Returns\n",
      " |      -------\n",
      " |      string\n",
      " |          JSON serialization of the class's grammar properties.\n",
      " |  \n",
      " |  ----------------------------------------------------------------------\n",
      " |  Data descriptors inherited from vincent.core.GrammarClass:\n",
      " |  \n",
      " |  __dict__\n",
      " |      dictionary for instance variables (if defined)\n",
      " |  \n",
      " |  __weakref__\n",
      " |      list of weak references to the object (if defined)\n",
      "\n"
     ]
    }
   ],
   "source": [
    "help(Visualization)"
   ]
  },
  {
   "cell_type": "markdown",
   "metadata": {},
   "source": [
    "This will already dump some JSON, but there isn't enough yet to define a valid Vega document:"
   ]
  },
  {
   "cell_type": "code",
   "execution_count": 4,
   "metadata": {
    "collapsed": false
   },
   "outputs": [
    {
     "name": "stdout",
     "output_type": "stream",
     "text": [
      "{\n",
      "  \"axes\": [],\n",
      "  \"data\": [],\n",
      "  \"height\": 200,\n",
      "  \"legends\": [],\n",
      "  \"marks\": [],\n",
      "  \"scales\": [],\n",
      "  \"width\": 400\n",
      "}\n"
     ]
    }
   ],
   "source": [
    "print(vis.to_json())"
   ]
  },
  {
   "cell_type": "markdown",
   "metadata": {},
   "source": [
    "Vincent only creates JSON data for keys that have been explicitly defined. For example, though the property `padding` already exists,"
   ]
  },
  {
   "cell_type": "code",
   "execution_count": 5,
   "metadata": {
    "collapsed": false
   },
   "outputs": [
    {
     "data": {
      "text/plain": [
       "True"
      ]
     },
     "execution_count": 5,
     "metadata": {},
     "output_type": "execute_result"
    }
   ],
   "source": [
    "hasattr(vis, 'padding')"
   ]
  },
  {
   "cell_type": "markdown",
   "metadata": {},
   "source": [
    "it doesn't show up in the JSON output until it's been assigned. Similarly, Vega properties that *have* been assigned can also be deleted, which will prevent them from appearing in the encoded JSON. For example,"
   ]
  },
  {
   "cell_type": "code",
   "execution_count": 6,
   "metadata": {
    "collapsed": false
   },
   "outputs": [
    {
     "name": "stdout",
     "output_type": "stream",
     "text": [
      "{\n",
      "  \"axes\": [],\n",
      "  \"data\": [],\n",
      "  \"height\": 200,\n",
      "  \"legends\": [],\n",
      "  \"marks\": [],\n",
      "  \"scales\": []\n",
      "}\n"
     ]
    }
   ],
   "source": [
    "del vis.width\n",
    "print(vis.to_json())"
   ]
  },
  {
   "cell_type": "markdown",
   "metadata": {},
   "source": [
    "has removed `\"width\"` from the returned JSON. We'd like our width defined though, so let's put it back.\n"
   ]
  },
  {
   "cell_type": "code",
   "execution_count": 7,
   "metadata": {
    "collapsed": false
   },
   "outputs": [],
   "source": [
    "vis.width = 400"
   ]
  },
  {
   "cell_type": "markdown",
   "metadata": {},
   "source": [
    "We can add margins around the edges by setting the `padding` property to a 4-element dict:"
   ]
  },
  {
   "cell_type": "code",
   "execution_count": 8,
   "metadata": {
    "collapsed": false
   },
   "outputs": [
    {
     "name": "stdout",
     "output_type": "stream",
     "text": [
      "{\n",
      "  \"axes\": [],\n",
      "  \"data\": [],\n",
      "  \"height\": 200,\n",
      "  \"legends\": [],\n",
      "  \"marks\": [],\n",
      "  \"padding\": {\n",
      "    \"bottom\": 20,\n",
      "    \"left\": 30,\n",
      "    \"right\": 10,\n",
      "    \"top\": 10\n",
      "  },\n",
      "  \"scales\": [],\n",
      "  \"width\": 400\n",
      "}\n"
     ]
    }
   ],
   "source": [
    "vis.padding = {'top': 10, 'left': 30, 'bottom': 20, 'right': 10}\n",
    "print(vis.to_json())"
   ]
  },
  {
   "cell_type": "markdown",
   "metadata": {},
   "source": [
    "Because valid JSON does not make valid Vega, Vincent tries to prevent us from generating documents that won't render figures in the client (usually the browser). For example, setting the `padding` property with an invalid `'above'` key raises a `ValueError`."
   ]
  },
  {
   "cell_type": "code",
   "execution_count": 9,
   "metadata": {
    "collapsed": false
   },
   "outputs": [
    {
     "name": "stdout",
     "output_type": "stream",
     "text": [
      "Padding must have keys \"top\", \"left\", \"right\", \"bottom\".\n"
     ]
    }
   ],
   "source": [
    "try:\n",
    "    vis.padding = {'above': 10, 'left': 30, 'bottom': 20, 'right': 10}\n",
    "except ValueError as e:\n",
    "    print(e)"
   ]
  },
  {
   "cell_type": "markdown",
   "metadata": {},
   "source": [
    "Vincent always raises `ValueError` if it thinks a property assignment isn't valid Vega. Otherwise we might spend quite some time debugging our documents in the client.\n",
    "\n",
    "Next we'll look at defining document data."
   ]
  },
  {
   "cell_type": "markdown",
   "metadata": {},
   "source": [
    "## Data"
   ]
  },
  {
   "cell_type": "markdown",
   "metadata": {},
   "source": [
    "Data in Vega is defined in tabular form. Though it's certainly possible to set the data manually, it's much easier to use the class methods `Data.from_iters`, `Data.from_pandas`, and `Data.from_numpy`."
   ]
  },
  {
   "cell_type": "code",
   "execution_count": 10,
   "metadata": {
    "collapsed": false
   },
   "outputs": [
    {
     "name": "stdout",
     "output_type": "stream",
     "text": [
      "{\"name\": \"table\", \"values\": [{\"col\": \"y\", \"idx\": \"A\", \"val\": 28}, {\"col\": \"y\", \"idx\": \"B\", \"val\": 55}, {\"col\": \"y\", \"idx\": \"C\", \"val\": 43}, {\"col\": \"y\", \"idx\": \"D\", \"val\": 91}, {\"col\": \"y\", \"idx\": \"E\", \"val\": 81}, {\"col\": \"y\", \"idx\": \"F\", \"val\": 53}, {\"col\": \"y\", \"idx\": \"G\", \"val\": 19}, {\"col\": \"y\", \"idx\": \"H\", \"val\": 87}, {\"col\": \"y\", \"idx\": \"I\", \"val\": 52}]}\n"
     ]
    }
   ],
   "source": [
    "mydata = Data.from_mult_iters(x=['A', 'B', 'C', 'D', 'E', 'F', 'G', 'H', 'I'], y=[28, 55, 43, 91, 81, 53, 19, 87, 52], idx='x')\n",
    "print(mydata.to_json(pretty_print=False))"
   ]
  },
  {
   "cell_type": "markdown",
   "metadata": {},
   "source": [
    "Note that in Vega, all data must have a name. Vincent will set the data name to `'table'` if it isn't provided.\n",
    "\n",
    "Let's add this data to our visualization:"
   ]
  },
  {
   "cell_type": "code",
   "execution_count": 11,
   "metadata": {
    "collapsed": false
   },
   "outputs": [],
   "source": [
    "vis.data.append(mydata)"
   ]
  },
  {
   "cell_type": "markdown",
   "metadata": {},
   "source": [
    "The data in the Vega JSON document is an array, allowing us to define multiple data sets in one document. The data elements (as well as scales and axes) can be accessed by their location,"
   ]
  },
  {
   "cell_type": "code",
   "execution_count": 12,
   "metadata": {
    "collapsed": false
   },
   "outputs": [
    {
     "data": {
      "text/plain": [
       "{'col': 'y', 'idx': 'A', 'val': 28}"
      ]
     },
     "execution_count": 12,
     "metadata": {},
     "output_type": "execute_result"
    }
   ],
   "source": [
    "vis.data[0].values[0]"
   ]
  },
  {
   "cell_type": "markdown",
   "metadata": {},
   "source": [
    "or by their name,"
   ]
  },
  {
   "cell_type": "code",
   "execution_count": 13,
   "metadata": {
    "collapsed": false
   },
   "outputs": [
    {
     "data": {
      "text/plain": [
       "{'col': 'y', 'idx': 'A', 'val': 28}"
      ]
     },
     "execution_count": 13,
     "metadata": {},
     "output_type": "execute_result"
    }
   ],
   "source": [
    "vis.data['table'].values[0]"
   ]
  },
  {
   "cell_type": "markdown",
   "metadata": {},
   "source": [
    "Assignments by name are also possible."
   ]
  },
  {
   "cell_type": "code",
   "execution_count": 14,
   "metadata": {
    "collapsed": false
   },
   "outputs": [],
   "source": [
    "vis.data['table'] = mydata"
   ]
  },
  {
   "cell_type": "markdown",
   "metadata": {},
   "source": [
    "In this case the key of the data (`'table'`) must match the `name` property of the assigned object, or a `ValidationError` is raised. Data can also point to an external source by setting the `url` property. See the Vega documentation for more info.\n",
    "\n",
    "Let's add some scales to our visualization."
   ]
  },
  {
   "cell_type": "markdown",
   "metadata": {},
   "source": [
    "## Scales"
   ]
  },
  {
   "cell_type": "markdown",
   "metadata": {},
   "source": [
    "Scales map the data from the space of the data (the domain of the scale) to the space of the visualization (the range of the scale). These are defined using the `Scale` class."
   ]
  },
  {
   "cell_type": "code",
   "execution_count": 15,
   "metadata": {
    "collapsed": false
   },
   "outputs": [],
   "source": [
    "vis.scales['x'] = Scale(name='x', type='ordinal', range='width')"
   ]
  },
  {
   "cell_type": "markdown",
   "metadata": {},
   "source": [
    "The domain of the scales is usually defined by referencing a field of the data. These reference are defined by the `DataRef` class."
   ]
  },
  {
   "cell_type": "code",
   "execution_count": 16,
   "metadata": {
    "collapsed": false
   },
   "outputs": [
    {
     "data": {
      "text/plain": [
       "'{\"domain\": {\"data\": \"table\", \"field\": \"data.idx\"}, \"name\": \"x\", \"range\": \"width\", \"type\": \"ordinal\"}'"
      ]
     },
     "execution_count": 16,
     "metadata": {},
     "output_type": "execute_result"
    }
   ],
   "source": [
    "vis.scales['x'].domain = DataRef(data='table', field='data.idx')\n",
    "vis.scales['x'].to_json(pretty_print=False)"
   ]
  },
  {
   "cell_type": "markdown",
   "metadata": {},
   "source": [
    "Our x-data is ordinal (since it's letters), but our y-data is quantitative. If the `type` property is undefined, Vega defaults to a `linear` type."
   ]
  },
  {
   "cell_type": "code",
   "execution_count": 17,
   "metadata": {
    "collapsed": false
   },
   "outputs": [],
   "source": [
    "vis.scales.append(Scale(name='y', range='height', nice=True, domain=DataRef(data='table', field='data.val')))"
   ]
  },
  {
   "cell_type": "markdown",
   "metadata": {},
   "source": [
    "Now let's add some axes to define the visualization space."
   ]
  },
  {
   "cell_type": "markdown",
   "metadata": {},
   "source": [
    "## Axes"
   ]
  },
  {
   "cell_type": "markdown",
   "metadata": {},
   "source": [
    "Axes provide a guide for translating spatial relationships about data. They are defined, naturally, by the `Axis` class."
   ]
  },
  {
   "cell_type": "code",
   "execution_count": 18,
   "metadata": {
    "collapsed": false
   },
   "outputs": [],
   "source": [
    "vis.axes.extend([Axis(type='x', scale='x'), Axis(type='y', scale='y')])"
   ]
  },
  {
   "cell_type": "markdown",
   "metadata": {},
   "source": [
    "While Vega generally doesn't care if we label our data `'x'` or `'y'` (as opposed to, say, `'time'`), the axes are the exception. Here, `'x'` is always used to refer to the horizontal axis, while `'y'` refers to the vertical axis. Also note that while the `data` and `scales` properties are keyed according to the `name` property of their contents, the `axes` property is keyed according to the `type` property."
   ]
  },
  {
   "cell_type": "markdown",
   "metadata": {},
   "source": [
    "## Marks"
   ]
  },
  {
   "cell_type": "markdown",
   "metadata": {},
   "source": [
    "Marks are the most fundamental part of the visualization; they're what the viewer sees. All marks in Vega have a `type`, such as `line`, `rect`, ect. To add the bars to our bar chart, we add `rect` marks:"
   ]
  },
  {
   "cell_type": "code",
   "execution_count": 19,
   "metadata": {
    "collapsed": false
   },
   "outputs": [],
   "source": [
    "bars = Mark(type='rect')"
   ]
  },
  {
   "cell_type": "markdown",
   "metadata": {},
   "source": [
    "We define the data set the Marks represent by assigning the `from_` property to a `MarkRef`:"
   ]
  },
  {
   "cell_type": "code",
   "execution_count": 20,
   "metadata": {
    "collapsed": false
   },
   "outputs": [],
   "source": [
    "bars.from_ = MarkRef(data='table')"
   ]
  },
  {
   "cell_type": "markdown",
   "metadata": {},
   "source": [
    "Though `from_` is used for the property name - `from` would be invalid Python syntax - the JSON field is still `\"from\"`:"
   ]
  },
  {
   "cell_type": "code",
   "execution_count": 21,
   "metadata": {
    "collapsed": false
   },
   "outputs": [
    {
     "data": {
      "text/plain": [
       "'{\"from\": {\"data\": \"table\"}, \"type\": \"rect\"}'"
      ]
     },
     "execution_count": 21,
     "metadata": {},
     "output_type": "execute_result"
    }
   ],
   "source": [
    "bars.to_json(pretty_print=False)"
   ]
  },
  {
   "cell_type": "markdown",
   "metadata": {},
   "source": [
    "The appearance of the marks are determined by the `properties` property. The `properties` is set to a `MarkProperties` object that has `enter`, `exit`, `hover`, and `update`, which correspond to different events that may alter the mark's appearance. Each property of the `MarkProperties` object can be set to a `PropertySet` class that specifies the appearance details, such as color, stroke, etc.. Finally, each property of PropertySet is set to a `ValueRef` class. The `ValueRef`s link the details of the mark's appearance to the data via the scales.\n",
    "\n",
    "This might sound a bit complicated, because it is. Maintaining the flexibility of something like a visualization grammar requires multiple levels of abstraction. "
   ]
  },
  {
   "cell_type": "code",
   "execution_count": 22,
   "metadata": {
    "collapsed": false
   },
   "outputs": [],
   "source": [
    "bars.properties = MarkProperties()\n",
    "bars.properties.enter = PropertySet()\n",
    "\n",
    "# Set the x-location of the bars to the data's x field, mapped through the x scale. Internally vincent tidies the data to 'idx'\n",
    "bars.properties.enter.x = ValueRef(scale='x', field='data.idx')\n",
    "# Use \"band\" to set the width of the bars to be flush against one another, minus a 1-pixel offset.\n",
    "bars.properties.enter.width = ValueRef(scale='x', band=True, offset=-1)\n",
    "# Set the height of the bars to the data's y field, mapped through the y scale.Internally vincent tidies the data to 'val'\n",
    "bars.properties.enter.y = ValueRef(scale='y', field='data.val')\n",
    "# Set the bottom of the bars to the x-axis.\n",
    "bars.properties.enter.y2 = ValueRef(scale='y', value=0)\n",
    "\n",
    "bars.properties.update = PropertySet()\n",
    "# On the \"update\" event (see the Vega docs for details), set the color of the bars to \"steelblue\".\n",
    "bars.properties.update.fill = ValueRef(value='steelblue')\n",
    "# On the \"hover\" event, set the color of the bars to \"red\".\n",
    "bars.properties.hover = PropertySet()\n",
    "bars.properties.hover.fill = ValueRef(value='red')"
   ]
  },
  {
   "cell_type": "markdown",
   "metadata": {},
   "source": [
    "As one might imagine, some fairly complex, dynamic marks can be defined. Use your imagination.\n",
    "\n",
    "Now adding the marks to the visualization,"
   ]
  },
  {
   "cell_type": "code",
   "execution_count": 23,
   "metadata": {
    "collapsed": false
   },
   "outputs": [],
   "source": [
    "vis.marks.append(bars)"
   ]
  },
  {
   "cell_type": "markdown",
   "metadata": {},
   "source": [
    "Finally, visualizing it in the Notebook: "
   ]
  },
  {
   "cell_type": "code",
   "execution_count": 24,
   "metadata": {
    "collapsed": false
   },
   "outputs": [
    {
     "data": {
      "text/html": [
       "\n",
       "           <script>\n",
       "               \n",
       "                function vct_load_lib(url, callback){\n",
       "                      if(typeof d3 !== 'undefined' &&\n",
       "                         url === 'http://d3js.org/d3.v3.min.js'){\n",
       "                        callback()\n",
       "                      }\n",
       "                      var s = document.createElement('script');\n",
       "                      s.src = url;\n",
       "                      s.async = true;\n",
       "                      s.onreadystatechange = s.onload = callback;\n",
       "                      s.onerror = function(){\n",
       "                        console.warn(\"failed to load library \" + url);\n",
       "                        };\n",
       "                      document.getElementsByTagName(\"head\")[0].appendChild(s);\n",
       "                };\n",
       "                var vincent_event = new CustomEvent(\n",
       "                  \"vincent_libs_loaded\",\n",
       "                  {bubbles: true, cancelable: true}\n",
       "                );\n",
       "                \n",
       "               function load_all_libs(){\n",
       "                  console.log('Loading Vincent libs...')\n",
       "                  vct_load_lib('http://d3js.org/d3.v3.min.js', function(){\n",
       "                  vct_load_lib('http://d3js.org/d3.geo.projection.v0.min.js', function(){\n",
       "                  vct_load_lib('http://wrobstory.github.io/d3-cloud/d3.layout.cloud.js', function(){\n",
       "                  vct_load_lib('http://wrobstory.github.io/vega/vega.v1.3.3.js', function(){\n",
       "                  window.dispatchEvent(vincent_event);\n",
       "                  });\n",
       "                  });\n",
       "                  });\n",
       "                  });\n",
       "               };\n",
       "               if(typeof define === \"function\" && define.amd){\n",
       "                    if (window['d3'] === undefined ||\n",
       "                        window['topojson'] === undefined){\n",
       "                        require.config(\n",
       "                            {paths: {\n",
       "                              d3: 'http://d3js.org/d3.v3.min',\n",
       "                              topojson: 'http://d3js.org/topojson.v1.min'\n",
       "                              }\n",
       "                            }\n",
       "                          );\n",
       "                        require([\"d3\"], function(d3){\n",
       "                            console.log('Loading Vincent from require.js...')\n",
       "                            window.d3 = d3;\n",
       "                            require([\"topojson\"], function(topojson){\n",
       "                                window.topojson = topojson;\n",
       "                                load_all_libs();\n",
       "                            });\n",
       "                        });\n",
       "                    } else {\n",
       "                        load_all_libs();\n",
       "                    };\n",
       "               }else{\n",
       "                    console.log('Require.js not found, loading manually...')\n",
       "                    load_all_libs();\n",
       "               };\n",
       "\n",
       "           </script>"
      ],
      "text/plain": [
       "<IPython.core.display.HTML object>"
      ]
     },
     "metadata": {},
     "output_type": "display_data"
    }
   ],
   "source": [
    "initialize_notebook()"
   ]
  },
  {
   "cell_type": "markdown",
   "metadata": {},
   "source": [
    "In the notebook `Chart`s can be displayed by just having the chart variable as the last statement in a cell which will call `chart._repr_html()` internally. You can also use `chart.display()` or `from IPython.display import display; display(chart)`."
   ]
  },
  {
   "cell_type": "code",
   "execution_count": 25,
   "metadata": {
    "collapsed": false,
    "scrolled": true
   },
   "outputs": [
    {
     "data": {
      "text/html": [
       "<div id=\"vis5fd616747b444caaaac795bc69e87a9e\"></div>\n",
       "<script>\n",
       "   ( function() {\n",
       "     var _do_plot = function() {\n",
       "       if (typeof vg === 'undefined') {\n",
       "         window.addEventListener('vincent_libs_loaded', _do_plot)\n",
       "         return;\n",
       "       }\n",
       "       vg.parse.spec({\"axes\": [{\"scale\": \"x\", \"type\": \"x\"}, {\"scale\": \"y\", \"type\": \"y\"}], \"data\": [{\"name\": \"table\", \"values\": [{\"col\": \"y\", \"idx\": \"A\", \"val\": 28}, {\"col\": \"y\", \"idx\": \"B\", \"val\": 55}, {\"col\": \"y\", \"idx\": \"C\", \"val\": 43}, {\"col\": \"y\", \"idx\": \"D\", \"val\": 91}, {\"col\": \"y\", \"idx\": \"E\", \"val\": 81}, {\"col\": \"y\", \"idx\": \"F\", \"val\": 53}, {\"col\": \"y\", \"idx\": \"G\", \"val\": 19}, {\"col\": \"y\", \"idx\": \"H\", \"val\": 87}, {\"col\": \"y\", \"idx\": \"I\", \"val\": 52}]}], \"height\": 200, \"legends\": [], \"marks\": [{\"from\": {\"data\": \"table\"}, \"properties\": {\"enter\": {\"width\": {\"band\": true, \"offset\": -1, \"scale\": \"x\"}, \"x\": {\"field\": \"data.idx\", \"scale\": \"x\"}, \"y\": {\"field\": \"data.val\", \"scale\": \"y\"}, \"y2\": {\"scale\": \"y\", \"value\": 0}}, \"hover\": {\"fill\": {\"value\": \"red\"}}, \"update\": {\"fill\": {\"value\": \"steelblue\"}}}, \"type\": \"rect\"}], \"padding\": {\"bottom\": 20, \"left\": 30, \"right\": 10, \"top\": 10}, \"scales\": [{\"domain\": {\"data\": \"table\", \"field\": \"data.idx\"}, \"name\": \"x\", \"range\": \"width\", \"type\": \"ordinal\"}, {\"domain\": {\"data\": \"table\", \"field\": \"data.val\"}, \"name\": \"y\", \"nice\": true, \"range\": \"height\"}], \"width\": 400}, function(chart) {\n",
       "         chart({el: \"#vis5fd616747b444caaaac795bc69e87a9e\"}).update();\n",
       "       });\n",
       "     };\n",
       "     _do_plot();\n",
       "   })();\n",
       "</script>\n",
       "<style>.vega canvas {width: 100%;}</style>\n",
       "        "
      ],
      "text/plain": [
       "<vincent.visualization.Visualization at 0x7f3b6f801050>"
      ]
     },
     "execution_count": 25,
     "metadata": {},
     "output_type": "execute_result"
    }
   ],
   "source": [
    "vis"
   ]
  },
  {
   "cell_type": "markdown",
   "metadata": {},
   "source": [
    "Once the visualization is defined, it's fairly easy to change it's properties:"
   ]
  },
  {
   "cell_type": "code",
   "execution_count": 26,
   "metadata": {
    "collapsed": false
   },
   "outputs": [
    {
     "data": {
      "text/html": [
       "<div id=\"vis98ef24cf12994459ae8099271cf79547\"></div>\n",
       "<script>\n",
       "   ( function() {\n",
       "     var _do_plot = function() {\n",
       "       if (typeof vg === 'undefined') {\n",
       "         window.addEventListener('vincent_libs_loaded', _do_plot)\n",
       "         return;\n",
       "       }\n",
       "       vg.parse.spec({\"axes\": [{\"scale\": \"x\", \"type\": \"x\"}, {\"scale\": \"y\", \"type\": \"y\"}], \"data\": [{\"name\": \"table\", \"values\": [{\"col\": \"y\", \"idx\": \"A\", \"val\": 28}, {\"col\": \"y\", \"idx\": \"B\", \"val\": 55}, {\"col\": \"y\", \"idx\": \"C\", \"val\": 43}, {\"col\": \"y\", \"idx\": \"D\", \"val\": 91}, {\"col\": \"y\", \"idx\": \"E\", \"val\": 81}, {\"col\": \"y\", \"idx\": \"F\", \"val\": 53}, {\"col\": \"y\", \"idx\": \"G\", \"val\": 19}, {\"col\": \"y\", \"idx\": \"H\", \"val\": 87}, {\"col\": \"y\", \"idx\": \"I\", \"val\": 52}]}], \"height\": 200, \"legends\": [], \"marks\": [{\"from\": {\"data\": \"table\"}, \"properties\": {\"enter\": {\"width\": {\"band\": true, \"offset\": -1, \"scale\": \"x\"}, \"x\": {\"field\": \"data.idx\", \"scale\": \"x\"}, \"y\": {\"field\": \"data.val\", \"scale\": \"y\"}, \"y2\": {\"scale\": \"y\", \"value\": 0}}, \"hover\": {\"fill\": {\"value\": \"gray\"}}, \"update\": {\"fill\": {\"value\": \"steelblue\"}}}, \"type\": \"rect\"}], \"padding\": {\"bottom\": 20, \"left\": 30, \"right\": 10, \"top\": 10}, \"scales\": [{\"domain\": {\"data\": \"table\", \"field\": \"data.idx\"}, \"name\": \"x\", \"range\": \"width\", \"type\": \"ordinal\"}, {\"domain\": {\"data\": \"table\", \"field\": \"data.val\"}, \"name\": \"y\", \"nice\": true, \"range\": \"height\"}], \"width\": 800}, function(chart) {\n",
       "         chart({el: \"#vis98ef24cf12994459ae8099271cf79547\"}).update();\n",
       "       });\n",
       "     };\n",
       "     _do_plot();\n",
       "   })();\n",
       "</script>\n",
       "<style>.vega canvas {width: 100%;}</style>\n",
       "        "
      ],
      "text/plain": [
       "<vincent.visualization.Visualization at 0x7f3b6f801050>"
      ]
     },
     "execution_count": 26,
     "metadata": {},
     "output_type": "execute_result"
    }
   ],
   "source": [
    "vis.marks[0].properties.hover.fill.value = 'gray'\n",
    "vis.width = 800\n",
    "vis"
   ]
  }
 ],
 "metadata": {
  "kernelspec": {
   "display_name": "Python 2",
   "language": "python",
   "name": "python2"
  },
  "language_info": {
   "codemirror_mode": {
    "name": "ipython",
    "version": 2
   },
   "file_extension": ".py",
   "mimetype": "text/x-python",
   "name": "python",
   "nbconvert_exporter": "python",
   "pygments_lexer": "ipython2",
   "version": "2.7.9"
  }
 },
 "nbformat": 4,
 "nbformat_minor": 0
}
