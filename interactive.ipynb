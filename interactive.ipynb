{
 "cells": [
  {
   "cell_type": "markdown",
   "metadata": {},
   "source": [
    "## Interactive with D3"
   ]
  },
  {
   "cell_type": "code",
   "execution_count": 4,
   "metadata": {
    "collapsed": false
   },
   "outputs": [],
   "source": [
    "from numpy import sin, pi, linspace\n",
    "from nvd3 import lineChart, scatterChart\n",
    "import random\n",
    "import nvd3\n",
    " \n",
    "type = \"scatterChart\"\n",
    "\n",
    "chart = scatterChart(name=type, height=350, x_is_date=False, assets_directory=\"rawgithub\")\n",
    "chart.set_containerheader(\"\\n\\n<h2>\" + type + \"</h2>\\n\\n\")\n",
    "nb_element = 50\n",
    "xdata = [i + random.randint(1, 10) for i in range(nb_element)]\n",
    "ydata = [i * random.randint(1, 10) for i in range(nb_element)]\n",
    "ydata2 = [x * 2 for x in ydata]\n",
    "ydata3 = [x * 5 for x in ydata]\n",
    " \n",
    "kwargs1 = {'shape': 'circle', 'size': '1'}\n",
    "kwargs2 = {'shape': 'cross', 'size': '10'}\n",
    "kwargs3 = {'shape': 'triangle-up', 'size': '100'}\n",
    " \n",
    "extra_serie = {\"tooltip\": {\"y_start\": \"\", \"y_end\": \" calls\"}}\n",
    "chart.add_serie(name=\"serie 1\", y=ydata, x=xdata, extra=extra_serie, **kwargs1)\n",
    "chart.add_serie(name=\"serie 2\", y=ydata2, x=xdata, extra=extra_serie, **kwargs2)\n",
    "chart.add_serie(name=\"serie 3\", y=ydata3, x=xdata, extra=extra_serie, **kwargs3)\n",
    " \n",
    "chart.buildhtml()\n",
    "output_file = open('test_scatterChart.html', 'w')\n",
    "output_file.write(chart.htmlcontent)\n",
    "output_file.close()"
   ]
  },
  {
   "cell_type": "code",
   "execution_count": 5,
   "metadata": {
    "collapsed": false
   },
   "outputs": [
    {
     "data": {
      "text/html": [
       "<link media=\"all\" href=\"files/nv.d3.css\" type=\"text/css\"\n",
       "                        rel=\"stylesheet\"/>"
      ],
      "text/plain": [
       "<IPython.core.display.HTML object>"
      ]
     },
     "metadata": {},
     "output_type": "display_data"
    },
    {
     "data": {
      "application/javascript": [
       "$.getScript(\"files/nv.d3.js\")"
      ],
      "text/plain": [
       "<IPython.core.display.Javascript object>"
      ]
     },
     "metadata": {},
     "output_type": "display_data"
    },
    {
     "data": {
      "application/javascript": [
       "$.getScript(\"files/d3.v3.js\", function() {\n",
       "                              $.getScript(\"files/nv.d3.js\", function() {})});"
      ],
      "text/plain": [
       "<IPython.core.display.Javascript object>"
      ]
     },
     "metadata": {},
     "output_type": "display_data"
    },
    {
     "data": {
      "text/html": [
       "<script src=\"files/d3.v3.js\"></script>"
      ],
      "text/plain": [
       "<IPython.core.display.HTML object>"
      ]
     },
     "metadata": {},
     "output_type": "display_data"
    },
    {
     "data": {
      "text/html": [
       "<script src=\"files/nv.d3.js\"></script>"
      ],
      "text/plain": [
       "<IPython.core.display.HTML object>"
      ]
     },
     "metadata": {},
     "output_type": "display_data"
    }
   ],
   "source": [
    "nvd3.ipynb.initialize_javascript()"
   ]
  },
  {
   "cell_type": "code",
   "execution_count": 6,
   "metadata": {
    "collapsed": false
   },
   "outputs": [
    {
     "data": {
      "text/html": [
       "<!DOCTYPE html>\n",
       "<html lang=\"en\">\n",
       "    <head>\n",
       "        <meta charset=\"utf-8\" />\n",
       "        <link href=\"https://cdnjs.cloudflare.com/ajax/libs/nvd3/1.7.0/nv.d3.min.css\" rel=\"stylesheet\" />\n",
       "        <script src=\"https://cdnjs.cloudflare.com/ajax/libs/d3/3.5.5/d3.min.js\"></script>\n",
       "        <script src=\"https://cdnjs.cloudflare.com/ajax/libs/nvd3/1.7.0/nv.d3.min.js\"></script>\n",
       "    </head>\n",
       "    <body>\n",
       "        \n",
       "    \n",
       "\n",
       "<h2>scatterChart</h2>\n",
       "\n",
       "<div id=\"scatterchart\"><svg style=\"height:350px;\"></svg></div>\n",
       "\n",
       "\n",
       "    <script>\n",
       "\n",
       "\n",
       "\n",
       "            data_scatterchart=[{\"values\": [{\"y\": 0, \"x\": 2, \"shape\": \"circle\", \"size\": \"1\"}, {\"y\": 5, \"x\": 2, \"shape\": \"circle\", \"size\": \"1\"}, {\"y\": 20, \"x\": 10, \"shape\": \"circle\", \"size\": \"1\"}, {\"y\": 27, \"x\": 9, \"shape\": \"circle\", \"size\": \"1\"}, {\"y\": 12, \"x\": 6, \"shape\": \"circle\", \"size\": \"1\"}, {\"y\": 40, \"x\": 7, \"shape\": \"circle\", \"size\": \"1\"}, {\"y\": 24, \"x\": 15, \"shape\": \"circle\", \"size\": \"1\"}, {\"y\": 14, \"x\": 9, \"shape\": \"circle\", \"size\": \"1\"}, {\"y\": 48, \"x\": 10, \"shape\": \"circle\", \"size\": \"1\"}, {\"y\": 72, \"x\": 10, \"shape\": \"circle\", \"size\": \"1\"}, {\"y\": 40, \"x\": 14, \"shape\": \"circle\", \"size\": \"1\"}, {\"y\": 33, \"x\": 15, \"shape\": \"circle\", \"size\": \"1\"}, {\"y\": 24, \"x\": 22, \"shape\": \"circle\", \"size\": \"1\"}, {\"y\": 52, \"x\": 16, \"shape\": \"circle\", \"size\": \"1\"}, {\"y\": 98, \"x\": 20, \"shape\": \"circle\", \"size\": \"1\"}, {\"y\": 30, \"x\": 17, \"shape\": \"circle\", \"size\": \"1\"}, {\"y\": 128, \"x\": 19, \"shape\": \"circle\", \"size\": \"1\"}, {\"y\": 153, \"x\": 19, \"shape\": \"circle\", \"size\": \"1\"}, {\"y\": 162, \"x\": 22, \"shape\": \"circle\", \"size\": \"1\"}, {\"y\": 19, \"x\": 24, \"shape\": \"circle\", \"size\": \"1\"}, {\"y\": 40, \"x\": 25, \"shape\": \"circle\", \"size\": \"1\"}, {\"y\": 189, \"x\": 28, \"shape\": \"circle\", \"size\": \"1\"}, {\"y\": 132, \"x\": 32, \"shape\": \"circle\", \"size\": \"1\"}, {\"y\": 207, \"x\": 33, \"shape\": \"circle\", \"size\": \"1\"}, {\"y\": 192, \"x\": 33, \"shape\": \"circle\", \"size\": \"1\"}, {\"y\": 150, \"x\": 34, \"shape\": \"circle\", \"size\": \"1\"}, {\"y\": 130, \"x\": 35, \"shape\": \"circle\", \"size\": \"1\"}, {\"y\": 216, \"x\": 37, \"shape\": \"circle\", \"size\": \"1\"}, {\"y\": 252, \"x\": 30, \"shape\": \"circle\", \"size\": \"1\"}, {\"y\": 261, \"x\": 35, \"shape\": \"circle\", \"size\": \"1\"}, {\"y\": 240, \"x\": 37, \"shape\": \"circle\", \"size\": \"1\"}, {\"y\": 93, \"x\": 37, \"shape\": \"circle\", \"size\": \"1\"}, {\"y\": 128, \"x\": 41, \"shape\": \"circle\", \"size\": \"1\"}, {\"y\": 132, \"x\": 37, \"shape\": \"circle\", \"size\": \"1\"}, {\"y\": 34, \"x\": 42, \"shape\": \"circle\", \"size\": \"1\"}, {\"y\": 175, \"x\": 43, \"shape\": \"circle\", \"size\": \"1\"}, {\"y\": 180, \"x\": 38, \"shape\": \"circle\", \"size\": \"1\"}, {\"y\": 185, \"x\": 46, \"shape\": \"circle\", \"size\": \"1\"}, {\"y\": 114, \"x\": 45, \"shape\": \"circle\", \"size\": \"1\"}, {\"y\": 78, \"x\": 43, \"shape\": \"circle\", \"size\": \"1\"}, {\"y\": 40, \"x\": 44, \"shape\": \"circle\", \"size\": \"1\"}, {\"y\": 287, \"x\": 47, \"shape\": \"circle\", \"size\": \"1\"}, {\"y\": 210, \"x\": 48, \"shape\": \"circle\", \"size\": \"1\"}, {\"y\": 258, \"x\": 47, \"shape\": \"circle\", \"size\": \"1\"}, {\"y\": 396, \"x\": 47, \"shape\": \"circle\", \"size\": \"1\"}, {\"y\": 135, \"x\": 46, \"shape\": \"circle\", \"size\": \"1\"}, {\"y\": 184, \"x\": 48, \"shape\": \"circle\", \"size\": \"1\"}, {\"y\": 282, \"x\": 51, \"shape\": \"circle\", \"size\": \"1\"}, {\"y\": 288, \"x\": 49, \"shape\": \"circle\", \"size\": \"1\"}, {\"y\": 196, \"x\": 54, \"shape\": \"circle\", \"size\": \"1\"}], \"key\": \"serie 1\", \"yAxis\": \"1\"}, {\"values\": [{\"y\": 0, \"x\": 2, \"shape\": \"cross\", \"size\": \"10\"}, {\"y\": 10, \"x\": 2, \"shape\": \"cross\", \"size\": \"10\"}, {\"y\": 40, \"x\": 10, \"shape\": \"cross\", \"size\": \"10\"}, {\"y\": 54, \"x\": 9, \"shape\": \"cross\", \"size\": \"10\"}, {\"y\": 24, \"x\": 6, \"shape\": \"cross\", \"size\": \"10\"}, {\"y\": 80, \"x\": 7, \"shape\": \"cross\", \"size\": \"10\"}, {\"y\": 48, \"x\": 15, \"shape\": \"cross\", \"size\": \"10\"}, {\"y\": 28, \"x\": 9, \"shape\": \"cross\", \"size\": \"10\"}, {\"y\": 96, \"x\": 10, \"shape\": \"cross\", \"size\": \"10\"}, {\"y\": 144, \"x\": 10, \"shape\": \"cross\", \"size\": \"10\"}, {\"y\": 80, \"x\": 14, \"shape\": \"cross\", \"size\": \"10\"}, {\"y\": 66, \"x\": 15, \"shape\": \"cross\", \"size\": \"10\"}, {\"y\": 48, \"x\": 22, \"shape\": \"cross\", \"size\": \"10\"}, {\"y\": 104, \"x\": 16, \"shape\": \"cross\", \"size\": \"10\"}, {\"y\": 196, \"x\": 20, \"shape\": \"cross\", \"size\": \"10\"}, {\"y\": 60, \"x\": 17, \"shape\": \"cross\", \"size\": \"10\"}, {\"y\": 256, \"x\": 19, \"shape\": \"cross\", \"size\": \"10\"}, {\"y\": 306, \"x\": 19, \"shape\": \"cross\", \"size\": \"10\"}, {\"y\": 324, \"x\": 22, \"shape\": \"cross\", \"size\": \"10\"}, {\"y\": 38, \"x\": 24, \"shape\": \"cross\", \"size\": \"10\"}, {\"y\": 80, \"x\": 25, \"shape\": \"cross\", \"size\": \"10\"}, {\"y\": 378, \"x\": 28, \"shape\": \"cross\", \"size\": \"10\"}, {\"y\": 264, \"x\": 32, \"shape\": \"cross\", \"size\": \"10\"}, {\"y\": 414, \"x\": 33, \"shape\": \"cross\", \"size\": \"10\"}, {\"y\": 384, \"x\": 33, \"shape\": \"cross\", \"size\": \"10\"}, {\"y\": 300, \"x\": 34, \"shape\": \"cross\", \"size\": \"10\"}, {\"y\": 260, \"x\": 35, \"shape\": \"cross\", \"size\": \"10\"}, {\"y\": 432, \"x\": 37, \"shape\": \"cross\", \"size\": \"10\"}, {\"y\": 504, \"x\": 30, \"shape\": \"cross\", \"size\": \"10\"}, {\"y\": 522, \"x\": 35, \"shape\": \"cross\", \"size\": \"10\"}, {\"y\": 480, \"x\": 37, \"shape\": \"cross\", \"size\": \"10\"}, {\"y\": 186, \"x\": 37, \"shape\": \"cross\", \"size\": \"10\"}, {\"y\": 256, \"x\": 41, \"shape\": \"cross\", \"size\": \"10\"}, {\"y\": 264, \"x\": 37, \"shape\": \"cross\", \"size\": \"10\"}, {\"y\": 68, \"x\": 42, \"shape\": \"cross\", \"size\": \"10\"}, {\"y\": 350, \"x\": 43, \"shape\": \"cross\", \"size\": \"10\"}, {\"y\": 360, \"x\": 38, \"shape\": \"cross\", \"size\": \"10\"}, {\"y\": 370, \"x\": 46, \"shape\": \"cross\", \"size\": \"10\"}, {\"y\": 228, \"x\": 45, \"shape\": \"cross\", \"size\": \"10\"}, {\"y\": 156, \"x\": 43, \"shape\": \"cross\", \"size\": \"10\"}, {\"y\": 80, \"x\": 44, \"shape\": \"cross\", \"size\": \"10\"}, {\"y\": 574, \"x\": 47, \"shape\": \"cross\", \"size\": \"10\"}, {\"y\": 420, \"x\": 48, \"shape\": \"cross\", \"size\": \"10\"}, {\"y\": 516, \"x\": 47, \"shape\": \"cross\", \"size\": \"10\"}, {\"y\": 792, \"x\": 47, \"shape\": \"cross\", \"size\": \"10\"}, {\"y\": 270, \"x\": 46, \"shape\": \"cross\", \"size\": \"10\"}, {\"y\": 368, \"x\": 48, \"shape\": \"cross\", \"size\": \"10\"}, {\"y\": 564, \"x\": 51, \"shape\": \"cross\", \"size\": \"10\"}, {\"y\": 576, \"x\": 49, \"shape\": \"cross\", \"size\": \"10\"}, {\"y\": 392, \"x\": 54, \"shape\": \"cross\", \"size\": \"10\"}], \"key\": \"serie 2\", \"yAxis\": \"1\"}, {\"values\": [{\"y\": 0, \"x\": 2, \"shape\": \"triangle-up\", \"size\": \"100\"}, {\"y\": 25, \"x\": 2, \"shape\": \"triangle-up\", \"size\": \"100\"}, {\"y\": 100, \"x\": 10, \"shape\": \"triangle-up\", \"size\": \"100\"}, {\"y\": 135, \"x\": 9, \"shape\": \"triangle-up\", \"size\": \"100\"}, {\"y\": 60, \"x\": 6, \"shape\": \"triangle-up\", \"size\": \"100\"}, {\"y\": 200, \"x\": 7, \"shape\": \"triangle-up\", \"size\": \"100\"}, {\"y\": 120, \"x\": 15, \"shape\": \"triangle-up\", \"size\": \"100\"}, {\"y\": 70, \"x\": 9, \"shape\": \"triangle-up\", \"size\": \"100\"}, {\"y\": 240, \"x\": 10, \"shape\": \"triangle-up\", \"size\": \"100\"}, {\"y\": 360, \"x\": 10, \"shape\": \"triangle-up\", \"size\": \"100\"}, {\"y\": 200, \"x\": 14, \"shape\": \"triangle-up\", \"size\": \"100\"}, {\"y\": 165, \"x\": 15, \"shape\": \"triangle-up\", \"size\": \"100\"}, {\"y\": 120, \"x\": 22, \"shape\": \"triangle-up\", \"size\": \"100\"}, {\"y\": 260, \"x\": 16, \"shape\": \"triangle-up\", \"size\": \"100\"}, {\"y\": 490, \"x\": 20, \"shape\": \"triangle-up\", \"size\": \"100\"}, {\"y\": 150, \"x\": 17, \"shape\": \"triangle-up\", \"size\": \"100\"}, {\"y\": 640, \"x\": 19, \"shape\": \"triangle-up\", \"size\": \"100\"}, {\"y\": 765, \"x\": 19, \"shape\": \"triangle-up\", \"size\": \"100\"}, {\"y\": 810, \"x\": 22, \"shape\": \"triangle-up\", \"size\": \"100\"}, {\"y\": 95, \"x\": 24, \"shape\": \"triangle-up\", \"size\": \"100\"}, {\"y\": 200, \"x\": 25, \"shape\": \"triangle-up\", \"size\": \"100\"}, {\"y\": 945, \"x\": 28, \"shape\": \"triangle-up\", \"size\": \"100\"}, {\"y\": 660, \"x\": 32, \"shape\": \"triangle-up\", \"size\": \"100\"}, {\"y\": 1035, \"x\": 33, \"shape\": \"triangle-up\", \"size\": \"100\"}, {\"y\": 960, \"x\": 33, \"shape\": \"triangle-up\", \"size\": \"100\"}, {\"y\": 750, \"x\": 34, \"shape\": \"triangle-up\", \"size\": \"100\"}, {\"y\": 650, \"x\": 35, \"shape\": \"triangle-up\", \"size\": \"100\"}, {\"y\": 1080, \"x\": 37, \"shape\": \"triangle-up\", \"size\": \"100\"}, {\"y\": 1260, \"x\": 30, \"shape\": \"triangle-up\", \"size\": \"100\"}, {\"y\": 1305, \"x\": 35, \"shape\": \"triangle-up\", \"size\": \"100\"}, {\"y\": 1200, \"x\": 37, \"shape\": \"triangle-up\", \"size\": \"100\"}, {\"y\": 465, \"x\": 37, \"shape\": \"triangle-up\", \"size\": \"100\"}, {\"y\": 640, \"x\": 41, \"shape\": \"triangle-up\", \"size\": \"100\"}, {\"y\": 660, \"x\": 37, \"shape\": \"triangle-up\", \"size\": \"100\"}, {\"y\": 170, \"x\": 42, \"shape\": \"triangle-up\", \"size\": \"100\"}, {\"y\": 875, \"x\": 43, \"shape\": \"triangle-up\", \"size\": \"100\"}, {\"y\": 900, \"x\": 38, \"shape\": \"triangle-up\", \"size\": \"100\"}, {\"y\": 925, \"x\": 46, \"shape\": \"triangle-up\", \"size\": \"100\"}, {\"y\": 570, \"x\": 45, \"shape\": \"triangle-up\", \"size\": \"100\"}, {\"y\": 390, \"x\": 43, \"shape\": \"triangle-up\", \"size\": \"100\"}, {\"y\": 200, \"x\": 44, \"shape\": \"triangle-up\", \"size\": \"100\"}, {\"y\": 1435, \"x\": 47, \"shape\": \"triangle-up\", \"size\": \"100\"}, {\"y\": 1050, \"x\": 48, \"shape\": \"triangle-up\", \"size\": \"100\"}, {\"y\": 1290, \"x\": 47, \"shape\": \"triangle-up\", \"size\": \"100\"}, {\"y\": 1980, \"x\": 47, \"shape\": \"triangle-up\", \"size\": \"100\"}, {\"y\": 675, \"x\": 46, \"shape\": \"triangle-up\", \"size\": \"100\"}, {\"y\": 920, \"x\": 48, \"shape\": \"triangle-up\", \"size\": \"100\"}, {\"y\": 1410, \"x\": 51, \"shape\": \"triangle-up\", \"size\": \"100\"}, {\"y\": 1440, \"x\": 49, \"shape\": \"triangle-up\", \"size\": \"100\"}, {\"y\": 980, \"x\": 54, \"shape\": \"triangle-up\", \"size\": \"100\"}], \"key\": \"serie 3\", \"yAxis\": \"1\"}];\n",
       "\n",
       "\n",
       "        nv.addGraph(function() {\n",
       "        var chart = nv.models.scatterChart();\n",
       "\n",
       "        chart.margin({top: 30, right: 60, bottom: 20, left: 60});\n",
       "\n",
       "        var datum = data_scatterchart;\n",
       "\n",
       "\n",
       "\n",
       "                chart.xAxis\n",
       "                .tickFormat(d3.format(',.02f'));\n",
       "            chart.yAxis\n",
       "                .tickFormat(d3.format(',.02f'));\n",
       "\n",
       "\n",
       "\n",
       "          chart.showLegend(true);\n",
       "\n",
       "\n",
       "    \n",
       "\n",
       "        \n",
       "\n",
       "\n",
       "\n",
       "\n",
       "    chart\n",
       "        .showDistX(true)\n",
       "        .showDistY(true)\n",
       "        .color(d3.scale.category10().range());\n",
       "\n",
       "            d3.select('#scatterchart svg')\n",
       "            .datum(datum)\n",
       "            .transition().duration(500)\n",
       "            .attr('height', 350)\n",
       "            .call(chart);\n",
       "\n",
       "\n",
       "        });\n",
       "\n",
       "\n",
       "\n",
       "    </script>\n",
       "\n",
       "    </body>\n",
       "</html>"
      ],
      "text/plain": [
       "<IPython.core.display.HTML object>"
      ]
     },
     "execution_count": 6,
     "metadata": {},
     "output_type": "execute_result"
    }
   ],
   "source": [
    "from IPython.core.display import HTML\n",
    "HTML(\"test_scatterChart.html\")"
   ]
  }
 ],
 "metadata": {
  "kernelspec": {
   "display_name": "Python 2",
   "language": "python",
   "name": "python2"
  },
  "language_info": {
   "codemirror_mode": {
    "name": "ipython",
    "version": 2
   },
   "file_extension": ".py",
   "mimetype": "text/x-python",
   "name": "python",
   "nbconvert_exporter": "python",
   "pygments_lexer": "ipython2",
   "version": "2.7.9"
  }
 },
 "nbformat": 4,
 "nbformat_minor": 0
}
