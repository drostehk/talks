{
 "cells": [
  {
   "cell_type": "code",
   "execution_count": 1,
   "metadata": {
    "collapsed": false,
    "run_control": {
     "breakpoint": false,
     "read_only": false
    }
   },
   "outputs": [
    {
     "name": "stdout",
     "output_type": "stream",
     "text": [
      "loaded nvd3 IPython extension\n",
      "run nvd3.ipynb.initialize_javascript() to set up the notebook\n",
      "help(nvd3.ipynb.initialize_javascript) for options\n"
     ]
    },
    {
     "data": {
      "text/html": [
       "<link media=\"all\" href=\"https://cdnjs.cloudflare.com/ajax/libs/nvd3/1.7.0/nv.d3.min.css\" type=\"text/css\"\n",
       "                        rel=\"stylesheet\"/>"
      ],
      "text/plain": [
       "<IPython.core.display.HTML object>"
      ]
     },
     "metadata": {},
     "output_type": "display_data"
    },
    {
     "data": {
      "application/javascript": [
       "$.getScript(\"https://cdnjs.cloudflare.com/ajax/libs/nvd3/1.7.0/nv.d3.min.js\")"
      ],
      "text/plain": [
       "<IPython.core.display.Javascript object>"
      ]
     },
     "metadata": {},
     "output_type": "display_data"
    },
    {
     "data": {
      "application/javascript": [
       "$.getScript(\"https://cdnjs.cloudflare.com/ajax/libs/d3/3.5.5/d3.min.js\", function() {\n",
       "                              $.getScript(\"https://cdnjs.cloudflare.com/ajax/libs/nvd3/1.7.0/nv.d3.min.js\", function() {})});"
      ],
      "text/plain": [
       "<IPython.core.display.Javascript object>"
      ]
     },
     "metadata": {},
     "output_type": "display_data"
    },
    {
     "data": {
      "text/html": [
       "<script src=\"https://cdnjs.cloudflare.com/ajax/libs/d3/3.5.5/d3.min.js\"></script>"
      ],
      "text/plain": [
       "<IPython.core.display.HTML object>"
      ]
     },
     "metadata": {},
     "output_type": "display_data"
    },
    {
     "data": {
      "text/html": [
       "<script src=\"https://cdnjs.cloudflare.com/ajax/libs/nvd3/1.7.0/nv.d3.min.js\"></script>"
      ],
      "text/plain": [
       "<IPython.core.display.HTML object>"
      ]
     },
     "metadata": {},
     "output_type": "display_data"
    }
   ],
   "source": [
    "import random\n",
    "from IPython import display as d\n",
    "import nvd3\n",
    "nvd3.ipynb.initialize_javascript(use_remote=True)"
   ]
  },
  {
   "cell_type": "markdown",
   "metadata": {},
   "source": [
    "** Stacked Area Chart **\n",
    "\n",
    "Here, we create a simple stacked area chart.\n",
    "\n",
    "Note that there is a potential bug with ipython display of the interactive guideline - the amount of space <i>above</i> the chart affects the placement of the tooltip when viewed in IPython notebook.  A simple workaround is to display the chart at the top of the notebook, rather than lower like we see here."
   ]
  },
  {
   "cell_type": "code",
   "execution_count": 12,
   "metadata": {
    "collapsed": false,
    "run_control": {
     "breakpoint": false,
     "read_only": false
    }
   },
   "outputs": [
    {
     "data": {
      "text/html": [
       "<!DOCTYPE html>\n",
       "<html lang=\"en\">\n",
       "    <head>\n",
       "        <meta charset=\"utf-8\" />\n",
       "        <link href=\"https://cdnjs.cloudflare.com/ajax/libs/nvd3/1.7.0/nv.d3.min.css\" rel=\"stylesheet\" />\n",
       "        <script src=\"https://cdnjs.cloudflare.com/ajax/libs/d3/3.5.5/d3.min.js\"></script>\n",
       "        <script src=\"https://cdnjs.cloudflare.com/ajax/libs/nvd3/1.7.0/nv.d3.min.js\"></script>\n",
       "    </head>\n",
       "    <body>\n",
       "        \n",
       "    <div id=\"stackedareachart\"><svg style=\"width:500px;height:450px;\"></svg></div>\n",
       "\n",
       "\n",
       "    <script>\n",
       "\n",
       "\n",
       "            data_stackedareachart=[{\"values\": [{\"y\": 0, \"x\": 0}, {\"y\": 9, \"x\": 1}, {\"y\": 20, \"x\": 2}, {\"y\": 3, \"x\": 3}, {\"y\": 36, \"x\": 4}, {\"y\": 20, \"x\": 5}, {\"y\": 42, \"x\": 6}, {\"y\": 21, \"x\": 7}, {\"y\": 8, \"x\": 8}, {\"y\": 45, \"x\": 9}, {\"y\": 70, \"x\": 10}, {\"y\": 22, \"x\": 11}, {\"y\": 108, \"x\": 12}, {\"y\": 78, \"x\": 13}, {\"y\": 56, \"x\": 14}, {\"y\": 60, \"x\": 15}, {\"y\": 160, \"x\": 16}, {\"y\": 102, \"x\": 17}, {\"y\": 162, \"x\": 18}, {\"y\": 171, \"x\": 19}, {\"y\": 140, \"x\": 20}, {\"y\": 63, \"x\": 21}, {\"y\": 220, \"x\": 22}, {\"y\": 115, \"x\": 23}, {\"y\": 96, \"x\": 24}, {\"y\": 250, \"x\": 25}, {\"y\": 26, \"x\": 26}, {\"y\": 189, \"x\": 27}, {\"y\": 84, \"x\": 28}, {\"y\": 203, \"x\": 29}, {\"y\": 300, \"x\": 30}, {\"y\": 248, \"x\": 31}, {\"y\": 32, \"x\": 32}, {\"y\": 330, \"x\": 33}, {\"y\": 68, \"x\": 34}, {\"y\": 315, \"x\": 35}, {\"y\": 180, \"x\": 36}, {\"y\": 296, \"x\": 37}, {\"y\": 304, \"x\": 38}, {\"y\": 117, \"x\": 39}, {\"y\": 200, \"x\": 40}, {\"y\": 123, \"x\": 41}, {\"y\": 210, \"x\": 42}, {\"y\": 344, \"x\": 43}, {\"y\": 44, \"x\": 44}, {\"y\": 90, \"x\": 45}, {\"y\": 230, \"x\": 46}, {\"y\": 470, \"x\": 47}, {\"y\": 96, \"x\": 48}, {\"y\": 245, \"x\": 49}], \"key\": \"serie 1\", \"yAxis\": \"1\"}, {\"values\": [{\"y\": 0, \"x\": 0}, {\"y\": 18, \"x\": 1}, {\"y\": 40, \"x\": 2}, {\"y\": 6, \"x\": 3}, {\"y\": 72, \"x\": 4}, {\"y\": 40, \"x\": 5}, {\"y\": 84, \"x\": 6}, {\"y\": 42, \"x\": 7}, {\"y\": 16, \"x\": 8}, {\"y\": 90, \"x\": 9}, {\"y\": 140, \"x\": 10}, {\"y\": 44, \"x\": 11}, {\"y\": 216, \"x\": 12}, {\"y\": 156, \"x\": 13}, {\"y\": 112, \"x\": 14}, {\"y\": 120, \"x\": 15}, {\"y\": 320, \"x\": 16}, {\"y\": 204, \"x\": 17}, {\"y\": 324, \"x\": 18}, {\"y\": 342, \"x\": 19}, {\"y\": 280, \"x\": 20}, {\"y\": 126, \"x\": 21}, {\"y\": 440, \"x\": 22}, {\"y\": 230, \"x\": 23}, {\"y\": 192, \"x\": 24}, {\"y\": 500, \"x\": 25}, {\"y\": 52, \"x\": 26}, {\"y\": 378, \"x\": 27}, {\"y\": 168, \"x\": 28}, {\"y\": 406, \"x\": 29}, {\"y\": 600, \"x\": 30}, {\"y\": 496, \"x\": 31}, {\"y\": 64, \"x\": 32}, {\"y\": 660, \"x\": 33}, {\"y\": 136, \"x\": 34}, {\"y\": 630, \"x\": 35}, {\"y\": 360, \"x\": 36}, {\"y\": 592, \"x\": 37}, {\"y\": 608, \"x\": 38}, {\"y\": 234, \"x\": 39}, {\"y\": 400, \"x\": 40}, {\"y\": 246, \"x\": 41}, {\"y\": 420, \"x\": 42}, {\"y\": 688, \"x\": 43}, {\"y\": 88, \"x\": 44}, {\"y\": 180, \"x\": 45}, {\"y\": 460, \"x\": 46}, {\"y\": 940, \"x\": 47}, {\"y\": 192, \"x\": 48}, {\"y\": 490, \"x\": 49}], \"key\": \"serie 2\", \"yAxis\": \"1\"}, {\"values\": [{\"y\": 0, \"x\": 0}, {\"y\": 45, \"x\": 1}, {\"y\": 100, \"x\": 2}, {\"y\": 15, \"x\": 3}, {\"y\": 180, \"x\": 4}, {\"y\": 100, \"x\": 5}, {\"y\": 210, \"x\": 6}, {\"y\": 105, \"x\": 7}, {\"y\": 40, \"x\": 8}, {\"y\": 225, \"x\": 9}, {\"y\": 350, \"x\": 10}, {\"y\": 110, \"x\": 11}, {\"y\": 540, \"x\": 12}, {\"y\": 390, \"x\": 13}, {\"y\": 280, \"x\": 14}, {\"y\": 300, \"x\": 15}, {\"y\": 800, \"x\": 16}, {\"y\": 510, \"x\": 17}, {\"y\": 810, \"x\": 18}, {\"y\": 855, \"x\": 19}, {\"y\": 700, \"x\": 20}, {\"y\": 315, \"x\": 21}, {\"y\": 1100, \"x\": 22}, {\"y\": 575, \"x\": 23}, {\"y\": 480, \"x\": 24}, {\"y\": 1250, \"x\": 25}, {\"y\": 130, \"x\": 26}, {\"y\": 945, \"x\": 27}, {\"y\": 420, \"x\": 28}, {\"y\": 1015, \"x\": 29}, {\"y\": 1500, \"x\": 30}, {\"y\": 1240, \"x\": 31}, {\"y\": 160, \"x\": 32}, {\"y\": 1650, \"x\": 33}, {\"y\": 340, \"x\": 34}, {\"y\": 1575, \"x\": 35}, {\"y\": 900, \"x\": 36}, {\"y\": 1480, \"x\": 37}, {\"y\": 1520, \"x\": 38}, {\"y\": 585, \"x\": 39}, {\"y\": 1000, \"x\": 40}, {\"y\": 615, \"x\": 41}, {\"y\": 1050, \"x\": 42}, {\"y\": 1720, \"x\": 43}, {\"y\": 220, \"x\": 44}, {\"y\": 450, \"x\": 45}, {\"y\": 1150, \"x\": 46}, {\"y\": 2350, \"x\": 47}, {\"y\": 480, \"x\": 48}, {\"y\": 1225, \"x\": 49}], \"key\": \"serie 3\", \"yAxis\": \"1\"}];\n",
       "\n",
       "    nv.addGraph(function() {\n",
       "        var chart = nv.models.stackedAreaChart().useInteractiveGuideline(true);\n",
       "\n",
       "        chart.margin({top: 30, right: 60, bottom: 20, left: 60});\n",
       "\n",
       "        var datum = data_stackedareachart;\n",
       "\n",
       "\n",
       "\n",
       "\n",
       "            chart.xAxis\n",
       "                .tickFormat(d3.format(',.2f'));\n",
       "            chart.yAxis\n",
       "                .tickFormat(d3.format(',.2f'));\n",
       "\n",
       "\n",
       "      chart.showLegend(true);\n",
       "\n",
       "\n",
       "\n",
       "        \n",
       "\n",
       "\n",
       "        d3.select('#stackedareachart svg')\n",
       "            .datum(datum)\n",
       "            .transition().duration(500)\n",
       "            .attr('width', 500)\n",
       "            .attr('height', 450)\n",
       "            .call(chart);\n",
       "\n",
       "\n",
       "    });\n",
       "\n",
       "\n",
       "\n",
       "    </script>\n",
       "\n",
       "    </body>\n",
       "</html>"
      ],
      "text/plain": [
       "<nvd3.stackedAreaChart.stackedAreaChart at 0x7f1109711190>"
      ]
     },
     "execution_count": 12,
     "metadata": {},
     "output_type": "execute_result"
    }
   ],
   "source": [
    "type = 'stackedAreaChart'\n",
    "chart2 = nvd3.stackedAreaChart(name=type,height=450,width=500, \n",
    "                               use_interactive_guideline=True)\n",
    "nb_element = 50\n",
    "xdata = range(nb_element)\n",
    "ydata = [i * random.randint(1, 10) for i in range(nb_element)]\n",
    "ydata2 = [x * 2 for x in ydata]\n",
    "ydata3 = [x * 5 for x in ydata]\n",
    "chart2.add_serie(name=\"serie 1\", y=ydata, x=xdata)\n",
    "chart2.add_serie(name=\"serie 2\", y=ydata2, x=xdata)\n",
    "chart2.add_serie(name=\"serie 3\", y=ydata3, x=xdata)\n",
    "chart2\n"
   ]
  },
  {
   "cell_type": "code",
   "execution_count": 13,
   "metadata": {
    "collapsed": false,
    "run_control": {
     "breakpoint": false,
     "read_only": false
    }
   },
   "outputs": [
    {
     "data": {
      "text/html": [
       "<!DOCTYPE html>\n",
       "<html lang=\"en\">\n",
       "    <head>\n",
       "        <meta charset=\"utf-8\" />\n",
       "        <link href=\"https://cdnjs.cloudflare.com/ajax/libs/nvd3/1.7.0/nv.d3.min.css\" rel=\"stylesheet\" />\n",
       "        <script src=\"https://cdnjs.cloudflare.com/ajax/libs/d3/3.5.5/d3.min.js\"></script>\n",
       "        <script src=\"https://cdnjs.cloudflare.com/ajax/libs/nvd3/1.7.0/nv.d3.min.js\"></script>\n",
       "    </head>\n",
       "    <body>\n",
       "        \n",
       "    <div id=\"scatterchart_1\"><svg style=\"width:600px;height:300px;\"></svg></div>\n",
       "\n",
       "\n",
       "    <script>\n",
       "\n",
       "\n",
       "\n",
       "            data_scatterchart_1=[{\"values\": [{\"y\": 0, \"x\": 4, \"shape\": \"circle\", \"size\": \"1\"}, {\"y\": 9, \"x\": 4, \"shape\": \"circle\", \"size\": \"1\"}, {\"y\": 6, \"x\": 3, \"shape\": \"circle\", \"size\": \"1\"}, {\"y\": 6, \"x\": 6, \"shape\": \"circle\", \"size\": \"1\"}, {\"y\": 24, \"x\": 12, \"shape\": \"circle\", \"size\": \"1\"}, {\"y\": 50, \"x\": 8, \"shape\": \"circle\", \"size\": \"1\"}, {\"y\": 18, \"x\": 8, \"shape\": \"circle\", \"size\": \"1\"}, {\"y\": 35, \"x\": 12, \"shape\": \"circle\", \"size\": \"1\"}, {\"y\": 64, \"x\": 11, \"shape\": \"circle\", \"size\": \"1\"}, {\"y\": 81, \"x\": 13, \"shape\": \"circle\", \"size\": \"1\"}, {\"y\": 80, \"x\": 17, \"shape\": \"circle\", \"size\": \"1\"}, {\"y\": 77, \"x\": 12, \"shape\": \"circle\", \"size\": \"1\"}, {\"y\": 84, \"x\": 15, \"shape\": \"circle\", \"size\": \"1\"}, {\"y\": 52, \"x\": 23, \"shape\": \"circle\", \"size\": \"1\"}, {\"y\": 126, \"x\": 24, \"shape\": \"circle\", \"size\": \"1\"}, {\"y\": 135, \"x\": 17, \"shape\": \"circle\", \"size\": \"1\"}, {\"y\": 160, \"x\": 24, \"shape\": \"circle\", \"size\": \"1\"}, {\"y\": 136, \"x\": 22, \"shape\": \"circle\", \"size\": \"1\"}, {\"y\": 180, \"x\": 27, \"shape\": \"circle\", \"size\": \"1\"}, {\"y\": 190, \"x\": 27, \"shape\": \"circle\", \"size\": \"1\"}, {\"y\": 140, \"x\": 24, \"shape\": \"circle\", \"size\": \"1\"}, {\"y\": 189, \"x\": 23, \"shape\": \"circle\", \"size\": \"1\"}, {\"y\": 198, \"x\": 23, \"shape\": \"circle\", \"size\": \"1\"}, {\"y\": 46, \"x\": 31, \"shape\": \"circle\", \"size\": \"1\"}, {\"y\": 144, \"x\": 25, \"shape\": \"circle\", \"size\": \"1\"}, {\"y\": 125, \"x\": 28, \"shape\": \"circle\", \"size\": \"1\"}, {\"y\": 78, \"x\": 28, \"shape\": \"circle\", \"size\": \"1\"}, {\"y\": 243, \"x\": 34, \"shape\": \"circle\", \"size\": \"1\"}, {\"y\": 140, \"x\": 38, \"shape\": \"circle\", \"size\": \"1\"}, {\"y\": 145, \"x\": 35, \"shape\": \"circle\", \"size\": \"1\"}, {\"y\": 240, \"x\": 38, \"shape\": \"circle\", \"size\": \"1\"}, {\"y\": 62, \"x\": 37, \"shape\": \"circle\", \"size\": \"1\"}, {\"y\": 256, \"x\": 34, \"shape\": \"circle\", \"size\": \"1\"}, {\"y\": 165, \"x\": 40, \"shape\": \"circle\", \"size\": \"1\"}, {\"y\": 136, \"x\": 37, \"shape\": \"circle\", \"size\": \"1\"}, {\"y\": 175, \"x\": 42, \"shape\": \"circle\", \"size\": \"1\"}, {\"y\": 360, \"x\": 38, \"shape\": \"circle\", \"size\": \"1\"}, {\"y\": 296, \"x\": 46, \"shape\": \"circle\", \"size\": \"1\"}, {\"y\": 228, \"x\": 42, \"shape\": \"circle\", \"size\": \"1\"}, {\"y\": 390, \"x\": 40, \"shape\": \"circle\", \"size\": \"1\"}, {\"y\": 40, \"x\": 47, \"shape\": \"circle\", \"size\": \"1\"}, {\"y\": 164, \"x\": 44, \"shape\": \"circle\", \"size\": \"1\"}, {\"y\": 84, \"x\": 52, \"shape\": \"circle\", \"size\": \"1\"}, {\"y\": 430, \"x\": 44, \"shape\": \"circle\", \"size\": \"1\"}, {\"y\": 88, \"x\": 47, \"shape\": \"circle\", \"size\": \"1\"}, {\"y\": 180, \"x\": 48, \"shape\": \"circle\", \"size\": \"1\"}, {\"y\": 322, \"x\": 49, \"shape\": \"circle\", \"size\": \"1\"}, {\"y\": 470, \"x\": 52, \"shape\": \"circle\", \"size\": \"1\"}, {\"y\": 48, \"x\": 57, \"shape\": \"circle\", \"size\": \"1\"}, {\"y\": 490, \"x\": 57, \"shape\": \"circle\", \"size\": \"1\"}], \"key\": \"serie 1\", \"yAxis\": \"1\"}, {\"values\": [{\"y\": 0, \"x\": 4, \"shape\": \"cross\", \"size\": \"10\"}, {\"y\": 18, \"x\": 4, \"shape\": \"cross\", \"size\": \"10\"}, {\"y\": 12, \"x\": 3, \"shape\": \"cross\", \"size\": \"10\"}, {\"y\": 12, \"x\": 6, \"shape\": \"cross\", \"size\": \"10\"}, {\"y\": 48, \"x\": 12, \"shape\": \"cross\", \"size\": \"10\"}, {\"y\": 100, \"x\": 8, \"shape\": \"cross\", \"size\": \"10\"}, {\"y\": 36, \"x\": 8, \"shape\": \"cross\", \"size\": \"10\"}, {\"y\": 70, \"x\": 12, \"shape\": \"cross\", \"size\": \"10\"}, {\"y\": 128, \"x\": 11, \"shape\": \"cross\", \"size\": \"10\"}, {\"y\": 162, \"x\": 13, \"shape\": \"cross\", \"size\": \"10\"}, {\"y\": 160, \"x\": 17, \"shape\": \"cross\", \"size\": \"10\"}, {\"y\": 154, \"x\": 12, \"shape\": \"cross\", \"size\": \"10\"}, {\"y\": 168, \"x\": 15, \"shape\": \"cross\", \"size\": \"10\"}, {\"y\": 104, \"x\": 23, \"shape\": \"cross\", \"size\": \"10\"}, {\"y\": 252, \"x\": 24, \"shape\": \"cross\", \"size\": \"10\"}, {\"y\": 270, \"x\": 17, \"shape\": \"cross\", \"size\": \"10\"}, {\"y\": 320, \"x\": 24, \"shape\": \"cross\", \"size\": \"10\"}, {\"y\": 272, \"x\": 22, \"shape\": \"cross\", \"size\": \"10\"}, {\"y\": 360, \"x\": 27, \"shape\": \"cross\", \"size\": \"10\"}, {\"y\": 380, \"x\": 27, \"shape\": \"cross\", \"size\": \"10\"}, {\"y\": 280, \"x\": 24, \"shape\": \"cross\", \"size\": \"10\"}, {\"y\": 378, \"x\": 23, \"shape\": \"cross\", \"size\": \"10\"}, {\"y\": 396, \"x\": 23, \"shape\": \"cross\", \"size\": \"10\"}, {\"y\": 92, \"x\": 31, \"shape\": \"cross\", \"size\": \"10\"}, {\"y\": 288, \"x\": 25, \"shape\": \"cross\", \"size\": \"10\"}, {\"y\": 250, \"x\": 28, \"shape\": \"cross\", \"size\": \"10\"}, {\"y\": 156, \"x\": 28, \"shape\": \"cross\", \"size\": \"10\"}, {\"y\": 486, \"x\": 34, \"shape\": \"cross\", \"size\": \"10\"}, {\"y\": 280, \"x\": 38, \"shape\": \"cross\", \"size\": \"10\"}, {\"y\": 290, \"x\": 35, \"shape\": \"cross\", \"size\": \"10\"}, {\"y\": 480, \"x\": 38, \"shape\": \"cross\", \"size\": \"10\"}, {\"y\": 124, \"x\": 37, \"shape\": \"cross\", \"size\": \"10\"}, {\"y\": 512, \"x\": 34, \"shape\": \"cross\", \"size\": \"10\"}, {\"y\": 330, \"x\": 40, \"shape\": \"cross\", \"size\": \"10\"}, {\"y\": 272, \"x\": 37, \"shape\": \"cross\", \"size\": \"10\"}, {\"y\": 350, \"x\": 42, \"shape\": \"cross\", \"size\": \"10\"}, {\"y\": 720, \"x\": 38, \"shape\": \"cross\", \"size\": \"10\"}, {\"y\": 592, \"x\": 46, \"shape\": \"cross\", \"size\": \"10\"}, {\"y\": 456, \"x\": 42, \"shape\": \"cross\", \"size\": \"10\"}, {\"y\": 780, \"x\": 40, \"shape\": \"cross\", \"size\": \"10\"}, {\"y\": 80, \"x\": 47, \"shape\": \"cross\", \"size\": \"10\"}, {\"y\": 328, \"x\": 44, \"shape\": \"cross\", \"size\": \"10\"}, {\"y\": 168, \"x\": 52, \"shape\": \"cross\", \"size\": \"10\"}, {\"y\": 860, \"x\": 44, \"shape\": \"cross\", \"size\": \"10\"}, {\"y\": 176, \"x\": 47, \"shape\": \"cross\", \"size\": \"10\"}, {\"y\": 360, \"x\": 48, \"shape\": \"cross\", \"size\": \"10\"}, {\"y\": 644, \"x\": 49, \"shape\": \"cross\", \"size\": \"10\"}, {\"y\": 940, \"x\": 52, \"shape\": \"cross\", \"size\": \"10\"}, {\"y\": 96, \"x\": 57, \"shape\": \"cross\", \"size\": \"10\"}, {\"y\": 980, \"x\": 57, \"shape\": \"cross\", \"size\": \"10\"}], \"key\": \"serie 2\", \"yAxis\": \"1\"}, {\"values\": [{\"y\": 0, \"x\": 4, \"shape\": \"triangle-up\", \"size\": \"100\"}, {\"y\": 45, \"x\": 4, \"shape\": \"triangle-up\", \"size\": \"100\"}, {\"y\": 30, \"x\": 3, \"shape\": \"triangle-up\", \"size\": \"100\"}, {\"y\": 30, \"x\": 6, \"shape\": \"triangle-up\", \"size\": \"100\"}, {\"y\": 120, \"x\": 12, \"shape\": \"triangle-up\", \"size\": \"100\"}, {\"y\": 250, \"x\": 8, \"shape\": \"triangle-up\", \"size\": \"100\"}, {\"y\": 90, \"x\": 8, \"shape\": \"triangle-up\", \"size\": \"100\"}, {\"y\": 175, \"x\": 12, \"shape\": \"triangle-up\", \"size\": \"100\"}, {\"y\": 320, \"x\": 11, \"shape\": \"triangle-up\", \"size\": \"100\"}, {\"y\": 405, \"x\": 13, \"shape\": \"triangle-up\", \"size\": \"100\"}, {\"y\": 400, \"x\": 17, \"shape\": \"triangle-up\", \"size\": \"100\"}, {\"y\": 385, \"x\": 12, \"shape\": \"triangle-up\", \"size\": \"100\"}, {\"y\": 420, \"x\": 15, \"shape\": \"triangle-up\", \"size\": \"100\"}, {\"y\": 260, \"x\": 23, \"shape\": \"triangle-up\", \"size\": \"100\"}, {\"y\": 630, \"x\": 24, \"shape\": \"triangle-up\", \"size\": \"100\"}, {\"y\": 675, \"x\": 17, \"shape\": \"triangle-up\", \"size\": \"100\"}, {\"y\": 800, \"x\": 24, \"shape\": \"triangle-up\", \"size\": \"100\"}, {\"y\": 680, \"x\": 22, \"shape\": \"triangle-up\", \"size\": \"100\"}, {\"y\": 900, \"x\": 27, \"shape\": \"triangle-up\", \"size\": \"100\"}, {\"y\": 950, \"x\": 27, \"shape\": \"triangle-up\", \"size\": \"100\"}, {\"y\": 700, \"x\": 24, \"shape\": \"triangle-up\", \"size\": \"100\"}, {\"y\": 945, \"x\": 23, \"shape\": \"triangle-up\", \"size\": \"100\"}, {\"y\": 990, \"x\": 23, \"shape\": \"triangle-up\", \"size\": \"100\"}, {\"y\": 230, \"x\": 31, \"shape\": \"triangle-up\", \"size\": \"100\"}, {\"y\": 720, \"x\": 25, \"shape\": \"triangle-up\", \"size\": \"100\"}, {\"y\": 625, \"x\": 28, \"shape\": \"triangle-up\", \"size\": \"100\"}, {\"y\": 390, \"x\": 28, \"shape\": \"triangle-up\", \"size\": \"100\"}, {\"y\": 1215, \"x\": 34, \"shape\": \"triangle-up\", \"size\": \"100\"}, {\"y\": 700, \"x\": 38, \"shape\": \"triangle-up\", \"size\": \"100\"}, {\"y\": 725, \"x\": 35, \"shape\": \"triangle-up\", \"size\": \"100\"}, {\"y\": 1200, \"x\": 38, \"shape\": \"triangle-up\", \"size\": \"100\"}, {\"y\": 310, \"x\": 37, \"shape\": \"triangle-up\", \"size\": \"100\"}, {\"y\": 1280, \"x\": 34, \"shape\": \"triangle-up\", \"size\": \"100\"}, {\"y\": 825, \"x\": 40, \"shape\": \"triangle-up\", \"size\": \"100\"}, {\"y\": 680, \"x\": 37, \"shape\": \"triangle-up\", \"size\": \"100\"}, {\"y\": 875, \"x\": 42, \"shape\": \"triangle-up\", \"size\": \"100\"}, {\"y\": 1800, \"x\": 38, \"shape\": \"triangle-up\", \"size\": \"100\"}, {\"y\": 1480, \"x\": 46, \"shape\": \"triangle-up\", \"size\": \"100\"}, {\"y\": 1140, \"x\": 42, \"shape\": \"triangle-up\", \"size\": \"100\"}, {\"y\": 1950, \"x\": 40, \"shape\": \"triangle-up\", \"size\": \"100\"}, {\"y\": 200, \"x\": 47, \"shape\": \"triangle-up\", \"size\": \"100\"}, {\"y\": 820, \"x\": 44, \"shape\": \"triangle-up\", \"size\": \"100\"}, {\"y\": 420, \"x\": 52, \"shape\": \"triangle-up\", \"size\": \"100\"}, {\"y\": 2150, \"x\": 44, \"shape\": \"triangle-up\", \"size\": \"100\"}, {\"y\": 440, \"x\": 47, \"shape\": \"triangle-up\", \"size\": \"100\"}, {\"y\": 900, \"x\": 48, \"shape\": \"triangle-up\", \"size\": \"100\"}, {\"y\": 1610, \"x\": 49, \"shape\": \"triangle-up\", \"size\": \"100\"}, {\"y\": 2350, \"x\": 52, \"shape\": \"triangle-up\", \"size\": \"100\"}, {\"y\": 240, \"x\": 57, \"shape\": \"triangle-up\", \"size\": \"100\"}, {\"y\": 2450, \"x\": 57, \"shape\": \"triangle-up\", \"size\": \"100\"}], \"key\": \"serie 3\", \"yAxis\": \"1\"}];\n",
       "\n",
       "\n",
       "        nv.addGraph(function() {\n",
       "        var chart = nv.models.scatterChart();\n",
       "\n",
       "        chart.margin({top: 30, right: 60, bottom: 20, left: 60});\n",
       "\n",
       "        var datum = data_scatterchart_1;\n",
       "\n",
       "\n",
       "\n",
       "                chart.xAxis\n",
       "                .tickFormat(d3.format(',.02f'));\n",
       "            chart.yAxis\n",
       "                .tickFormat(d3.format(',.02f'));\n",
       "\n",
       "\n",
       "\n",
       "          chart.showLegend(true);\n",
       "\n",
       "\n",
       "    \n",
       "\n",
       "        \n",
       "\n",
       "\n",
       "\n",
       "\n",
       "    chart\n",
       "        .showDistX(true)\n",
       "        .showDistY(true)\n",
       "        .color(d3.scale.category10().range());\n",
       "\n",
       "            d3.select('#scatterchart_1 svg')\n",
       "            .datum(datum)\n",
       "            .transition().duration(500)\n",
       "            .attr('width', 600)\n",
       "            .attr('height', 300)\n",
       "            .call(chart);\n",
       "\n",
       "\n",
       "        });\n",
       "\n",
       "\n",
       "\n",
       "    </script>\n",
       "\n",
       "    </body>\n",
       "</html>"
      ],
      "text/plain": [
       "<nvd3.scatterChart.scatterChart at 0x7f11104f7110>"
      ]
     },
     "execution_count": 13,
     "metadata": {},
     "output_type": "execute_result"
    }
   ],
   "source": [
    "chart = nvd3.scatterChart(name='scatterChart_1', width=600, height=300, x_is_date=False)\n",
    "nb_element = 50\n",
    "xdata = [i + random.randint(1, 10) for i in range(nb_element)]\n",
    "ydata = [i * random.randint(1, 10) for i in range(nb_element)]\n",
    "ydata2 = [x * 2 for x in ydata]\n",
    "ydata3 = [x * 5 for x in ydata]\n",
    "\n",
    "kwargs1 = {'shape': 'circle', 'size': '1'}\n",
    "kwargs2 = {'shape': 'cross', 'size': '10'}\n",
    "kwargs3 = {'shape': 'triangle-up', 'size': '100'}\n",
    "\n",
    "extra_serie = {\"tooltip\": {\"y_start\": \"\", \"y_end\": \" calls\"}}\n",
    "chart.add_serie(name=\"serie 1\", y=ydata, x=xdata, extra=extra_serie, **kwargs1)\n",
    "chart.add_serie(name=\"serie 2\", y=ydata2, x=xdata, extra=extra_serie, **kwargs2)\n",
    "chart.add_serie(name=\"serie 3\", y=ydata3, x=xdata, extra=extra_serie, **kwargs3)\n",
    "chart"
   ]
  },
  {
   "cell_type": "code",
   "execution_count": 14,
   "metadata": {
    "collapsed": false,
    "run_control": {
     "breakpoint": false,
     "read_only": false
    }
   },
   "outputs": [
    {
     "data": {
      "text/html": [
       "<!DOCTYPE html>\n",
       "<html lang=\"en\">\n",
       "    <head>\n",
       "        <meta charset=\"utf-8\" />\n",
       "        <link href=\"https://cdnjs.cloudflare.com/ajax/libs/nvd3/1.7.0/nv.d3.min.css\" rel=\"stylesheet\" />\n",
       "        <script src=\"https://cdnjs.cloudflare.com/ajax/libs/d3/3.5.5/d3.min.js\"></script>\n",
       "        <script src=\"https://cdnjs.cloudflare.com/ajax/libs/nvd3/1.7.0/nv.d3.min.js\"></script>\n",
       "    </head>\n",
       "    <body>\n",
       "        \n",
       "    \n",
       "\n",
       "<h2>pieChart</h2>\n",
       "\n",
       "<div id=\"piechart\"><svg style=\"width:450px;height:450px;\"></svg></div>\n",
       "\n",
       "\n",
       "    <script>\n",
       "\n",
       "\n",
       "\n",
       "    data_piechart=[{\"values\": [{\"value\": 3, \"label\": \"Orange\"}, {\"value\": 4, \"label\": \"Banana\"}, {\"value\": 0, \"label\": \"Pear\"}, {\"value\": 1, \"label\": \"Kiwi\"}, {\"value\": 5, \"label\": \"Apple\"}, {\"value\": 7, \"label\": \"Strawberry\"}, {\"value\": 3, \"label\": \"Pineapple\"}], \"key\": \"Serie 1\"}];\n",
       "\n",
       "    nv.addGraph(function() {\n",
       "        var chart = nv.models.pieChart();\n",
       "        chart.margin({top: 30, right: 60, bottom: 20, left: 60});\n",
       "        var datum = data_piechart[0].values;\n",
       "\n",
       "    chart.tooltipContent(function(key, y, e, graph) {\n",
       "          var x = String(key);\n",
       "              var y =  String(y)  + ' cal';\n",
       "\n",
       "              tooltip_str = '<center><b>'+x+'</b></center>' + y;\n",
       "              return tooltip_str;\n",
       "              });\n",
       "        chart.showLabels(true);\n",
       "\n",
       "            chart.donut(false);\n",
       "\n",
       "    chart.showLegend(true);\n",
       "\n",
       "\n",
       "\n",
       "\n",
       "        chart\n",
       "            .x(function(d) { return d.label })\n",
       "            .y(function(d) { return d.value });\n",
       "\n",
       "        chart.width(450);\n",
       "\n",
       "        chart.height(450);\n",
       "\n",
       "\n",
       "            d3.select('#piechart svg')\n",
       "            .datum(datum)\n",
       "            .transition().duration(500)\n",
       "            .attr('width', 450)\n",
       "            .attr('height', 450)\n",
       "            .call(chart);\n",
       "\n",
       "\n",
       "        });\n",
       "\n",
       "\n",
       "\n",
       "    </script>\n",
       "\n",
       "    </body>\n",
       "</html>"
      ],
      "text/plain": [
       "<nvd3.pieChart.pieChart at 0x7f1109732810>"
      ]
     },
     "execution_count": 14,
     "metadata": {},
     "output_type": "execute_result"
    }
   ],
   "source": [
    "type = 'pieChart'\n",
    "chart1 = nvd3.pieChart(name=type, color_category='category20c', height=450, width=450)\n",
    "chart1.set_containerheader(\"\\n\\n<h2>\" + type + \"</h2>\\n\\n\")\n",
    "\n",
    "#Create the keys\n",
    "xdata = [\"Orange\", \"Banana\", \"Pear\", \"Kiwi\", \"Apple\", \"Strawberry\", \"Pineapple\"]\n",
    "ydata = [3, 4, 0, 1, 5, 7, 3]\n",
    "\n",
    "#Add the serie\n",
    "extra_serie = {\"tooltip\": {\"y_start\": \"\", \"y_end\": \" cal\"}}\n",
    "chart1.add_serie(y=ydata, x=xdata, extra=extra_serie)\n",
    "chart1"
   ]
  }
 ],
 "metadata": {
  "kernelspec": {
   "display_name": "Python 2",
   "language": "python",
   "name": "python2"
  },
  "language_info": {
   "codemirror_mode": {
    "name": "ipython",
    "version": 2
   },
   "file_extension": ".py",
   "mimetype": "text/x-python",
   "name": "python",
   "nbconvert_exporter": "python",
   "pygments_lexer": "ipython2",
   "version": "2.7.9"
  }
 },
 "nbformat": 4,
 "nbformat_minor": 0
}
